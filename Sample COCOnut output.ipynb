{
 "cells": [
  {
   "cell_type": "code",
   "execution_count": 1,
   "metadata": {
    "colab": {
     "autoexec": {
      "startup": false,
      "wait_interval": 0
     }
    },
    "colab_type": "code",
    "id": "sx9e_pXlCuti",
    "papermill": {
     "duration": 0.020996,
     "end_time": "2019-09-19T12:50:59.042833",
     "exception": false,
     "start_time": "2019-09-19T12:50:59.021837",
     "status": "completed"
    },
    "tags": []
   },
   "outputs": [],
   "source": [
    "%load_ext autoreload\n",
    "%autoreload 2"
   ]
  },
  {
   "cell_type": "code",
   "execution_count": 2,
   "metadata": {
    "collapsed": false,
    "inputHidden": false,
    "outputHidden": false,
    "papermill": {
     "duration": 0.016184,
     "end_time": "2019-09-19T12:50:59.064714",
     "exception": false,
     "start_time": "2019-09-19T12:50:59.048530",
     "status": "completed"
    },
    "tags": [
     "parameters"
    ]
   },
   "outputs": [],
   "source": [
    "data_dir = '/home/adrian/data'\n",
    "data_split = 'val'\n",
    "downsize = 0.2\n",
    "\n",
    "classes = (\"person\", \"dog\", \"motorcycle\", \"bear\", \"knife\", \"apple\", \"bat\", \"kite\", \"giraffe\", \"cat\")"
   ]
  },
  {
   "cell_type": "code",
   "execution_count": 3,
   "metadata": {
    "papermill": {
     "duration": 0.015364,
     "end_time": "2019-09-19T12:50:59.085528",
     "exception": false,
     "start_time": "2019-09-19T12:50:59.070164",
     "status": "completed"
    },
    "tags": [
     "injected-parameters"
    ]
   },
   "outputs": [],
   "source": [
    "# Parameters\n",
    "data_split = \"train\"\n"
   ]
  },
  {
   "cell_type": "code",
   "execution_count": 4,
   "metadata": {
    "collapsed": false,
    "inputHidden": false,
    "outputHidden": false,
    "papermill": {
     "duration": 0.016017,
     "end_time": "2019-09-19T12:50:59.107005",
     "exception": false,
     "start_time": "2019-09-19T12:50:59.090988",
     "status": "completed"
    },
    "tags": []
   },
   "outputs": [],
   "source": [
    "annFile = f'{data_dir}/coco/annotations/instances_{data_split}2017.json'"
   ]
  },
  {
   "cell_type": "code",
   "execution_count": 5,
   "metadata": {
    "collapsed": false,
    "inputHidden": false,
    "outputHidden": false,
    "papermill": {
     "duration": 0.508961,
     "end_time": "2019-09-19T12:50:59.621375",
     "exception": false,
     "start_time": "2019-09-19T12:50:59.112414",
     "status": "completed"
    },
    "tags": []
   },
   "outputs": [],
   "source": [
    "%matplotlib inline\n",
    "from pycocotools.coco import COCO\n",
    "import numpy as np\n",
    "import skimage.io as io\n",
    "import matplotlib.pyplot as plt\n",
    "import pylab\n",
    "pylab.rcParams['figure.figsize'] = (8.0, 10.0)"
   ]
  },
  {
   "cell_type": "code",
   "execution_count": 6,
   "metadata": {
    "collapsed": false,
    "inputHidden": false,
    "outputHidden": false,
    "papermill": {
     "duration": 6212.015579,
     "end_time": "2019-09-19T14:34:31.642797",
     "exception": false,
     "start_time": "2019-09-19T12:50:59.627218",
     "status": "completed"
    },
    "tags": []
   },
   "outputs": [
    {
     "name": "stdout",
     "output_type": "stream",
     "text": [
      "loading annotations into memory...\n"
     ]
    },
    {
     "name": "stdout",
     "output_type": "stream",
     "text": [
      "Done (t=14.32s)\n",
      "creating index...\n"
     ]
    },
    {
     "name": "stdout",
     "output_type": "stream",
     "text": [
      "index created!\n"
     ]
    }
   ],
   "source": [
    "# initialize COCO api for instance annotations\n",
    "coco = COCO(annFile)\n",
    "\n",
    "for klass in classes:\n",
    "    %mkdir $data_dir/coconut/$data_split/$klass -p\n",
    "    catIds = coco.getCatIds(catNms=[klass])\n",
    "    imgIds = coco.getImgIds(catIds=catIds)\n",
    "    imgs = coco.loadImgs(imgIds)\n",
    "    \n",
    "    chosen_ids = np.random.choice(np.arange(len(imgs)), round(len(imgs) * downsize), replace=False)\n",
    "    for idx in chosen_ids:\n",
    "        imginfo = imgs[idx]\n",
    "        %cp $data_dir/coco/{data_split}2017/{imginfo['file_name']} $data_dir/coconut/$data_split/$klass/"
   ]
  }
 ],
 "metadata": {
  "accelerator": "GPU",
  "colab": {
   "default_view": {},
   "name": "Experiments_MNIST.ipynb",
   "provenance": [],
   "version": "0.3.2",
   "views": {}
  },
  "kernel_info": {
   "name": "python3"
  },
  "kernelspec": {
   "display_name": "Python 3",
   "language": "python",
   "name": "python3"
  },
  "language_info": {
   "codemirror_mode": {
    "name": "ipython",
    "version": 3
   },
   "file_extension": ".py",
   "mimetype": "text/x-python",
   "name": "python",
   "nbconvert_exporter": "python",
   "pygments_lexer": "ipython3",
   "version": "3.7.3"
  },
  "nteract": {
   "version": "0.14.5"
  },
  "papermill": {
   "duration": 6215.762541,
   "end_time": "2019-09-19T14:34:34.258844",
   "environment_variables": {},
   "exception": null,
   "input_path": "Sample COCOnut.ipynb",
   "output_path": "Sample COCOnut output.ipynb",
   "parameters": {
    "data_split": "train"
   },
   "start_time": "2019-09-19T12:50:58.496303",
   "version": "1.1.0"
  }
 },
 "nbformat": 4,
 "nbformat_minor": 2
}