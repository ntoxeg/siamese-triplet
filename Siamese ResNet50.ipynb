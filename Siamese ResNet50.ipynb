{
  "cells": [
    {
      "cell_type": "code",
      "source": [
        "%load_ext autoreload\n",
        "%autoreload 2"
      ],
      "outputs": [],
      "execution_count": 1,
      "metadata": {
        "colab": {
          "autoexec": {
            "startup": false,
            "wait_interval": 0
          }
        },
        "colab_type": "code",
        "id": "sx9e_pXlCuti"
      }
    },
    {
      "cell_type": "code",
      "source": [
        "data_dir='data'\n",
        "data_split='val'\n",
        "classes = ('person', 'bicycle', 'car', 'motorcycle', 'airplane', 'bus', 'train', 'truck', 'boat', 'traffic light', 'fire hydrant', 'stop sign', 'parking meter', 'bench', 'bird', 'cat', 'dog', 'horse', 'sheep', 'cow', 'elephant', 'bear', 'zebra', 'giraffe', 'backpack', 'umbrella', 'handbag', 'tie', 'suitcase', 'frisbee', 'skis', 'snowboard', 'sports ball', 'kite', 'baseball bat', 'baseball glove', 'skateboard', 'surfboard', 'tennis racket', 'bottle', 'wine glass', 'cup', 'fork', 'knife', 'spoon', 'bowl', 'banana', 'apple', 'sandwich', 'orange', 'broccoli', 'carrot', 'hot dog', 'pizza', 'donut', 'cake', 'chair', 'couch', 'potted plant', 'bed', 'dining table', 'toilet', 'tv', 'laptop', 'mouse', 'remote', 'keyboard', 'cell phone', 'microwave', 'oven', 'toaster', 'sink', 'refrigerator', 'book', 'clock', 'vase', 'scissors', 'teddy bear', 'hair drier', 'toothbrush')\n",
        "n_epochs = 1\n",
        "emsize = 32\n",
        "batch_size = 2\n",
        "margin = 1."
      ],
      "outputs": [],
      "execution_count": 2,
      "metadata": {
        "collapsed": false,
        "outputHidden": false,
        "inputHidden": false,
        "tags": [
          "parameters"
        ]
      }
    },
    {
      "cell_type": "code",
      "source": [
        "import torch.utils.data as data\n",
        "from PIL import Image\n",
        "import os\n",
        "from datasets import ImageDataset, COCODataset\n",
        "from sklearn.manifold import TSNE\n",
        "from sklearn.preprocessing import StandardScaler\n",
        "\n",
        "from fastai.vision import *"
      ],
      "outputs": [],
      "execution_count": 3,
      "metadata": {
        "collapsed": false,
        "outputHidden": false,
        "inputHidden": false
      }
    },
    {
      "cell_type": "code",
      "source": [
        "from torchvision import transforms\n",
        "import torch.nn.functional as F\n",
        "import torch\n",
        "\n",
        "def pad_to_size(img: torch.Tensor, size):\n",
        "    padded = torch.zeros(img.shape[0], size[1], size[0])\n",
        "    padded[:, :img.shape[1], :img.shape[2]] = img\n",
        "    return padded\n",
        "\n",
        "mean, std = 0.1307, 0.3081\n",
        "tfms = transforms.Compose([\n",
        "    transforms.ToTensor(),\n",
        "    transforms.Normalize((mean,), (std,)),\n",
        "    lambda x: pad_to_size(x, (512, 512))\n",
        "])\n",
        "train_dataset = ImageDataset(\n",
        "    f\"{data_dir}/classy_coconut/train\",\n",
        "    classes,\n",
        "    tfms=tfms\n",
        ")\n",
        "val_dataset = ImageDataset(\n",
        "    f\"{data_dir}/classy_coconut/val\",\n",
        "    classes,\n",
        "    tfms=tfms\n",
        ")\n",
        "n_classes = len(classes)\n",
        "\n",
        "print(len(train_dataset))\n",
        "print(len(val_dataset))"
      ],
      "outputs": [
        {
          "output_type": "stream",
          "name": "stdout",
          "text": [
            "67093\n",
            "14005\n"
          ]
        }
      ],
      "execution_count": 4,
      "metadata": {
        "collapsed": false,
        "outputHidden": false,
        "inputHidden": false
      }
    },
    {
      "cell_type": "code",
      "source": [
        "# Set up data loaders\n",
        "from datasets import SiameseImage\n",
        "\n",
        "siamese_train_dataset = SiameseImage(train_dataset, True) # Returns pairs of images and target same/different\n",
        "siamese_val_dataset = SiameseImage(val_dataset, False)\n",
        "# kwargs = {'num_workers': 1, 'pin_memory': True} if cuda else {}\n",
        "# siamese_train_loader = torch.utils.data.DataLoader(siamese_train_dataset, batch_size=batch_size, shuffle=True, **kwargs)\n",
        "# siamese_dev_loader = torch.utils.data.DataLoader(siamese_dev_dataset, batch_size=batch_size, shuffle=False, **kwargs)\n",
        "\n",
        "# Set up the network and training parameters\n",
        "from networks import EmbeddingNet, SiameseNet\n",
        "from losses import ContrastiveLoss\n",
        "\n",
        "# cuda = torch.cuda.is_available()\n",
        "embedding_net = EmbeddingNet(emsize=emsize)\n",
        "model = SiameseNet(embedding_net)\n",
        "# if cuda:\n",
        "#     model.cuda()\n",
        "loss_fn = ContrastiveLoss(margin)\n",
        "# lr = 1e-3\n",
        "# optimizer = optim.Adam(model.parameters(), lr=lr)\n",
        "# scheduler = lr_scheduler.StepLR(optimizer, 8, gamma=0.1, last_epoch=-1)\n",
        "# log_interval = 100"
      ],
      "outputs": [],
      "execution_count": 5,
      "metadata": {
        "collapsed": false,
        "outputHidden": false,
        "inputHidden": false
      }
    },
    {
      "cell_type": "code",
      "source": [
        "from datasets import SiameseImageList\n",
        "lls = SiameseImageList.from_datasets(siamese_train_dataset, siamese_val_dataset)"
      ],
      "outputs": [],
      "execution_count": 6,
      "metadata": {
        "collapsed": false,
        "outputHidden": false,
        "inputHidden": false
      }
    },
    {
      "cell_type": "code",
      "source": [
        "dbunch = (lls\n",
        "          .transform(get_transforms())\n",
        "          .databunch(bs=batch_size, device=0, num_workers=8)\n",
        "#           .normalize((mean, std))\n",
        "         )"
      ],
      "outputs": [],
      "execution_count": 7,
      "metadata": {
        "collapsed": false,
        "outputHidden": false,
        "inputHidden": false
      }
    },
    {
      "cell_type": "code",
      "source": [
        "learner = Learner(dbunch, model, loss_func=loss_fn)"
      ],
      "outputs": [],
      "execution_count": 8,
      "metadata": {
        "collapsed": false,
        "outputHidden": false,
        "inputHidden": false
      }
    },
    {
      "cell_type": "code",
      "source": [
        "learner.fit_one_cycle(n_epochs, 1e-3)\n",
        "learner.save(\"asdf\")"
      ],
      "outputs": [],
      "execution_count": null,
      "metadata": {
        "collapsed": false,
        "outputHidden": false,
        "inputHidden": false
      }
    }
  ],
  "metadata": {
    "accelerator": "GPU",
    "colab": {
      "default_view": {},
      "name": "Experiments_MNIST.ipynb",
      "provenance": [],
      "version": "0.3.2",
      "views": {}
    },
    "kernelspec": {
      "name": "python3",
      "language": "python",
      "display_name": "Python 3"
    },
    "language_info": {
      "name": "python",
      "version": "3.7.4",
      "mimetype": "text/x-python",
      "codemirror_mode": {
        "name": "ipython",
        "version": 3
      },
      "pygments_lexer": "ipython3",
      "nbconvert_exporter": "python",
      "file_extension": ".py"
    },
    "kernel_info": {
      "name": "python3"
    },
    "nteract": {
      "version": "0.14.5"
    }
  },
  "nbformat": 4,
  "nbformat_minor": 2
}