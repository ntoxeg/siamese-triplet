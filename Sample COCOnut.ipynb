{
  "cells": [
    {
      "cell_type": "code",
      "source": [
        "%load_ext autoreload\n",
        "%autoreload 2"
      ],
      "outputs": [],
      "execution_count": 1,
      "metadata": {
        "colab": {
          "autoexec": {
            "startup": false,
            "wait_interval": 0
          }
        },
        "colab_type": "code",
        "id": "sx9e_pXlCuti"
      }
    },
    {
      "cell_type": "code",
      "source": [
        "data_dir = '/home/adrian/data'\n",
        "data_split = 'val'\n",
        "downsize = 0.2\n",
        "classes = (\"person\", \"dog\", \"motorcycle\", \"bear\", \"knife\", \"apple\", \"baseball bat\", \"kite\", \"giraffe\", \"cat\")"
      ],
      "outputs": [],
      "execution_count": null,
      "metadata": {
        "collapsed": false,
        "outputHidden": false,
        "inputHidden": false,
        "tags": [
          "parameters"
        ]
      }
    },
    {
      "cell_type": "code",
      "source": [
        "annFile = f'{data_dir}/coco/annotations/instances_{data_split}2017.json'"
      ],
      "outputs": [],
      "execution_count": null,
      "metadata": {
        "collapsed": false,
        "outputHidden": false,
        "inputHidden": false
      }
    },
    {
      "cell_type": "code",
      "source": [
        "%matplotlib inline\n",
        "from pycocotools.coco import COCO\n",
        "import numpy as np\n",
        "import skimage.io as io\n",
        "import matplotlib.pyplot as plt\n",
        "import pylab\n",
        "pylab.rcParams['figure.figsize'] = (8.0, 10.0)"
      ],
      "outputs": [],
      "execution_count": null,
      "metadata": {
        "collapsed": false,
        "outputHidden": false,
        "inputHidden": false
      }
    },
    {
      "cell_type": "code",
      "source": [
        "# initialize COCO api for instance annotations\n",
        "coco = COCO(annFile)\n",
        "\n",
        "for klass in classes:\n",
        "    %mkdir $data_dir/coconut/$data_split/$klass -p\n",
        "    catIds = coco.getCatIds(catNms=[klass])\n",
        "    imgIds = coco.getImgIds(catIds=catIds)\n",
        "    imgs = coco.loadImgs(imgIds)\n",
        "    \n",
        "    chosen_ids = np.random.choice(np.arange(len(imgs)), round(len(imgs) * downsize), replace=False)\n",
        "    for idx in chosen_ids:\n",
        "        imginfo = imgs[idx]\n",
        "        %cp $data_dir/coco/{data_split}2017/{imginfo['file_name']} $data_dir/coconut/$data_split/$klass/"
      ],
      "outputs": [],
      "execution_count": null,
      "metadata": {
        "collapsed": false,
        "outputHidden": false,
        "inputHidden": false
      }
    }
  ],
  "metadata": {
    "accelerator": "GPU",
    "colab": {
      "default_view": {},
      "name": "Experiments_MNIST.ipynb",
      "provenance": [],
      "version": "0.3.2",
      "views": {}
    },
    "kernelspec": {
      "name": "python3",
      "language": "python",
      "display_name": "Python 3"
    },
    "language_info": {
      "name": "python",
      "version": "3.7.4",
      "mimetype": "text/x-python",
      "codemirror_mode": {
        "name": "ipython",
        "version": 3
      },
      "pygments_lexer": "ipython3",
      "nbconvert_exporter": "python",
      "file_extension": ".py"
    },
    "kernel_info": {
      "name": "python3"
    },
    "nteract": {
      "version": "0.14.5"
    }
  },
  "nbformat": 4,
  "nbformat_minor": 2
}