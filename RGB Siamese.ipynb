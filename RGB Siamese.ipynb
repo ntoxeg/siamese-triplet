{
  "cells": [
    {
      "cell_type": "code",
      "source": [
        "%load_ext autoreload\n",
        "%autoreload 2"
      ],
      "outputs": [],
      "execution_count": 1,
      "metadata": {
        "colab": {
          "autoexec": {
            "startup": false,
            "wait_interval": 0
          }
        },
        "colab_type": "code",
        "id": "sx9e_pXlCuti"
      }
    },
    {
      "cell_type": "code",
      "source": [
        "CENTERNET_TASK = \"ctdet\"\n",
        "CENTERNET_MODEL_PATH = \"/home/adrian/projects/CenterNet/models/ctdet_coco_dla_2x.pth\"\n",
        "\n",
        "data_dir='/home/adrian/data'\n",
        "data_split='val2017'\n",
        "annFile=f'{data_dir}/coco/annotations/instances_{data_split}.json'\n",
        "\n",
        "classes = (\"person\", \"dog\", \"motorcycle\", \"bear\")"
      ],
      "outputs": [],
      "execution_count": null,
      "metadata": {
        "collapsed": false,
        "outputHidden": false,
        "inputHidden": false,
        "tags": [
          "parameters"
        ]
      }
    },
    {
      "cell_type": "code",
      "source": [
        "import torch.utils.data as data\n",
        "from PIL import Image\n",
        "import os\n",
        "from datasets import ImageDataset, COCODataset"
      ],
      "outputs": [],
      "execution_count": null,
      "metadata": {
        "collapsed": false,
        "outputHidden": false,
        "inputHidden": false
      }
    },
    {
      "cell_type": "code",
      "source": [
        "from torchvision import transforms\n",
        "import torch.nn.functional as F\n",
        "import torch\n",
        "\n",
        "def pad_to_size(img: torch.Tensor, size):\n",
        "    padded = torch.zeros(img.shape[0], size[1], size[0])\n",
        "    padded[:, :img.shape[1], :img.shape[2]] = img\n",
        "    return padded\n",
        "\n",
        "mean, std = 0.1307, 0.3081\n",
        "train_dataset = ImageDataset(\"/home/adrian/data/classy_coconut/train\",\n",
        "                             classes,\n",
        "                               tfm=transforms.Compose([\n",
        "                                 transforms.Normalize((mean,), (std,)),\n",
        "                                 lambda x: pad_to_size(x, (512, 512))\n",
        "                             ]))\n",
        "dev_dataset = ImageDataset('/home/adrian/data/classy_coconut/dev',\n",
        "                            classes,\n",
        "                            tfm=transforms.Compose([\n",
        "                                transforms.Normalize((mean,), (std,)),\n",
        "                                lambda x: pad_to_size(x, (512, 512))\n",
        "                            ]))\n",
        "n_classes = len(classes)"
      ],
      "outputs": [],
      "execution_count": null,
      "metadata": {
        "collapsed": false,
        "outputHidden": false,
        "inputHidden": false
      }
    },
    {
      "cell_type": "code",
      "source": [
        "print(len(train_dataset))\n",
        "print(len(dev_dataset))"
      ],
      "outputs": [],
      "execution_count": null,
      "metadata": {
        "collapsed": false,
        "outputHidden": false,
        "inputHidden": false
      }
    },
    {
      "cell_type": "code",
      "source": [
        "import torch\n",
        "from torch.optim import lr_scheduler\n",
        "import torch.optim as optim\n",
        "from torch.autograd import Variable\n",
        "\n",
        "from trainer import fit\n",
        "import numpy as np\n",
        "cuda = torch.cuda.is_available()\n",
        "\n",
        "%matplotlib inline\n",
        "import matplotlib\n",
        "import matplotlib.pyplot as plt\n",
        "\n",
        "colors = ['#1f77b4', '#ff7f0e', '#2ca02c', '#d62728',\n",
        "              '#9467bd', '#8c564b', '#e377c2', '#7f7f7f',\n",
        "              '#bcbd22', '#17becf', '#800080', '#808000', '#F08080']\n",
        "\n",
        "def plot_embeddings(embeddings, targets, xlim=None, ylim=None):\n",
        "    plt.figure(figsize=(10,10))\n",
        "    for i in range(n_classes):\n",
        "        inds = np.where(targets==i)[0]\n",
        "        plt.scatter(embeddings[inds,0], embeddings[inds,1], alpha=0.5, color=colors[i])\n",
        "    if xlim:\n",
        "        plt.xlim(xlim[0], xlim[1])\n",
        "    if ylim:\n",
        "        plt.ylim(ylim[0], ylim[1])\n",
        "    plt.legend(classes)\n",
        "\n",
        "def extract_embeddings(dataloader, model):\n",
        "    with torch.no_grad():\n",
        "        model.eval()\n",
        "        embeddings = np.zeros((len(dataloader.dataset), 2))\n",
        "        labels = np.zeros(len(dataloader.dataset))\n",
        "        k = 0\n",
        "        for images, target in dataloader:\n",
        "            if cuda:\n",
        "                images = images.cuda()\n",
        "            embeddings[k:k+len(images)] = model.get_embedding(images).data.cpu().numpy()\n",
        "            labels[k:k+len(images)] = target.numpy()\n",
        "            k += len(images)\n",
        "    return embeddings, labels"
      ],
      "outputs": [],
      "execution_count": null,
      "metadata": {
        "collapsed": false,
        "outputHidden": false,
        "inputHidden": false
      }
    },
    {
      "cell_type": "code",
      "source": [
        "# Set up data loaders\n",
        "from datasets import SiameseImage\n",
        "\n",
        "siamese_train_dataset = SiameseImage(train_dataset, True) # Returns pairs of images and target same/different\n",
        "siamese_dev_dataset = SiameseImage(dev_dataset, False)\n",
        "batch_size = 2\n",
        "kwargs = {'num_workers': 1, 'pin_memory': True} if cuda else {}\n",
        "siamese_train_loader = torch.utils.data.DataLoader(siamese_train_dataset, batch_size=batch_size, shuffle=True, **kwargs)\n",
        "siamese_dev_loader = torch.utils.data.DataLoader(siamese_dev_dataset, batch_size=batch_size, shuffle=False, **kwargs)\n",
        "\n",
        "# Set up the network and training parameters\n",
        "from networks import EmbeddingNet, SiameseNet\n",
        "from losses import ContrastiveLoss\n",
        "\n",
        "margin = 1.\n",
        "embedding_net = EmbeddingNet()\n",
        "model = SiameseNet(embedding_net)\n",
        "if cuda:\n",
        "    model.cuda()\n",
        "loss_fn = ContrastiveLoss(margin)\n",
        "lr = 1e-3\n",
        "optimizer = optim.Adam(model.parameters(), lr=lr)\n",
        "scheduler = lr_scheduler.StepLR(optimizer, 8, gamma=0.1, last_epoch=-1)\n",
        "n_epochs = 20\n",
        "log_interval = 100"
      ],
      "outputs": [],
      "execution_count": null,
      "metadata": {
        "collapsed": false,
        "outputHidden": false,
        "inputHidden": false
      }
    },
    {
      "cell_type": "code",
      "source": [
        "fit(siamese_train_loader, siamese_dev_loader, model, loss_fn, optimizer, scheduler, n_epochs, cuda, log_interval)"
      ],
      "outputs": [],
      "execution_count": null,
      "metadata": {
        "collapsed": false,
        "outputHidden": false,
        "inputHidden": false
      }
    },
    {
      "cell_type": "code",
      "source": [
        "train_embeddings_cl, train_labels_cl = extract_embeddings(train_loader, model)\n",
        "plot_embeddings(train_embeddings_cl, train_labels_cl)\n",
        "val_embeddings_cl, val_labels_cl = extract_embeddings(dev_loader, model)\n",
        "plot_embeddings(val_embeddings_cl, val_labels_cl)"
      ],
      "outputs": [],
      "execution_count": null,
      "metadata": {
        "collapsed": false,
        "outputHidden": false,
        "inputHidden": false
      }
    },
    {
      "cell_type": "code",
      "source": [
        "torch.save(model.state_dict(), \"siamese_rgb.pth\")"
      ],
      "outputs": [],
      "execution_count": null,
      "metadata": {
        "collapsed": false,
        "outputHidden": false,
        "inputHidden": false
      }
    }
  ],
  "metadata": {
    "accelerator": "GPU",
    "colab": {
      "default_view": {},
      "name": "Experiments_MNIST.ipynb",
      "provenance": [],
      "version": "0.3.2",
      "views": {}
    },
    "kernelspec": {
      "name": "python3",
      "language": "python",
      "display_name": "Python 3"
    },
    "language_info": {
      "name": "python",
      "version": "3.7.4",
      "mimetype": "text/x-python",
      "codemirror_mode": {
        "name": "ipython",
        "version": 3
      },
      "pygments_lexer": "ipython3",
      "nbconvert_exporter": "python",
      "file_extension": ".py"
    },
    "kernel_info": {
      "name": "python3"
    },
    "nteract": {
      "version": "0.14.5"
    }
  },
  "nbformat": 4,
  "nbformat_minor": 2
}