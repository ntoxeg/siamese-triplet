{
  "cells": [
    {
      "cell_type": "code",
      "source": [
        "%load_ext autoreload\n",
        "%autoreload 2"
      ],
      "outputs": [],
      "execution_count": 1,
      "metadata": {
        "colab": {
          "autoexec": {
            "startup": false,
            "wait_interval": 0
          }
        },
        "colab_type": "code",
        "id": "sx9e_pXlCuti",
        "papermill": {
          "duration": 0.033656,
          "end_time": "2019-09-16T12:39:27.607352",
          "exception": false,
          "start_time": "2019-09-16T12:39:27.573696",
          "status": "completed"
        },
        "tags": []
      }
    },
    {
      "cell_type": "markdown",
      "source": [
        "# Experiments\n",
        "We'll go through learning feature embeddings using different loss functions on MNIST dataset. This is just for visualization purposes, thus we'll be using 2-dimensional embeddings which isn't the best choice in practice.\n",
        "\n",
        "For every experiment the same embedding network is used (32 conv 5x5 -> PReLU -> MaxPool 2x2 -> 64 conv 5x5 -> PReLU -> MaxPool 2x2 -> Dense 256 -> PReLU -> Dense 256 -> PReLU -> Dense 2) and we don't do any hyperparameter search."
      ],
      "metadata": {
        "colab_type": "text",
        "id": "UMMut8UVCutt",
        "papermill": {
          "duration": 0.010324,
          "end_time": "2019-09-16T12:39:27.631942",
          "exception": false,
          "start_time": "2019-09-16T12:39:27.621618",
          "status": "completed"
        },
        "tags": []
      }
    },
    {
      "cell_type": "markdown",
      "source": [
        "# Prepare dataset\n",
        "We'll be working on our pictures of various UI widgets."
      ],
      "metadata": {
        "colab_type": "text",
        "id": "BcmGBqXeCutw",
        "papermill": {
          "duration": 0.010773,
          "end_time": "2019-09-16T12:39:27.653157",
          "exception": false,
          "start_time": "2019-09-16T12:39:27.642384",
          "status": "completed"
        },
        "tags": []
      }
    },
    {
      "cell_type": "code",
      "source": [
        "import torch.utils.data as data\n",
        "from PIL import Image\n",
        "import os\n",
        "from datasets import WidgetsDataset"
      ],
      "outputs": [],
      "execution_count": 2,
      "metadata": {
        "collapsed": false,
        "inputHidden": false,
        "outputHidden": false,
        "papermill": {
          "duration": 0.234333,
          "end_time": "2019-09-16T12:39:27.897857",
          "exception": false,
          "start_time": "2019-09-16T12:39:27.663524",
          "status": "completed"
        },
        "tags": []
      }
    },
    {
      "cell_type": "code",
      "source": [
        "from torchvision import transforms\n",
        "import torch.nn.functional as F\n",
        "import torch\n",
        "\n",
        "def pad_to_size(img: torch.Tensor, size):\n",
        "    padded = torch.zeros(img.shape[0], size[1], size[0])\n",
        "    padded[:, :img.shape[1], :img.shape[2]] = img\n",
        "    return padded\n",
        "\n",
        "mean, std = 0.1307, 0.3081\n",
        "train_dataset = WidgetsDataset(\"/home/adrian/data/Widgets/train\",\n",
        "                               tfm=transforms.Compose([\n",
        "                                 transforms.Normalize((mean,), (std,)),\n",
        "                                 lambda x: pad_to_size(x, (1000, 200))\n",
        "                             ]))\n",
        "test_dataset = WidgetsDataset('/home/adrian/data/Widgets/dev',\n",
        "                            tfm=transforms.Compose([\n",
        "                                transforms.Normalize((mean,), (std,)),\n",
        "                                lambda x: pad_to_size(x, (1000, 200))\n",
        "                            ]))\n",
        "n_classes = 13"
      ],
      "outputs": [],
      "execution_count": 3,
      "metadata": {
        "colab": {
          "autoexec": {
            "startup": false,
            "wait_interval": 0
          }
        },
        "colab_type": "code",
        "id": "AQSHPH9P0BNx",
        "papermill": {
          "duration": 0.178716,
          "end_time": "2019-09-16T12:39:28.091714",
          "exception": false,
          "start_time": "2019-09-16T12:39:27.912998",
          "status": "completed"
        },
        "tags": []
      }
    },
    {
      "cell_type": "markdown",
      "source": [
        "## Common setup"
      ],
      "metadata": {
        "colab_type": "text",
        "id": "TcZTFRnjCut3",
        "papermill": {
          "duration": 0.013385,
          "end_time": "2019-09-16T12:39:28.177435",
          "exception": false,
          "start_time": "2019-09-16T12:39:28.164050",
          "status": "completed"
        },
        "tags": []
      }
    },
    {
      "cell_type": "code",
      "source": [
        "import torch\n",
        "from torch.optim import lr_scheduler\n",
        "import torch.optim as optim\n",
        "from torch.autograd import Variable\n",
        "\n",
        "from trainer import fit\n",
        "import numpy as np\n",
        "cuda = torch.cuda.is_available()\n",
        "\n",
        "%matplotlib inline\n",
        "import matplotlib\n",
        "import matplotlib.pyplot as plt\n",
        "\n",
        "widget_classes = ['back_button', 'browser_address', 'browser_bookmark', 'browser_tab', 'button', 'checkbox', 'close_button', 'menu', 'minimize_button', 'next_button', 'slider', 'text_field', 'text_object']\n",
        "colors = ['#1f77b4', '#ff7f0e', '#2ca02c', '#d62728',\n",
        "              '#9467bd', '#8c564b', '#e377c2', '#7f7f7f',\n",
        "              '#bcbd22', '#17becf', '#800080', '#808000', '#F08080']\n",
        "\n",
        "def plot_embeddings(embeddings, targets, xlim=None, ylim=None):\n",
        "    plt.figure(figsize=(10,10))\n",
        "    for i in range(13):\n",
        "        inds = np.where(targets==i)[0]\n",
        "        plt.scatter(embeddings[inds,0], embeddings[inds,1], alpha=0.5, color=colors[i])\n",
        "    if xlim:\n",
        "        plt.xlim(xlim[0], xlim[1])\n",
        "    if ylim:\n",
        "        plt.ylim(ylim[0], ylim[1])\n",
        "    plt.legend(widget_classes)\n",
        "\n",
        "def extract_embeddings(dataloader, model):\n",
        "    with torch.no_grad():\n",
        "        model.eval()\n",
        "        embeddings = np.zeros((len(dataloader.dataset), 2))\n",
        "        labels = np.zeros(len(dataloader.dataset))\n",
        "        k = 0\n",
        "        for images, target in dataloader:\n",
        "            if cuda:\n",
        "                images = images.cuda()\n",
        "            embeddings[k:k+len(images)] = model.get_embedding(images).data.cpu().numpy()\n",
        "            labels[k:k+len(images)] = target.numpy()\n",
        "            k += len(images)\n",
        "    return embeddings, labels"
      ],
      "outputs": [],
      "execution_count": 5,
      "metadata": {
        "colab": {
          "autoexec": {
            "startup": false,
            "wait_interval": 0
          }
        },
        "colab_type": "code",
        "id": "Dz2xh66UCut5",
        "papermill": {
          "duration": 0.208599,
          "end_time": "2019-09-16T12:39:28.399615",
          "exception": false,
          "start_time": "2019-09-16T12:39:28.191016",
          "status": "completed"
        },
        "tags": []
      }
    },
    {
      "cell_type": "markdown",
      "source": [
        "# Baseline: Classification with softmax\n",
        "We'll train the model for classification and use outputs of penultimate layer as embeddings"
      ],
      "metadata": {
        "colab_type": "text",
        "id": "75moY8AyCut_",
        "papermill": {
          "duration": 0.010739,
          "end_time": "2019-09-16T12:39:28.421369",
          "exception": false,
          "start_time": "2019-09-16T12:39:28.410630",
          "status": "completed"
        },
        "tags": []
      }
    },
    {
      "cell_type": "code",
      "source": [
        "# Set up data loaders\n",
        "batch_size = 8\n",
        "kwargs = {'num_workers': 1, 'pin_memory': True} if cuda else {}\n",
        "train_loader = torch.utils.data.DataLoader(train_dataset, batch_size=batch_size, shuffle=True, **kwargs)\n",
        "test_loader = torch.utils.data.DataLoader(test_dataset, batch_size=batch_size, shuffle=False, **kwargs)\n",
        "\n",
        "# Set up the network and training parameters\n",
        "from networks import EmbeddingNet, ClassificationNet\n",
        "from metrics import AccumulatedAccuracyMetric\n",
        "\n",
        "embedding_net = EmbeddingNet()\n",
        "model = ClassificationNet(embedding_net, n_classes=n_classes)\n",
        "if cuda:\n",
        "    model.cuda()\n",
        "loss_fn = torch.nn.NLLLoss()\n",
        "lr = 1e-2\n",
        "optimizer = optim.Adam(model.parameters(), lr=lr)\n",
        "scheduler = lr_scheduler.StepLR(optimizer, 8, gamma=0.1, last_epoch=-1)\n",
        "n_epochs = 20\n",
        "log_interval = 50"
      ],
      "outputs": [],
      "execution_count": 6,
      "metadata": {
        "colab": {
          "autoexec": {
            "startup": false,
            "wait_interval": 0
          }
        },
        "colab_type": "code",
        "id": "95Q40yq0CuuB",
        "papermill": {
          "duration": 2.932288,
          "end_time": "2019-09-16T12:39:31.364377",
          "exception": false,
          "start_time": "2019-09-16T12:39:28.432089",
          "status": "completed"
        },
        "tags": []
      }
    },
    {
      "cell_type": "code",
      "source": [
        "fit(train_loader, test_loader, model, loss_fn, optimizer, scheduler, n_epochs, cuda, log_interval, metrics=[AccumulatedAccuracyMetric()])"
      ],
      "outputs": [
        {
          "output_type": "stream",
          "name": "stderr",
          "text": [
            "/home/adrian/miniconda3/envs/julia/lib/python3.7/site-packages/torch/optim/lr_scheduler.py:82: UserWarning: Detected call of `lr_scheduler.step()` before `optimizer.step()`. In PyTorch 1.1.0 and later, you should call them in the opposite order: `optimizer.step()` before `lr_scheduler.step()`.  Failure to do this will result in PyTorch skipping the first value of the learning rate schedule.See more details at https://pytorch.org/docs/stable/optim.html#how-to-adjust-learning-rate\n",
            "  \"https://pytorch.org/docs/stable/optim.html#how-to-adjust-learning-rate\", UserWarning)\n"
          ]
        },
        {
          "output_type": "stream",
          "name": "stdout",
          "text": [
            "Train: [0/347 (0%)]\tLoss: 2.573555\tAccuracy: 12.5\n"
          ]
        },
        {
          "output_type": "stream",
          "name": "stdout",
          "text": [
            "Epoch: 1/20. Train set: Average loss: 114.5298\tAccuracy: 4.322766570605188\n",
            "Epoch: 1/20. Validation set: Average loss: 3.2155\tAccuracy: 6.25\n"
          ]
        },
        {
          "output_type": "stream",
          "name": "stdout",
          "text": [
            "Train: [0/347 (0%)]\tLoss: 2.370544\tAccuracy: 0.0\n"
          ]
        },
        {
          "output_type": "stream",
          "name": "stdout",
          "text": [
            "Epoch: 2/20. Train set: Average loss: 5.7737\tAccuracy: 6.340057636887608\n",
            "Epoch: 2/20. Validation set: Average loss: 6.2503\tAccuracy: 11.25\n"
          ]
        },
        {
          "output_type": "stream",
          "name": "stdout",
          "text": [
            "Train: [0/347 (0%)]\tLoss: 2.702368\tAccuracy: 12.5\n"
          ]
        },
        {
          "output_type": "stream",
          "name": "stdout",
          "text": [
            "Epoch: 3/20. Train set: Average loss: 6.6964\tAccuracy: 10.951008645533141\n",
            "Epoch: 3/20. Validation set: Average loss: 11.2165\tAccuracy: 6.25\n"
          ]
        },
        {
          "output_type": "stream",
          "name": "stdout",
          "text": [
            "Train: [0/347 (0%)]\tLoss: 3.003068\tAccuracy: 0.0\n"
          ]
        },
        {
          "output_type": "stream",
          "name": "stdout",
          "text": [
            "Epoch: 4/20. Train set: Average loss: 2.8574\tAccuracy: 24.207492795389047\n",
            "Epoch: 4/20. Validation set: Average loss: 13.8431\tAccuracy: 8.75\n"
          ]
        },
        {
          "output_type": "stream",
          "name": "stdout",
          "text": [
            "Train: [0/347 (0%)]\tLoss: 46.098763\tAccuracy: 37.5\n"
          ]
        },
        {
          "output_type": "stream",
          "name": "stdout",
          "text": [
            "Epoch: 5/20. Train set: Average loss: 55.4075\tAccuracy: 14.409221902017292\n",
            "Epoch: 5/20. Validation set: Average loss: 2.8023\tAccuracy: 6.25\n"
          ]
        },
        {
          "output_type": "stream",
          "name": "stdout",
          "text": [
            "Train: [0/347 (0%)]\tLoss: 2.615710\tAccuracy: 25.0\n"
          ]
        },
        {
          "output_type": "stream",
          "name": "stdout",
          "text": [
            "Epoch: 6/20. Train set: Average loss: 5.4017\tAccuracy: 13.832853025936599\n",
            "Epoch: 6/20. Validation set: Average loss: 3.7402\tAccuracy: 15.0\n"
          ]
        },
        {
          "output_type": "stream",
          "name": "stdout",
          "text": [
            "Train: [0/347 (0%)]\tLoss: 2.814073\tAccuracy: 0.0\n"
          ]
        },
        {
          "output_type": "stream",
          "name": "stdout",
          "text": [
            "Epoch: 7/20. Train set: Average loss: 2.4804\tAccuracy: 28.530259365994237\n",
            "Epoch: 7/20. Validation set: Average loss: 2.5788\tAccuracy: 13.75\n"
          ]
        },
        {
          "output_type": "stream",
          "name": "stdout",
          "text": [
            "Train: [0/347 (0%)]\tLoss: 2.758895\tAccuracy: 12.5\n"
          ]
        },
        {
          "output_type": "stream",
          "name": "stdout",
          "text": [
            "Epoch: 8/20. Train set: Average loss: 2.1300\tAccuracy: 32.85302593659942\n",
            "Epoch: 8/20. Validation set: Average loss: 2.4687\tAccuracy: 16.25\n"
          ]
        },
        {
          "output_type": "stream",
          "name": "stdout",
          "text": [
            "Train: [0/347 (0%)]\tLoss: 2.052884\tAccuracy: 25.0\n"
          ]
        },
        {
          "output_type": "stream",
          "name": "stdout",
          "text": [
            "Epoch: 9/20. Train set: Average loss: 2.1091\tAccuracy: 34.293948126801155\n",
            "Epoch: 9/20. Validation set: Average loss: 2.4121\tAccuracy: 21.25\n"
          ]
        },
        {
          "output_type": "stream",
          "name": "stdout",
          "text": [
            "Train: [0/347 (0%)]\tLoss: 2.291181\tAccuracy: 25.0\n"
          ]
        },
        {
          "output_type": "stream",
          "name": "stdout",
          "text": [
            "Epoch: 10/20. Train set: Average loss: 2.0501\tAccuracy: 34.293948126801155\n",
            "Epoch: 10/20. Validation set: Average loss: 2.4913\tAccuracy: 20.0\n"
          ]
        },
        {
          "output_type": "stream",
          "name": "stdout",
          "text": [
            "Train: [0/347 (0%)]\tLoss: 2.386687\tAccuracy: 37.5\n"
          ]
        },
        {
          "output_type": "stream",
          "name": "stdout",
          "text": [
            "Epoch: 11/20. Train set: Average loss: 2.0311\tAccuracy: 34.5821325648415\n",
            "Epoch: 11/20. Validation set: Average loss: 2.3996\tAccuracy: 23.75\n"
          ]
        },
        {
          "output_type": "stream",
          "name": "stdout",
          "text": [
            "Train: [0/347 (0%)]\tLoss: 2.097331\tAccuracy: 37.5\n"
          ]
        },
        {
          "output_type": "stream",
          "name": "stdout",
          "text": [
            "Epoch: 12/20. Train set: Average loss: 2.0374\tAccuracy: 35.15850144092219\n",
            "Epoch: 12/20. Validation set: Average loss: 2.3751\tAccuracy: 21.25\n"
          ]
        },
        {
          "output_type": "stream",
          "name": "stdout",
          "text": [
            "Train: [0/347 (0%)]\tLoss: 2.267443\tAccuracy: 25.0\n"
          ]
        },
        {
          "output_type": "stream",
          "name": "stdout",
          "text": [
            "Epoch: 13/20. Train set: Average loss: 2.0184\tAccuracy: 34.293948126801155\n",
            "Epoch: 13/20. Validation set: Average loss: 2.3720\tAccuracy: 20.0\n"
          ]
        },
        {
          "output_type": "stream",
          "name": "stdout",
          "text": [
            "Train: [0/347 (0%)]\tLoss: 2.378355\tAccuracy: 12.5\n"
          ]
        },
        {
          "output_type": "stream",
          "name": "stdout",
          "text": [
            "Epoch: 14/20. Train set: Average loss: 2.0019\tAccuracy: 35.15850144092219\n",
            "Epoch: 14/20. Validation set: Average loss: 2.3803\tAccuracy: 22.5\n"
          ]
        },
        {
          "output_type": "stream",
          "name": "stdout",
          "text": [
            "Train: [0/347 (0%)]\tLoss: 1.941473\tAccuracy: 37.5\n"
          ]
        },
        {
          "output_type": "stream",
          "name": "stdout",
          "text": [
            "Epoch: 15/20. Train set: Average loss: 1.9641\tAccuracy: 36.023054755043226\n",
            "Epoch: 15/20. Validation set: Average loss: 2.3360\tAccuracy: 20.0\n"
          ]
        },
        {
          "output_type": "stream",
          "name": "stdout",
          "text": [
            "Train: [0/347 (0%)]\tLoss: 1.564329\tAccuracy: 62.5\n"
          ]
        },
        {
          "output_type": "stream",
          "name": "stdout",
          "text": [
            "Epoch: 16/20. Train set: Average loss: 1.9388\tAccuracy: 35.73487031700288\n",
            "Epoch: 16/20. Validation set: Average loss: 2.3511\tAccuracy: 22.5\n"
          ]
        },
        {
          "output_type": "stream",
          "name": "stdout",
          "text": [
            "Train: [0/347 (0%)]\tLoss: 2.095546\tAccuracy: 37.5\n"
          ]
        },
        {
          "output_type": "stream",
          "name": "stdout",
          "text": [
            "Epoch: 17/20. Train set: Average loss: 1.9144\tAccuracy: 36.023054755043226\n",
            "Epoch: 17/20. Validation set: Average loss: 2.3745\tAccuracy: 22.5\n"
          ]
        },
        {
          "output_type": "stream",
          "name": "stdout",
          "text": [
            "Train: [0/347 (0%)]\tLoss: 2.055330\tAccuracy: 37.5\n"
          ]
        },
        {
          "output_type": "stream",
          "name": "stdout",
          "text": [
            "Epoch: 18/20. Train set: Average loss: 1.9061\tAccuracy: 36.023054755043226\n",
            "Epoch: 18/20. Validation set: Average loss: 2.3777\tAccuracy: 22.5\n"
          ]
        },
        {
          "output_type": "stream",
          "name": "stdout",
          "text": [
            "Train: [0/347 (0%)]\tLoss: 1.443328\tAccuracy: 37.5\n"
          ]
        },
        {
          "output_type": "stream",
          "name": "stdout",
          "text": [
            "Epoch: 19/20. Train set: Average loss: 1.9108\tAccuracy: 36.023054755043226\n",
            "Epoch: 19/20. Validation set: Average loss: 2.3664\tAccuracy: 22.5\n"
          ]
        },
        {
          "output_type": "stream",
          "name": "stdout",
          "text": [
            "Train: [0/347 (0%)]\tLoss: 1.789573\tAccuracy: 37.5\n"
          ]
        },
        {
          "output_type": "stream",
          "name": "stdout",
          "text": [
            "Epoch: 20/20. Train set: Average loss: 1.8999\tAccuracy: 36.023054755043226\n",
            "Epoch: 20/20. Validation set: Average loss: 2.3711\tAccuracy: 22.5\n"
          ]
        }
      ],
      "execution_count": 7,
      "metadata": {
        "colab": {
          "autoexec": {
            "startup": false,
            "wait_interval": 0
          },
          "base_uri": "https://localhost:8080/",
          "height": 2397
        },
        "colab_type": "code",
        "id": "De3Wt6CCCuuG",
        "outputId": "717714e8-e267-4ea6-f832-5d186fee6eb8",
        "papermill": {
          "duration": 68.136773,
          "end_time": "2019-09-16T12:40:39.519278",
          "exception": false,
          "start_time": "2019-09-16T12:39:31.382505",
          "status": "completed"
        },
        "tags": []
      }
    },
    {
      "cell_type": "code",
      "source": [
        "train_embeddings_baseline, train_labels_baseline = extract_embeddings(train_loader, model)\n",
        "plot_embeddings(train_embeddings_baseline, train_labels_baseline)\n",
        "val_embeddings_baseline, val_labels_baseline = extract_embeddings(test_loader, model)\n",
        "plot_embeddings(val_embeddings_baseline, val_labels_baseline)"
      ],
      "outputs": [
        {
          "output_type": "display_data",
          "data": {
            "image/png": "[encoded data removed]",
            "text/plain": [
              "<Figure size 720x720 with 1 Axes>"
            ]
          },
          "metadata": {
            "needs_background": "light"
          }
        },
        {
          "output_type": "display_data",
          "data": {
            "image/png": "[encoded data removed]",
            "text/plain": [
              "<Figure size 720x720 with 1 Axes>"
            ]
          },
          "metadata": {
            "needs_background": "light"
          }
        }
      ],
      "execution_count": 8,
      "metadata": {
        "colab": {
          "autoexec": {
            "startup": false,
            "wait_interval": 0
          },
          "base_uri": "https://localhost:8080/",
          "height": 1167
        },
        "colab_type": "code",
        "id": "q9o-6-ytCuuT",
        "outputId": "bc12c8be-999e-4329-91b1-83fb2395df0c",
        "papermill": {
          "duration": 1.364747,
          "end_time": "2019-09-16T12:40:40.908996",
          "exception": false,
          "start_time": "2019-09-16T12:40:39.544249",
          "status": "completed"
        },
        "tags": []
      }
    },
    {
      "cell_type": "markdown",
      "source": [
        "While the embeddings look separable (which is what we trained them for), they don't have good metric properties. They might not be the best choice as a descriptor for new classes."
      ],
      "metadata": {
        "colab_type": "text",
        "id": "fDdsCIiHCuub",
        "papermill": {
          "duration": 0.020916,
          "end_time": "2019-09-16T12:40:40.951032",
          "exception": false,
          "start_time": "2019-09-16T12:40:40.930116",
          "status": "completed"
        },
        "tags": []
      }
    },
    {
      "cell_type": "markdown",
      "source": [
        "# Siamese network\n",
        "Now we'll train a siamese network that takes a pair of images and trains the embeddings so that the distance between them is minimized if their from the same class or greater than some margin value if they represent different classes.\n",
        "We'll minimize a contrastive loss function*:\n",
        "$$L_{contrastive}(x_0, x_1, y) = \\frac{1}{2} y \\lVert f(x_0)-f(x_1)\\rVert_2^2 + \\frac{1}{2}(1-y)\\{max(0, m-\\lVert f(x_0)-f(x_1)\\rVert_2)\\}^2$$\n",
        "\n",
        "*Raia Hadsell, Sumit Chopra, Yann LeCun, [Dimensionality reduction by learning an invariant mapping](http://yann.lecun.com/exdb/publis/pdf/hadsell-chopra-lecun-06.pdf), CVPR 2006*"
      ],
      "metadata": {
        "colab_type": "text",
        "id": "j9FhHE-tCuuc",
        "papermill": {
          "duration": 0.020806,
          "end_time": "2019-09-16T12:40:40.993001",
          "exception": false,
          "start_time": "2019-09-16T12:40:40.972195",
          "status": "completed"
        },
        "tags": []
      }
    },
    {
      "cell_type": "code",
      "source": [
        "# Set up data loaders\n",
        "from datasets import SiameseWidgets\n",
        "\n",
        "siamese_train_dataset = SiameseWidgets(train_dataset, True) # Returns pairs of images and target same/different\n",
        "siamese_test_dataset = SiameseWidgets(test_dataset, False)\n",
        "batch_size = 4\n",
        "kwargs = {'num_workers': 1, 'pin_memory': True} if cuda else {}\n",
        "siamese_train_loader = torch.utils.data.DataLoader(siamese_train_dataset, batch_size=batch_size, shuffle=True, **kwargs)\n",
        "siamese_test_loader = torch.utils.data.DataLoader(siamese_test_dataset, batch_size=batch_size, shuffle=False, **kwargs)\n",
        "\n",
        "# Set up the network and training parameters\n",
        "from networks import EmbeddingNet, SiameseNet\n",
        "from losses import ContrastiveLoss\n",
        "\n",
        "margin = 1.\n",
        "embedding_net = EmbeddingNet()\n",
        "model = SiameseNet(embedding_net)\n",
        "if cuda:\n",
        "    model.cuda()\n",
        "loss_fn = ContrastiveLoss(margin)\n",
        "lr = 1e-3\n",
        "optimizer = optim.Adam(model.parameters(), lr=lr)\n",
        "scheduler = lr_scheduler.StepLR(optimizer, 8, gamma=0.1, last_epoch=-1)\n",
        "n_epochs = 20\n",
        "log_interval = 100"
      ],
      "outputs": [],
      "execution_count": 9,
      "metadata": {
        "colab": {
          "autoexec": {
            "startup": false,
            "wait_interval": 0
          }
        },
        "colab_type": "code",
        "id": "-qpIq-TzCuue",
        "papermill": {
          "duration": 0.929931,
          "end_time": "2019-09-16T12:40:41.943899",
          "exception": false,
          "start_time": "2019-09-16T12:40:41.013968",
          "status": "completed"
        },
        "tags": []
      }
    },
    {
      "cell_type": "code",
      "source": [
        "fit(siamese_train_loader, siamese_test_loader, model, loss_fn, optimizer, scheduler, n_epochs, cuda, log_interval)"
      ],
      "outputs": [
        {
          "output_type": "stream",
          "name": "stdout",
          "text": [
            "Train: [0/347 (0%)]\tLoss: 0.000094\n"
          ]
        },
        {
          "output_type": "stream",
          "name": "stdout",
          "text": [
            "Epoch: 1/20. Train set: Average loss: 15.2025\n",
            "Epoch: 1/20. Validation set: Average loss: 8.4268\n"
          ]
        },
        {
          "output_type": "stream",
          "name": "stdout",
          "text": [
            "Train: [0/347 (0%)]\tLoss: 0.295370\n"
          ]
        },
        {
          "output_type": "stream",
          "name": "stdout",
          "text": [
            "Epoch: 2/20. Train set: Average loss: 7.6351\n",
            "Epoch: 2/20. Validation set: Average loss: 12.4023\n"
          ]
        },
        {
          "output_type": "stream",
          "name": "stdout",
          "text": [
            "Train: [0/347 (0%)]\tLoss: 5.838924\n"
          ]
        },
        {
          "output_type": "stream",
          "name": "stdout",
          "text": [
            "Epoch: 3/20. Train set: Average loss: 13.8677\n",
            "Epoch: 3/20. Validation set: Average loss: 17.5778\n"
          ]
        },
        {
          "output_type": "stream",
          "name": "stdout",
          "text": [
            "Train: [0/347 (0%)]\tLoss: 31.385977\n"
          ]
        },
        {
          "output_type": "stream",
          "name": "stdout",
          "text": [
            "Epoch: 4/20. Train set: Average loss: 6.0027\n",
            "Epoch: 4/20. Validation set: Average loss: 1.6511\n"
          ]
        },
        {
          "output_type": "stream",
          "name": "stdout",
          "text": [
            "Train: [0/347 (0%)]\tLoss: 196.222672\n"
          ]
        },
        {
          "output_type": "stream",
          "name": "stdout",
          "text": [
            "Epoch: 5/20. Train set: Average loss: 19.2731\n",
            "Epoch: 5/20. Validation set: Average loss: 1.1268\n"
          ]
        },
        {
          "output_type": "stream",
          "name": "stdout",
          "text": [
            "Train: [0/347 (0%)]\tLoss: 0.230074\n"
          ]
        },
        {
          "output_type": "stream",
          "name": "stdout",
          "text": [
            "Epoch: 6/20. Train set: Average loss: 0.7837\n",
            "Epoch: 6/20. Validation set: Average loss: 0.3809\n"
          ]
        },
        {
          "output_type": "stream",
          "name": "stdout",
          "text": [
            "Train: [0/347 (0%)]\tLoss: 0.874231\n"
          ]
        },
        {
          "output_type": "stream",
          "name": "stdout",
          "text": [
            "Epoch: 7/20. Train set: Average loss: 0.5937\n",
            "Epoch: 7/20. Validation set: Average loss: 0.3515\n"
          ]
        },
        {
          "output_type": "stream",
          "name": "stdout",
          "text": [
            "Train: [0/347 (0%)]\tLoss: 0.107999\n"
          ]
        },
        {
          "output_type": "stream",
          "name": "stdout",
          "text": [
            "Epoch: 8/20. Train set: Average loss: 0.3372\n",
            "Epoch: 8/20. Validation set: Average loss: 0.2813\n"
          ]
        },
        {
          "output_type": "stream",
          "name": "stdout",
          "text": [
            "Train: [0/347 (0%)]\tLoss: 0.225467\n"
          ]
        },
        {
          "output_type": "stream",
          "name": "stdout",
          "text": [
            "Epoch: 9/20. Train set: Average loss: 0.2028\n",
            "Epoch: 9/20. Validation set: Average loss: 0.2841\n"
          ]
        },
        {
          "output_type": "stream",
          "name": "stdout",
          "text": [
            "Train: [0/347 (0%)]\tLoss: 0.050081\n"
          ]
        },
        {
          "output_type": "stream",
          "name": "stdout",
          "text": [
            "Epoch: 10/20. Train set: Average loss: 0.1698\n",
            "Epoch: 10/20. Validation set: Average loss: 0.2536\n"
          ]
        },
        {
          "output_type": "stream",
          "name": "stdout",
          "text": [
            "Train: [0/347 (0%)]\tLoss: 0.036676\n"
          ]
        },
        {
          "output_type": "stream",
          "name": "stdout",
          "text": [
            "Epoch: 11/20. Train set: Average loss: 0.1678\n",
            "Epoch: 11/20. Validation set: Average loss: 0.2244\n"
          ]
        },
        {
          "output_type": "stream",
          "name": "stdout",
          "text": [
            "Train: [0/347 (0%)]\tLoss: 0.130352\n"
          ]
        },
        {
          "output_type": "stream",
          "name": "stdout",
          "text": [
            "Epoch: 12/20. Train set: Average loss: 0.1236\n",
            "Epoch: 12/20. Validation set: Average loss: 0.2158\n"
          ]
        },
        {
          "output_type": "stream",
          "name": "stdout",
          "text": [
            "Train: [0/347 (0%)]\tLoss: 0.421313\n"
          ]
        },
        {
          "output_type": "stream",
          "name": "stdout",
          "text": [
            "Epoch: 13/20. Train set: Average loss: 0.1271\n",
            "Epoch: 13/20. Validation set: Average loss: 0.2151\n"
          ]
        },
        {
          "output_type": "stream",
          "name": "stdout",
          "text": [
            "Train: [0/347 (0%)]\tLoss: 0.119287\n"
          ]
        },
        {
          "output_type": "stream",
          "name": "stdout",
          "text": [
            "Epoch: 14/20. Train set: Average loss: 0.1339\n",
            "Epoch: 14/20. Validation set: Average loss: 0.2049\n"
          ]
        },
        {
          "output_type": "stream",
          "name": "stdout",
          "text": [
            "Train: [0/347 (0%)]\tLoss: 0.128019\n"
          ]
        },
        {
          "output_type": "stream",
          "name": "stdout",
          "text": [
            "Epoch: 15/20. Train set: Average loss: 0.1211\n",
            "Epoch: 15/20. Validation set: Average loss: 0.1985\n"
          ]
        },
        {
          "output_type": "stream",
          "name": "stdout",
          "text": [
            "Train: [0/347 (0%)]\tLoss: 0.111816\n"
          ]
        },
        {
          "output_type": "stream",
          "name": "stdout",
          "text": [
            "Epoch: 16/20. Train set: Average loss: 0.1293\n",
            "Epoch: 16/20. Validation set: Average loss: 0.1976\n"
          ]
        },
        {
          "output_type": "stream",
          "name": "stdout",
          "text": [
            "Train: [0/347 (0%)]\tLoss: 0.070538\n"
          ]
        },
        {
          "output_type": "stream",
          "name": "stdout",
          "text": [
            "Epoch: 17/20. Train set: Average loss: 0.1417\n",
            "Epoch: 17/20. Validation set: Average loss: 0.1959\n"
          ]
        },
        {
          "output_type": "stream",
          "name": "stdout",
          "text": [
            "Train: [0/347 (0%)]\tLoss: 0.055058\n"
          ]
        },
        {
          "output_type": "stream",
          "name": "stdout",
          "text": [
            "Epoch: 18/20. Train set: Average loss: 0.1424\n",
            "Epoch: 18/20. Validation set: Average loss: 0.1933\n"
          ]
        },
        {
          "output_type": "stream",
          "name": "stdout",
          "text": [
            "Train: [0/347 (0%)]\tLoss: 0.095047\n"
          ]
        },
        {
          "output_type": "stream",
          "name": "stdout",
          "text": [
            "Epoch: 19/20. Train set: Average loss: 0.1262\n",
            "Epoch: 19/20. Validation set: Average loss: 0.1930\n"
          ]
        },
        {
          "output_type": "stream",
          "name": "stdout",
          "text": [
            "Train: [0/347 (0%)]\tLoss: 0.007085\n"
          ]
        },
        {
          "output_type": "stream",
          "name": "stdout",
          "text": [
            "Epoch: 20/20. Train set: Average loss: 0.1251\n",
            "Epoch: 20/20. Validation set: Average loss: 0.1928\n"
          ]
        }
      ],
      "execution_count": 10,
      "metadata": {
        "colab": {
          "autoexec": {
            "startup": false,
            "wait_interval": 0
          },
          "base_uri": "https://localhost:8080/",
          "height": 2397
        },
        "colab_type": "code",
        "id": "_IqiBATeCuuh",
        "outputId": "c9e31172-3754-4ff2-8b7f-1bc2720d554b",
        "papermill": {
          "duration": 143.576465,
          "end_time": "2019-09-16T12:43:05.541009",
          "exception": false,
          "start_time": "2019-09-16T12:40:41.964544",
          "status": "completed"
        },
        "tags": []
      }
    },
    {
      "cell_type": "code",
      "source": [
        "train_embeddings_cl, train_labels_cl = extract_embeddings(train_loader, model)\n",
        "plot_embeddings(train_embeddings_cl, train_labels_cl)\n",
        "val_embeddings_cl, val_labels_cl = extract_embeddings(test_loader, model)\n",
        "plot_embeddings(val_embeddings_cl, val_labels_cl)"
      ],
      "outputs": [
        {
          "output_type": "display_data",
          "data": {
            "image/png": "[encoded data removed]",
            "text/plain": [
              "<Figure size 720x720 with 1 Axes>"
            ]
          },
          "metadata": {
            "needs_background": "light"
          }
        },
        {
          "output_type": "display_data",
          "data": {
            "image/png": "[encoded data removed]",
            "text/plain": [
              "<Figure size 720x720 with 1 Axes>"
            ]
          },
          "metadata": {
            "needs_background": "light"
          }
        }
      ],
      "execution_count": 11,
      "metadata": {
        "colab": {
          "autoexec": {
            "startup": false,
            "wait_interval": 0
          },
          "base_uri": "https://localhost:8080/",
          "height": 1167
        },
        "colab_type": "code",
        "id": "rBBBuPjiCuup",
        "outputId": "0849de03-297f-4189-d5ea-fc8c5fda27e1",
        "papermill": {
          "duration": 1.598807,
          "end_time": "2019-09-16T12:43:07.177199",
          "exception": false,
          "start_time": "2019-09-16T12:43:05.578392",
          "status": "completed"
        },
        "tags": []
      }
    },
    {
      "cell_type": "markdown",
      "source": [
        "# Triplet network\n",
        "We'll train a triplet network, that takes an anchor, positive (same class as anchor) and negative (different class than anchor) examples. The objective is to learn embeddings such that the anchor is closer to the positive example than it is to the negative example by some margin value.\n",
        "\n",
        "![alt text](images/anchor_negative_positive.png \"Source: FaceNet\")\n",
        "Source: [2] *Schroff, Florian, Dmitry Kalenichenko, and James Philbin. [Facenet: A unified embedding for face recognition and clustering.](https://arxiv.org/abs/1503.03832) CVPR 2015.*\n",
        "\n",
        "**Triplet loss**:   $L_{triplet}(x_a, x_p, x_n) = max(0, m +  \\lVert f(x_a)-f(x_p)\\rVert_2^2 - \\lVert f(x_a)-f(x_n)\\rVert_2^2$\\)"
      ],
      "metadata": {
        "colab_type": "text",
        "id": "MbKXy6yQCuuu",
        "papermill": {
          "duration": 0.030555,
          "end_time": "2019-09-16T12:43:07.243589",
          "exception": false,
          "start_time": "2019-09-16T12:43:07.213034",
          "status": "completed"
        },
        "tags": []
      }
    },
    {
      "cell_type": "markdown",
      "source": [
        "# Set up data loaders\n",
        "from datasets import TripletMNIST\n",
        "\n",
        "triplet_train_dataset = TripletMNIST(train_dataset) # Returns triplets of images\n",
        "triplet_test_dataset = TripletMNIST(test_dataset)\n",
        "batch_size = 128\n",
        "kwargs = {'num_workers': 1, 'pin_memory': True} if cuda else {}\n",
        "triplet_train_loader = torch.utils.data.DataLoader(triplet_train_dataset, batch_size=batch_size, shuffle=True, **kwargs)\n",
        "triplet_test_loader = torch.utils.data.DataLoader(triplet_test_dataset, batch_size=batch_size, shuffle=False, **kwargs)\n",
        "\n",
        "# Set up the network and training parameters\n",
        "from networks import EmbeddingNet, TripletNet\n",
        "from losses import TripletLoss\n",
        "\n",
        "margin = 1.\n",
        "embedding_net = EmbeddingNet()\n",
        "model = TripletNet(embedding_net)\n",
        "if cuda:\n",
        "    model.cuda()\n",
        "loss_fn = TripletLoss(margin)\n",
        "lr = 1e-3\n",
        "optimizer = optim.Adam(model.parameters(), lr=lr)\n",
        "scheduler = lr_scheduler.StepLR(optimizer, 8, gamma=0.1, last_epoch=-1)\n",
        "n_epochs = 20\n",
        "log_interval = 100"
      ],
      "metadata": {
        "papermill": {
          "duration": 0.030601,
          "end_time": "2019-09-16T12:43:07.305069",
          "exception": false,
          "start_time": "2019-09-16T12:43:07.274468",
          "status": "completed"
        },
        "tags": []
      }
    },
    {
      "cell_type": "markdown",
      "source": [
        "fit(triplet_train_loader, triplet_test_loader, model, loss_fn, optimizer, scheduler, n_epochs, cuda, log_interval)"
      ],
      "metadata": {
        "papermill": {
          "duration": 0.030388,
          "end_time": "2019-09-16T12:43:07.366050",
          "exception": false,
          "start_time": "2019-09-16T12:43:07.335662",
          "status": "completed"
        },
        "tags": []
      }
    },
    {
      "cell_type": "markdown",
      "source": [
        "train_embeddings_tl, train_labels_tl = extract_embeddings(train_loader, model)\n",
        "plot_embeddings(train_embeddings_tl, train_labels_tl)\n",
        "val_embeddings_tl, val_labels_tl = extract_embeddings(test_loader, model)\n",
        "plot_embeddings(val_embeddings_tl, val_labels_tl)"
      ],
      "metadata": {
        "papermill": {
          "duration": 0.030576,
          "end_time": "2019-09-16T12:43:07.427293",
          "exception": false,
          "start_time": "2019-09-16T12:43:07.396717",
          "status": "completed"
        },
        "tags": []
      }
    },
    {
      "cell_type": "markdown",
      "source": [
        "# Online pair/triplet selection - negative mining\n",
        "There are couple of problems with siamese and triplet networks.\n",
        "1. The number of possible pairs/triplets grows **quadratically/cubically** with the number of examples. It's infeasible to process them all\n",
        "2. We generate pairs/triplets randomly. As the training continues, more and more pairs/triplets are easy to deal with (their loss value is very small or even 0), preventing the network from training. We need to provide the network with **hard examples**.\n",
        "3. Each image that is fed to the network is used only for computation of contrastive/triplet loss for only one pair/triplet. The computation is somewhat wasted; once the embedding is computed, it could be reused for many pairs/triplets.\n",
        "\n",
        "To deal with that efficiently, we'll feed a network with standard mini-batches as we did for classification. The loss function will be responsible for selection of hard pairs and triplets within mini-batch. In these case, if we feed the network with 16 images per 10 classes, we can process up to $159*160/2 = 12720$ pairs and $10*16*15/2*(9*16) = 172800$ triplets, compared to 80 pairs and 53 triplets in previous implementation.\n",
        "\n",
        "We can find some strategies on how to select triplets in [2] and [3] *Alexander Hermans, Lucas Beyer, Bastian Leibe, [In Defense of the Triplet Loss for Person Re-Identification](https://arxiv.org/pdf/1703.07737), 2017*"
      ],
      "metadata": {
        "colab_type": "text",
        "id": "x7C9H1_nCuvJ",
        "papermill": {
          "duration": 0.030026,
          "end_time": "2019-09-16T12:43:07.487972",
          "exception": false,
          "start_time": "2019-09-16T12:43:07.457946",
          "status": "completed"
        },
        "tags": []
      }
    },
    {
      "cell_type": "markdown",
      "source": [
        "## Online pair selection\n",
        "## Steps\n",
        "1. Create **BalancedBatchSampler** - samples $N$ classes and $M$ samples *datasets.py*\n",
        "2. Create data loaders with the batch sampler\n",
        "3. Define **embedding** *(mapping)* network $f(x)$ - **EmbeddingNet** from *networks.py*\n",
        "4. Define a **PairSelector** that takes embeddings and original labels and returns valid pairs within a minibatch\n",
        "5. Define **OnlineContrastiveLoss** that will use a *PairSelector* and compute *ContrastiveLoss* on such pairs\n",
        "6. Train the network!"
      ],
      "metadata": {
        "colab_type": "text",
        "id": "k806qej9CuvL",
        "papermill": {
          "duration": 0.030442,
          "end_time": "2019-09-16T12:43:07.548947",
          "exception": false,
          "start_time": "2019-09-16T12:43:07.518505",
          "status": "completed"
        },
        "tags": []
      }
    },
    {
      "cell_type": "markdown",
      "source": [
        "from datasets import BalancedBatchSampler\n",
        "\n",
        "# We'll create mini batches by sampling labels that will be present in the mini batch and number of examples from each class\n",
        "train_batch_sampler = BalancedBatchSampler(train_dataset.train_labels, n_classes=10, n_samples=25)\n",
        "test_batch_sampler = BalancedBatchSampler(test_dataset.test_labels, n_classes=10, n_samples=25)\n",
        "\n",
        "kwargs = {'num_workers': 1, 'pin_memory': True} if cuda else {}\n",
        "online_train_loader = torch.utils.data.DataLoader(train_dataset, batch_sampler=train_batch_sampler, **kwargs)\n",
        "online_test_loader = torch.utils.data.DataLoader(test_dataset, batch_sampler=test_batch_sampler, **kwargs)\n",
        "\n",
        "# Set up the network and training parameters\n",
        "from networks import EmbeddingNet\n",
        "from losses import OnlineContrastiveLoss\n",
        "from utils import AllPositivePairSelector, HardNegativePairSelector # Strategies for selecting pairs within a minibatch\n",
        "\n",
        "margin = 1.\n",
        "embedding_net = EmbeddingNet()\n",
        "model = embedding_net\n",
        "if cuda:\n",
        "    model.cuda()\n",
        "loss_fn = OnlineContrastiveLoss(margin, HardNegativePairSelector())\n",
        "lr = 1e-3\n",
        "optimizer = optim.Adam(model.parameters(), lr=lr)\n",
        "scheduler = lr_scheduler.StepLR(optimizer, 8, gamma=0.1, last_epoch=-1)\n",
        "n_epochs = 20\n",
        "log_interval = 50"
      ],
      "metadata": {
        "papermill": {
          "duration": 0.030159,
          "end_time": "2019-09-16T12:43:07.609442",
          "exception": false,
          "start_time": "2019-09-16T12:43:07.579283",
          "status": "completed"
        },
        "tags": []
      }
    },
    {
      "cell_type": "markdown",
      "source": [
        "fit(online_train_loader, online_test_loader, model, loss_fn, optimizer, scheduler, n_epochs, cuda, log_interval)"
      ],
      "metadata": {
        "papermill": {
          "duration": 0.030151,
          "end_time": "2019-09-16T12:43:07.669661",
          "exception": false,
          "start_time": "2019-09-16T12:43:07.639510",
          "status": "completed"
        },
        "tags": []
      }
    },
    {
      "cell_type": "markdown",
      "source": [
        "train_embeddings_ocl, train_labels_ocl = extract_embeddings(train_loader, model)\n",
        "plot_embeddings(train_embeddings_ocl, train_labels_ocl)\n",
        "val_embeddings_ocl, val_labels_ocl = extract_embeddings(test_loader, model)\n",
        "plot_embeddings(val_embeddings_ocl, val_labels_ocl)"
      ],
      "metadata": {
        "papermill": {
          "duration": 0.030329,
          "end_time": "2019-09-16T12:43:07.729962",
          "exception": false,
          "start_time": "2019-09-16T12:43:07.699633",
          "status": "completed"
        },
        "tags": []
      }
    },
    {
      "cell_type": "markdown",
      "source": [
        "## Online triplet selection\n",
        "## Steps\n",
        "1. Create **BalancedBatchSampler** - samples $N$ classes and $M$ samples *datasets.py*\n",
        "2. Create data loaders with the batch sampler\n",
        "3. Define **embedding** *(mapping)* network $f(x)$ - **EmbeddingNet** from *networks.py*\n",
        "4. Define a **TripletSelector** that takes embeddings and original labels and returns valid triplets within a minibatch\n",
        "5. Define **OnlineTripletLoss** that will use a *TripletSelector* and compute *TripletLoss* on such pairs\n",
        "6. Train the network!"
      ],
      "metadata": {
        "colab_type": "text",
        "id": "UgIGiMwICuvn",
        "papermill": {
          "duration": 0.030147,
          "end_time": "2019-09-16T12:43:07.790265",
          "exception": false,
          "start_time": "2019-09-16T12:43:07.760118",
          "status": "completed"
        },
        "tags": []
      }
    },
    {
      "cell_type": "markdown",
      "source": [
        "from datasets import BalancedBatchSampler\n",
        "\n",
        "# We'll create mini batches by sampling labels that will be present in the mini batch and number of examples from each class\n",
        "train_batch_sampler = BalancedBatchSampler(train_dataset.train_labels, n_classes=10, n_samples=25)\n",
        "test_batch_sampler = BalancedBatchSampler(test_dataset.test_labels, n_classes=10, n_samples=25)\n",
        "\n",
        "kwargs = {'num_workers': 1, 'pin_memory': True} if cuda else {}\n",
        "online_train_loader = torch.utils.data.DataLoader(train_dataset, batch_sampler=train_batch_sampler, **kwargs)\n",
        "online_test_loader = torch.utils.data.DataLoader(test_dataset, batch_sampler=test_batch_sampler, **kwargs)\n",
        "\n",
        "# Set up the network and training parameters\n",
        "from networks import EmbeddingNet\n",
        "from losses import OnlineTripletLoss\n",
        "from utils import AllTripletSelector,HardestNegativeTripletSelector, RandomNegativeTripletSelector, SemihardNegativeTripletSelector # Strategies for selecting triplets within a minibatch\n",
        "from metrics import AverageNonzeroTripletsMetric\n",
        "\n",
        "margin = 1.\n",
        "embedding_net = EmbeddingNet()\n",
        "model = embedding_net\n",
        "if cuda:\n",
        "    model.cuda()\n",
        "loss_fn = OnlineTripletLoss(margin, RandomNegativeTripletSelector(margin))\n",
        "lr = 1e-3\n",
        "optimizer = optim.Adam(model.parameters(), lr=lr, weight_decay=1e-4)\n",
        "scheduler = lr_scheduler.StepLR(optimizer, 8, gamma=0.1, last_epoch=-1)\n",
        "n_epochs = 20\n",
        "log_interval = 50"
      ],
      "metadata": {
        "papermill": {
          "duration": 0.030145,
          "end_time": "2019-09-16T12:43:07.850612",
          "exception": false,
          "start_time": "2019-09-16T12:43:07.820467",
          "status": "completed"
        },
        "tags": []
      }
    },
    {
      "cell_type": "markdown",
      "source": [
        "fit(online_train_loader, online_test_loader, model, loss_fn, optimizer, scheduler, n_epochs, cuda, log_interval, metrics=[AverageNonzeroTripletsMetric()])"
      ],
      "metadata": {
        "papermill": {
          "duration": 0.030663,
          "end_time": "2019-09-16T12:43:07.911691",
          "exception": false,
          "start_time": "2019-09-16T12:43:07.881028",
          "status": "completed"
        },
        "tags": []
      }
    },
    {
      "cell_type": "markdown",
      "source": [
        "train_embeddings_otl, train_labels_otl = extract_embeddings(train_loader, model)\n",
        "plot_embeddings(train_embeddings_otl, train_labels_otl)\n",
        "val_embeddings_otl, val_labels_otl = extract_embeddings(test_loader, model)\n",
        "plot_embeddings(val_embeddings_otl, val_labels_otl)"
      ],
      "metadata": {
        "papermill": {
          "duration": 0.03033,
          "end_time": "2019-09-16T12:43:07.972926",
          "exception": false,
          "start_time": "2019-09-16T12:43:07.942596",
          "status": "completed"
        },
        "tags": []
      }
    },
    {
      "cell_type": "markdown",
      "source": [
        "# display_emb_online, display_emb, display_label_online, display_label = train_embeddings_otl, train_embeddings_tl, train_labels_otl, train_labels_tl\n",
        "display_emb_online, display_emb, display_label_online, display_label = val_embeddings_otl, val_embeddings_tl, val_labels_otl, val_labels_tl\n",
        "x_lim = (np.min(display_emb_online[:,0]), np.max(display_emb_online[:,0]))\n",
        "y_lim = (np.min(display_emb_online[:,1]), np.max(display_emb_online[:,1]))\n",
        "plot_embeddings(display_emb, display_label, x_lim, y_lim)\n",
        "plot_embeddings(display_emb_online, display_label_online, x_lim, y_lim)"
      ],
      "metadata": {
        "papermill": {
          "duration": 0.030369,
          "end_time": "2019-09-16T12:43:08.051505",
          "exception": false,
          "start_time": "2019-09-16T12:43:08.021136",
          "status": "completed"
        },
        "tags": []
      }
    },
    {
      "cell_type": "markdown",
      "source": [
        "x_lim = (np.min(train_embeddings_ocl[:,0]), np.max(train_embeddings_ocl[:,0]))\n",
        "y_lim = (np.min(train_embeddings_ocl[:,1]), np.max(train_embeddings_ocl[:,1]))\n",
        "plot_embeddings(train_embeddings_cl, train_labels_cl, x_lim, y_lim)\n",
        "plot_embeddings(train_embeddings_ocl, train_labels_ocl, x_lim, y_lim)"
      ],
      "metadata": {
        "papermill": {
          "duration": 0.030191,
          "end_time": "2019-09-16T12:43:08.112383",
          "exception": false,
          "start_time": "2019-09-16T12:43:08.082192",
          "status": "completed"
        },
        "tags": []
      }
    }
  ],
  "metadata": {
    "accelerator": "GPU",
    "colab": {
      "default_view": {},
      "name": "Experiments_MNIST.ipynb",
      "provenance": [],
      "version": "0.3.2",
      "views": {}
    },
    "kernel_info": {
      "name": "python3"
    },
    "kernelspec": {
      "name": "python3",
      "language": "python",
      "display_name": "Python 3"
    },
    "language_info": {
      "name": "python",
      "version": "3.7.4",
      "mimetype": "text/x-python",
      "codemirror_mode": {
        "name": "ipython",
        "version": 3
      },
      "pygments_lexer": "ipython3",
      "nbconvert_exporter": "python",
      "file_extension": ".py"
    },
    "nteract": {
      "version": "0.14.5"
    },
    "papermill": {
      "output_path": "Experiments_Widgets-output.ipynb",
      "start_time": "2019-09-16T12:39:27.030098",
      "parameters": {},
      "environment_variables": {},
      "exception": null,
      "end_time": "2019-09-16T12:43:08.647864",
      "duration": 221.617766,
      "version": "1.1.0",
      "input_path": "Experiments_Widgets.ipynb"
    }
  },
  "nbformat": 4,
  "nbformat_minor": 2
}