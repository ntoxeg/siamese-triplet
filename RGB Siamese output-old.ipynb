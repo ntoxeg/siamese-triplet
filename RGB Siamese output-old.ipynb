{
 "cells": [
  {
   "cell_type": "code",
   "execution_count": 1,
   "metadata": {
    "colab": {
     "autoexec": {
      "startup": false,
      "wait_interval": 0
     }
    },
    "colab_type": "code",
    "id": "sx9e_pXlCuti",
    "papermill": {
     "duration": 0.026278,
     "end_time": "2019-09-18T16:35:50.084106",
     "exception": false,
     "start_time": "2019-09-18T16:35:50.057828",
     "status": "completed"
    },
    "tags": []
   },
   "outputs": [],
   "source": [
    "%load_ext autoreload\n",
    "%autoreload 2"
   ]
  },
  {
   "cell_type": "code",
   "execution_count": 2,
   "metadata": {
    "collapsed": false,
    "inputHidden": false,
    "outputHidden": false,
    "papermill": {
     "duration": 0.01963,
     "end_time": "2019-09-18T16:35:50.110916",
     "exception": false,
     "start_time": "2019-09-18T16:35:50.091286",
     "status": "completed"
    },
    "tags": [
     "parameters"
    ]
   },
   "outputs": [],
   "source": [
    "CENTERNET_TASK = \"ctdet\"\n",
    "CENTERNET_MODEL_PATH = \"/home/adrian/projects/CenterNet/models/ctdet_coco_dla_2x.pth\"\n",
    "\n",
    "data_dir='/home/adrian/data'\n",
    "data_split='val2017'\n",
    "annFile=f'{data_dir}/coco/annotations/instances_{data_split}.json'\n",
    "\n",
    "classes = (\"person\", \"dog\", \"motorcycle\", \"bear\")"
   ]
  },
  {
   "cell_type": "code",
   "execution_count": 3,
   "metadata": {
    "collapsed": false,
    "inputHidden": false,
    "outputHidden": false,
    "papermill": {
     "duration": 0.362905,
     "end_time": "2019-09-18T16:35:50.483002",
     "exception": false,
     "start_time": "2019-09-18T16:35:50.120097",
     "status": "completed"
    },
    "tags": []
   },
   "outputs": [],
   "source": [
    "import torch.utils.data as data\n",
    "from PIL import Image\n",
    "import os\n",
    "from datasets import ImageDataset, COCODataset"
   ]
  },
  {
   "cell_type": "code",
   "execution_count": 4,
   "metadata": {
    "collapsed": false,
    "inputHidden": false,
    "outputHidden": false,
    "papermill": {
     "duration": 2.928061,
     "end_time": "2019-09-18T16:35:53.420142",
     "exception": false,
     "start_time": "2019-09-18T16:35:50.492081",
     "status": "completed"
    },
    "tags": []
   },
   "outputs": [],
   "source": [
    "from torchvision import transforms\n",
    "import torch.nn.functional as F\n",
    "import torch\n",
    "\n",
    "def pad_to_size(img: torch.Tensor, size):\n",
    "    padded = torch.zeros(img.shape[0], size[1], size[0])\n",
    "    padded[:, :img.shape[1], :img.shape[2]] = img\n",
    "    return padded\n",
    "\n",
    "mean, std = 0.1307, 0.3081\n",
    "train_dataset = ImageDataset(\"/home/adrian/data/classy_coconut/train\",\n",
    "                             classes,\n",
    "                               tfm=transforms.Compose([\n",
    "                                 transforms.Normalize((mean,), (std,)),\n",
    "                                 lambda x: pad_to_size(x, (512, 512))\n",
    "                             ]))\n",
    "dev_dataset = ImageDataset('/home/adrian/data/classy_coconut/dev',\n",
    "                            classes,\n",
    "                            tfm=transforms.Compose([\n",
    "                                transforms.Normalize((mean,), (std,)),\n",
    "                                lambda x: pad_to_size(x, (512, 512))\n",
    "                            ]))\n",
    "n_classes = len(classes)"
   ]
  },
  {
   "cell_type": "code",
   "execution_count": 5,
   "metadata": {
    "collapsed": false,
    "inputHidden": false,
    "outputHidden": false,
    "papermill": {
     "duration": 0.029836,
     "end_time": "2019-09-18T16:35:53.456104",
     "exception": false,
     "start_time": "2019-09-18T16:35:53.426268",
     "status": "completed"
    },
    "tags": []
   },
   "outputs": [
    {
     "name": "stdout",
     "output_type": "stream",
     "text": [
      "2953\n",
      "98\n"
     ]
    }
   ],
   "source": [
    "print(len(train_dataset))\n",
    "print(len(dev_dataset))"
   ]
  },
  {
   "cell_type": "code",
   "execution_count": 6,
   "metadata": {
    "collapsed": false,
    "inputHidden": false,
    "outputHidden": false,
    "papermill": {
     "duration": 0.067259,
     "end_time": "2019-09-18T16:35:53.529803",
     "exception": false,
     "start_time": "2019-09-18T16:35:53.462544",
     "status": "completed"
    },
    "tags": []
   },
   "outputs": [],
   "source": [
    "import torch\n",
    "from torch.optim import lr_scheduler\n",
    "import torch.optim as optim\n",
    "from torch.autograd import Variable\n",
    "\n",
    "from trainer import fit\n",
    "import numpy as np\n",
    "cuda = torch.cuda.is_available()\n",
    "\n",
    "%matplotlib inline\n",
    "import matplotlib\n",
    "import matplotlib.pyplot as plt\n",
    "\n",
    "colors = ['#1f77b4', '#ff7f0e', '#2ca02c', '#d62728',\n",
    "              '#9467bd', '#8c564b', '#e377c2', '#7f7f7f',\n",
    "              '#bcbd22', '#17becf', '#800080', '#808000', '#F08080']\n",
    "\n",
    "def plot_embeddings(embeddings, targets, xlim=None, ylim=None):\n",
    "    plt.figure(figsize=(10,10))\n",
    "    for i in range(n_classes):\n",
    "        inds = np.where(targets==i)[0]\n",
    "        plt.scatter(embeddings[inds,0], embeddings[inds,1], alpha=0.5, color=colors[i])\n",
    "    if xlim:\n",
    "        plt.xlim(xlim[0], xlim[1])\n",
    "    if ylim:\n",
    "        plt.ylim(ylim[0], ylim[1])\n",
    "    plt.legend(classes)\n",
    "\n",
    "def extract_embeddings(dataloader, model):\n",
    "    with torch.no_grad():\n",
    "        model.eval()\n",
    "        embeddings = np.zeros((len(dataloader.dataset), 2))\n",
    "        labels = np.zeros(len(dataloader.dataset))\n",
    "        k = 0\n",
    "        for images, target in dataloader:\n",
    "            if cuda:\n",
    "                images = images.cuda()\n",
    "            embeddings[k:k+len(images)] = model.get_embedding(images).data.cpu().numpy()\n",
    "            labels[k:k+len(images)] = target.numpy()\n",
    "            k += len(images)\n",
    "    return embeddings, labels"
   ]
  },
  {
   "cell_type": "code",
   "execution_count": 7,
   "metadata": {
    "collapsed": false,
    "inputHidden": false,
    "outputHidden": false,
    "papermill": {
     "duration": 0.022333,
     "end_time": "2019-09-18T16:35:53.558377",
     "exception": false,
     "start_time": "2019-09-18T16:35:53.536044",
     "status": "completed"
    },
    "tags": []
   },
   "outputs": [],
   "source": [
    "batch_size = 2\n",
    "kwargs = {'num_workers': 1, 'pin_memory': True} if cuda else {}\n",
    "train_loader = torch.utils.data.DataLoader(train_dataset, batch_size=batch_size, shuffle=True, **kwargs)\n",
    "dev_loader = torch.utils.data.DataLoader(dev_dataset, batch_size=batch_size, shuffle=False, **kwargs)"
   ]
  },
  {
   "cell_type": "code",
   "execution_count": 8,
   "metadata": {
    "collapsed": false,
    "inputHidden": false,
    "outputHidden": false,
    "papermill": {
     "duration": 3.18882,
     "end_time": "2019-09-18T16:35:56.753388",
     "exception": false,
     "start_time": "2019-09-18T16:35:53.564568",
     "status": "completed"
    },
    "tags": []
   },
   "outputs": [],
   "source": [
    "# Set up data loaders\n",
    "from datasets import SiameseImage\n",
    "\n",
    "siamese_train_dataset = SiameseImage(train_dataset, True) # Returns pairs of images and target same/different\n",
    "siamese_dev_dataset = SiameseImage(dev_dataset, False)\n",
    "batch_size = 2\n",
    "kwargs = {'num_workers': 1, 'pin_memory': True} if cuda else {}\n",
    "siamese_train_loader = torch.utils.data.DataLoader(siamese_train_dataset, batch_size=batch_size, shuffle=True, **kwargs)\n",
    "siamese_dev_loader = torch.utils.data.DataLoader(siamese_dev_dataset, batch_size=batch_size, shuffle=False, **kwargs)\n",
    "\n",
    "# Set up the network and training parameters\n",
    "from networks import EmbeddingNet, SiameseNet\n",
    "from losses import ContrastiveLoss\n",
    "\n",
    "margin = 1.\n",
    "embedding_net = EmbeddingNet()\n",
    "model = SiameseNet(embedding_net)\n",
    "if cuda:\n",
    "    model.cuda()\n",
    "loss_fn = ContrastiveLoss(margin)\n",
    "lr = 1e-3\n",
    "optimizer = optim.Adam(model.parameters(), lr=lr)\n",
    "scheduler = lr_scheduler.StepLR(optimizer, 8, gamma=0.1, last_epoch=-1)\n",
    "n_epochs = 20\n",
    "log_interval = 100"
   ]
  },
  {
   "cell_type": "code",
   "execution_count": 9,
   "metadata": {
    "collapsed": false,
    "inputHidden": false,
    "outputHidden": false,
    "papermill": {
     "duration": 2604.680623,
     "end_time": "2019-09-18T17:19:21.443681",
     "exception": false,
     "start_time": "2019-09-18T16:35:56.763058",
     "status": "completed"
    },
    "tags": []
   },
   "outputs": [
    {
     "name": "stderr",
     "output_type": "stream",
     "text": [
      "/home/adrian/miniconda3/envs/julia/lib/python3.7/site-packages/torch/optim/lr_scheduler.py:82: UserWarning: Detected call of `lr_scheduler.step()` before `optimizer.step()`. In PyTorch 1.1.0 and later, you should call them in the opposite order: `optimizer.step()` before `lr_scheduler.step()`.  Failure to do this will result in PyTorch skipping the first value of the learning rate schedule.See more details at https://pytorch.org/docs/stable/optim.html#how-to-adjust-learning-rate\n",
      "  \"https://pytorch.org/docs/stable/optim.html#how-to-adjust-learning-rate\", UserWarning)\n"
     ]
    },
    {
     "name": "stdout",
     "output_type": "stream",
     "text": [
      "Train: [0/2953 (0%)]\tLoss: 0.249625\n"
     ]
    },
    {
     "name": "stdout",
     "output_type": "stream",
     "text": [
      "Train: [200/2953 (7%)]\tLoss: 0.210485\n"
     ]
    },
    {
     "name": "stdout",
     "output_type": "stream",
     "text": [
      "Train: [400/2953 (14%)]\tLoss: 0.210235\n"
     ]
    },
    {
     "name": "stdout",
     "output_type": "stream",
     "text": [
      "Train: [600/2953 (20%)]\tLoss: 0.185972\n"
     ]
    },
    {
     "name": "stdout",
     "output_type": "stream",
     "text": [
      "Train: [800/2953 (27%)]\tLoss: 0.186932\n"
     ]
    },
    {
     "name": "stdout",
     "output_type": "stream",
     "text": [
      "Train: [1000/2953 (34%)]\tLoss: 0.182777\n"
     ]
    },
    {
     "name": "stdout",
     "output_type": "stream",
     "text": [
      "Train: [1200/2953 (41%)]\tLoss: 0.169482\n"
     ]
    },
    {
     "name": "stdout",
     "output_type": "stream",
     "text": [
      "Train: [1400/2953 (47%)]\tLoss: 0.175365\n"
     ]
    },
    {
     "name": "stdout",
     "output_type": "stream",
     "text": [
      "Train: [1600/2953 (54%)]\tLoss: 0.152337\n"
     ]
    },
    {
     "name": "stdout",
     "output_type": "stream",
     "text": [
      "Train: [1800/2953 (61%)]\tLoss: 0.183646\n"
     ]
    },
    {
     "name": "stdout",
     "output_type": "stream",
     "text": [
      "Train: [2000/2953 (68%)]\tLoss: 0.185011\n"
     ]
    },
    {
     "name": "stdout",
     "output_type": "stream",
     "text": [
      "Train: [2200/2953 (74%)]\tLoss: 0.166097\n"
     ]
    },
    {
     "name": "stdout",
     "output_type": "stream",
     "text": [
      "Train: [2400/2953 (81%)]\tLoss: 0.153181\n"
     ]
    },
    {
     "name": "stdout",
     "output_type": "stream",
     "text": [
      "Train: [2600/2953 (88%)]\tLoss: 0.154022\n"
     ]
    },
    {
     "name": "stdout",
     "output_type": "stream",
     "text": [
      "Train: [2800/2953 (95%)]\tLoss: 0.166964\n"
     ]
    },
    {
     "name": "stdout",
     "output_type": "stream",
     "text": [
      "Epoch: 1/20. Train set: Average loss: 0.1760\n",
      "Epoch: 1/20. Validation set: Average loss: 0.1777\n"
     ]
    },
    {
     "name": "stdout",
     "output_type": "stream",
     "text": [
      "Train: [0/2953 (0%)]\tLoss: 0.016215\n"
     ]
    },
    {
     "name": "stdout",
     "output_type": "stream",
     "text": [
      "Train: [200/2953 (7%)]\tLoss: 0.203033\n"
     ]
    },
    {
     "name": "stdout",
     "output_type": "stream",
     "text": [
      "Train: [400/2953 (14%)]\tLoss: 0.181854\n"
     ]
    },
    {
     "name": "stdout",
     "output_type": "stream",
     "text": [
      "Train: [600/2953 (20%)]\tLoss: 0.169093\n"
     ]
    },
    {
     "name": "stdout",
     "output_type": "stream",
     "text": [
      "Train: [800/2953 (27%)]\tLoss: 0.166369\n"
     ]
    },
    {
     "name": "stdout",
     "output_type": "stream",
     "text": [
      "Train: [1000/2953 (34%)]\tLoss: 0.204442\n"
     ]
    },
    {
     "name": "stdout",
     "output_type": "stream",
     "text": [
      "Train: [1200/2953 (41%)]\tLoss: 0.180728\n"
     ]
    },
    {
     "name": "stdout",
     "output_type": "stream",
     "text": [
      "Train: [1400/2953 (47%)]\tLoss: 0.167288\n"
     ]
    },
    {
     "name": "stdout",
     "output_type": "stream",
     "text": [
      "Train: [1600/2953 (54%)]\tLoss: 0.150485\n"
     ]
    },
    {
     "name": "stdout",
     "output_type": "stream",
     "text": [
      "Train: [1800/2953 (61%)]\tLoss: 0.181450\n"
     ]
    },
    {
     "name": "stdout",
     "output_type": "stream",
     "text": [
      "Train: [2000/2953 (68%)]\tLoss: 0.143355\n"
     ]
    },
    {
     "name": "stdout",
     "output_type": "stream",
     "text": [
      "Train: [2200/2953 (74%)]\tLoss: 0.150021\n"
     ]
    },
    {
     "name": "stdout",
     "output_type": "stream",
     "text": [
      "Train: [2400/2953 (81%)]\tLoss: 0.162450\n"
     ]
    },
    {
     "name": "stdout",
     "output_type": "stream",
     "text": [
      "Train: [2600/2953 (88%)]\tLoss: 0.171567\n"
     ]
    },
    {
     "name": "stdout",
     "output_type": "stream",
     "text": [
      "Train: [2800/2953 (95%)]\tLoss: 0.166088\n"
     ]
    },
    {
     "name": "stdout",
     "output_type": "stream",
     "text": [
      "Epoch: 2/20. Train set: Average loss: 0.1697\n",
      "Epoch: 2/20. Validation set: Average loss: 0.1455\n"
     ]
    },
    {
     "name": "stdout",
     "output_type": "stream",
     "text": [
      "Train: [0/2953 (0%)]\tLoss: 0.328908\n"
     ]
    },
    {
     "name": "stdout",
     "output_type": "stream",
     "text": [
      "Train: [200/2953 (7%)]\tLoss: 0.162877\n"
     ]
    },
    {
     "name": "stdout",
     "output_type": "stream",
     "text": [
      "Train: [400/2953 (14%)]\tLoss: 0.171499\n"
     ]
    },
    {
     "name": "stdout",
     "output_type": "stream",
     "text": [
      "Train: [600/2953 (20%)]\tLoss: 0.157974\n"
     ]
    },
    {
     "name": "stdout",
     "output_type": "stream",
     "text": [
      "Train: [800/2953 (27%)]\tLoss: 0.148291\n"
     ]
    },
    {
     "name": "stdout",
     "output_type": "stream",
     "text": [
      "Train: [1000/2953 (34%)]\tLoss: 0.171687\n"
     ]
    },
    {
     "name": "stdout",
     "output_type": "stream",
     "text": [
      "Train: [1200/2953 (41%)]\tLoss: 0.153452\n"
     ]
    },
    {
     "name": "stdout",
     "output_type": "stream",
     "text": [
      "Train: [1400/2953 (47%)]\tLoss: 0.167095\n"
     ]
    },
    {
     "name": "stdout",
     "output_type": "stream",
     "text": [
      "Train: [1600/2953 (54%)]\tLoss: 0.171623\n"
     ]
    },
    {
     "name": "stdout",
     "output_type": "stream",
     "text": [
      "Train: [1800/2953 (61%)]\tLoss: 0.141991\n"
     ]
    },
    {
     "name": "stdout",
     "output_type": "stream",
     "text": [
      "Train: [2000/2953 (68%)]\tLoss: 0.134779\n"
     ]
    },
    {
     "name": "stdout",
     "output_type": "stream",
     "text": [
      "Train: [2200/2953 (74%)]\tLoss: 0.141424\n"
     ]
    },
    {
     "name": "stdout",
     "output_type": "stream",
     "text": [
      "Train: [2400/2953 (81%)]\tLoss: 0.147596\n"
     ]
    },
    {
     "name": "stdout",
     "output_type": "stream",
     "text": [
      "Train: [2600/2953 (88%)]\tLoss: 0.157596\n"
     ]
    },
    {
     "name": "stdout",
     "output_type": "stream",
     "text": [
      "Train: [2800/2953 (95%)]\tLoss: 0.142717\n"
     ]
    },
    {
     "name": "stdout",
     "output_type": "stream",
     "text": [
      "Epoch: 3/20. Train set: Average loss: 0.1540\n",
      "Epoch: 3/20. Validation set: Average loss: 0.1399\n"
     ]
    },
    {
     "name": "stdout",
     "output_type": "stream",
     "text": [
      "Train: [0/2953 (0%)]\tLoss: 0.028604\n"
     ]
    },
    {
     "name": "stdout",
     "output_type": "stream",
     "text": [
      "Train: [200/2953 (7%)]\tLoss: 0.147115\n"
     ]
    },
    {
     "name": "stdout",
     "output_type": "stream",
     "text": [
      "Train: [400/2953 (14%)]\tLoss: 0.146700\n"
     ]
    },
    {
     "name": "stdout",
     "output_type": "stream",
     "text": [
      "Train: [600/2953 (20%)]\tLoss: 0.135956\n"
     ]
    },
    {
     "name": "stdout",
     "output_type": "stream",
     "text": [
      "Train: [800/2953 (27%)]\tLoss: 0.119525\n"
     ]
    },
    {
     "name": "stdout",
     "output_type": "stream",
     "text": [
      "Train: [1000/2953 (34%)]\tLoss: 0.159771\n"
     ]
    },
    {
     "name": "stdout",
     "output_type": "stream",
     "text": [
      "Train: [1200/2953 (41%)]\tLoss: 0.144698\n"
     ]
    },
    {
     "name": "stdout",
     "output_type": "stream",
     "text": [
      "Train: [1400/2953 (47%)]\tLoss: 0.134809\n"
     ]
    },
    {
     "name": "stdout",
     "output_type": "stream",
     "text": [
      "Train: [1600/2953 (54%)]\tLoss: 0.157254\n"
     ]
    },
    {
     "name": "stdout",
     "output_type": "stream",
     "text": [
      "Train: [1800/2953 (61%)]\tLoss: 0.128005\n"
     ]
    },
    {
     "name": "stdout",
     "output_type": "stream",
     "text": [
      "Train: [2000/2953 (68%)]\tLoss: 0.131580\n"
     ]
    },
    {
     "name": "stdout",
     "output_type": "stream",
     "text": [
      "Train: [2200/2953 (74%)]\tLoss: 0.132864\n"
     ]
    },
    {
     "name": "stdout",
     "output_type": "stream",
     "text": [
      "Train: [2400/2953 (81%)]\tLoss: 0.133454\n"
     ]
    },
    {
     "name": "stdout",
     "output_type": "stream",
     "text": [
      "Train: [2600/2953 (88%)]\tLoss: 0.116308\n"
     ]
    },
    {
     "name": "stdout",
     "output_type": "stream",
     "text": [
      "Train: [2800/2953 (95%)]\tLoss: 0.110584\n"
     ]
    },
    {
     "name": "stdout",
     "output_type": "stream",
     "text": [
      "Epoch: 4/20. Train set: Average loss: 0.1342\n",
      "Epoch: 4/20. Validation set: Average loss: 0.1481\n"
     ]
    },
    {
     "name": "stdout",
     "output_type": "stream",
     "text": [
      "Train: [0/2953 (0%)]\tLoss: 0.138174\n"
     ]
    },
    {
     "name": "stdout",
     "output_type": "stream",
     "text": [
      "Train: [200/2953 (7%)]\tLoss: 0.141256\n"
     ]
    },
    {
     "name": "stdout",
     "output_type": "stream",
     "text": [
      "Train: [400/2953 (14%)]\tLoss: 0.126500\n"
     ]
    },
    {
     "name": "stdout",
     "output_type": "stream",
     "text": [
      "Train: [600/2953 (20%)]\tLoss: 0.128917\n"
     ]
    },
    {
     "name": "stdout",
     "output_type": "stream",
     "text": [
      "Train: [800/2953 (27%)]\tLoss: 0.117185\n"
     ]
    },
    {
     "name": "stdout",
     "output_type": "stream",
     "text": [
      "Train: [1000/2953 (34%)]\tLoss: 0.131114\n"
     ]
    },
    {
     "name": "stdout",
     "output_type": "stream",
     "text": [
      "Train: [1200/2953 (41%)]\tLoss: 0.124076\n"
     ]
    },
    {
     "name": "stdout",
     "output_type": "stream",
     "text": [
      "Train: [1400/2953 (47%)]\tLoss: 0.123007\n"
     ]
    },
    {
     "name": "stdout",
     "output_type": "stream",
     "text": [
      "Train: [1600/2953 (54%)]\tLoss: 0.126658\n"
     ]
    },
    {
     "name": "stdout",
     "output_type": "stream",
     "text": [
      "Train: [1800/2953 (61%)]\tLoss: 0.126161\n"
     ]
    },
    {
     "name": "stdout",
     "output_type": "stream",
     "text": [
      "Train: [2000/2953 (68%)]\tLoss: 0.114950\n"
     ]
    },
    {
     "name": "stdout",
     "output_type": "stream",
     "text": [
      "Train: [2200/2953 (74%)]\tLoss: 0.131159\n"
     ]
    },
    {
     "name": "stdout",
     "output_type": "stream",
     "text": [
      "Train: [2400/2953 (81%)]\tLoss: 0.128327\n"
     ]
    },
    {
     "name": "stdout",
     "output_type": "stream",
     "text": [
      "Train: [2600/2953 (88%)]\tLoss: 0.157025\n"
     ]
    },
    {
     "name": "stdout",
     "output_type": "stream",
     "text": [
      "Train: [2800/2953 (95%)]\tLoss: 0.180737\n"
     ]
    },
    {
     "name": "stdout",
     "output_type": "stream",
     "text": [
      "Epoch: 5/20. Train set: Average loss: 0.1327\n",
      "Epoch: 5/20. Validation set: Average loss: 0.1415\n"
     ]
    },
    {
     "name": "stdout",
     "output_type": "stream",
     "text": [
      "Train: [0/2953 (0%)]\tLoss: 0.106734\n"
     ]
    },
    {
     "name": "stdout",
     "output_type": "stream",
     "text": [
      "Train: [200/2953 (7%)]\tLoss: 0.128148\n"
     ]
    },
    {
     "name": "stdout",
     "output_type": "stream",
     "text": [
      "Train: [400/2953 (14%)]\tLoss: 0.139468\n"
     ]
    },
    {
     "name": "stdout",
     "output_type": "stream",
     "text": [
      "Train: [600/2953 (20%)]\tLoss: 0.145007\n"
     ]
    },
    {
     "name": "stdout",
     "output_type": "stream",
     "text": [
      "Train: [800/2953 (27%)]\tLoss: 0.145989\n"
     ]
    },
    {
     "name": "stdout",
     "output_type": "stream",
     "text": [
      "Train: [1000/2953 (34%)]\tLoss: 0.137510\n"
     ]
    },
    {
     "name": "stdout",
     "output_type": "stream",
     "text": [
      "Train: [1200/2953 (41%)]\tLoss: 0.135548\n"
     ]
    },
    {
     "name": "stdout",
     "output_type": "stream",
     "text": [
      "Train: [1400/2953 (47%)]\tLoss: 0.127205\n"
     ]
    },
    {
     "name": "stdout",
     "output_type": "stream",
     "text": [
      "Train: [1600/2953 (54%)]\tLoss: 0.109305\n"
     ]
    },
    {
     "name": "stdout",
     "output_type": "stream",
     "text": [
      "Train: [1800/2953 (61%)]\tLoss: 0.127541\n"
     ]
    },
    {
     "name": "stdout",
     "output_type": "stream",
     "text": [
      "Train: [2000/2953 (68%)]\tLoss: 0.118160\n"
     ]
    },
    {
     "name": "stdout",
     "output_type": "stream",
     "text": [
      "Train: [2200/2953 (74%)]\tLoss: 0.103507\n"
     ]
    },
    {
     "name": "stdout",
     "output_type": "stream",
     "text": [
      "Train: [2400/2953 (81%)]\tLoss: 0.119799\n"
     ]
    },
    {
     "name": "stdout",
     "output_type": "stream",
     "text": [
      "Train: [2600/2953 (88%)]\tLoss: 0.130861\n"
     ]
    },
    {
     "name": "stdout",
     "output_type": "stream",
     "text": [
      "Train: [2800/2953 (95%)]\tLoss: 0.127981\n"
     ]
    },
    {
     "name": "stdout",
     "output_type": "stream",
     "text": [
      "Epoch: 6/20. Train set: Average loss: 0.1276\n",
      "Epoch: 6/20. Validation set: Average loss: 0.1727\n"
     ]
    },
    {
     "name": "stdout",
     "output_type": "stream",
     "text": [
      "Train: [0/2953 (0%)]\tLoss: 0.277723\n"
     ]
    },
    {
     "name": "stdout",
     "output_type": "stream",
     "text": [
      "Train: [200/2953 (7%)]\tLoss: 0.141776\n"
     ]
    },
    {
     "name": "stdout",
     "output_type": "stream",
     "text": [
      "Train: [400/2953 (14%)]\tLoss: 0.131618\n"
     ]
    },
    {
     "name": "stdout",
     "output_type": "stream",
     "text": [
      "Train: [600/2953 (20%)]\tLoss: 0.144439\n"
     ]
    },
    {
     "name": "stdout",
     "output_type": "stream",
     "text": [
      "Train: [800/2953 (27%)]\tLoss: 0.119658\n"
     ]
    },
    {
     "name": "stdout",
     "output_type": "stream",
     "text": [
      "Train: [1000/2953 (34%)]\tLoss: 0.131761\n"
     ]
    },
    {
     "name": "stdout",
     "output_type": "stream",
     "text": [
      "Train: [1200/2953 (41%)]\tLoss: 0.129416\n"
     ]
    },
    {
     "name": "stdout",
     "output_type": "stream",
     "text": [
      "Train: [1400/2953 (47%)]\tLoss: 0.114231\n"
     ]
    },
    {
     "name": "stdout",
     "output_type": "stream",
     "text": [
      "Train: [1600/2953 (54%)]\tLoss: 0.125556\n"
     ]
    },
    {
     "name": "stdout",
     "output_type": "stream",
     "text": [
      "Train: [1800/2953 (61%)]\tLoss: 0.116419\n"
     ]
    },
    {
     "name": "stdout",
     "output_type": "stream",
     "text": [
      "Train: [2000/2953 (68%)]\tLoss: 0.095425\n"
     ]
    },
    {
     "name": "stdout",
     "output_type": "stream",
     "text": [
      "Train: [2200/2953 (74%)]\tLoss: 0.092538\n"
     ]
    },
    {
     "name": "stdout",
     "output_type": "stream",
     "text": [
      "Train: [2400/2953 (81%)]\tLoss: 0.129980\n"
     ]
    },
    {
     "name": "stdout",
     "output_type": "stream",
     "text": [
      "Train: [2600/2953 (88%)]\tLoss: 0.114132\n"
     ]
    },
    {
     "name": "stdout",
     "output_type": "stream",
     "text": [
      "Train: [2800/2953 (95%)]\tLoss: 0.119833\n"
     ]
    },
    {
     "name": "stdout",
     "output_type": "stream",
     "text": [
      "Epoch: 7/20. Train set: Average loss: 0.1209\n",
      "Epoch: 7/20. Validation set: Average loss: 0.1499\n"
     ]
    },
    {
     "name": "stdout",
     "output_type": "stream",
     "text": [
      "Train: [0/2953 (0%)]\tLoss: 0.170570\n"
     ]
    },
    {
     "name": "stdout",
     "output_type": "stream",
     "text": [
      "Train: [200/2953 (7%)]\tLoss: 0.127654\n"
     ]
    },
    {
     "name": "stdout",
     "output_type": "stream",
     "text": [
      "Train: [400/2953 (14%)]\tLoss: 0.103123\n"
     ]
    },
    {
     "name": "stdout",
     "output_type": "stream",
     "text": [
      "Train: [600/2953 (20%)]\tLoss: 0.106988\n"
     ]
    },
    {
     "name": "stdout",
     "output_type": "stream",
     "text": [
      "Train: [800/2953 (27%)]\tLoss: 0.090758\n"
     ]
    },
    {
     "name": "stdout",
     "output_type": "stream",
     "text": [
      "Train: [1000/2953 (34%)]\tLoss: 0.121474\n"
     ]
    },
    {
     "name": "stdout",
     "output_type": "stream",
     "text": [
      "Train: [1200/2953 (41%)]\tLoss: 0.096013\n"
     ]
    },
    {
     "name": "stdout",
     "output_type": "stream",
     "text": [
      "Train: [1400/2953 (47%)]\tLoss: 0.103768\n"
     ]
    },
    {
     "name": "stdout",
     "output_type": "stream",
     "text": [
      "Train: [1600/2953 (54%)]\tLoss: 0.104413\n"
     ]
    },
    {
     "name": "stdout",
     "output_type": "stream",
     "text": [
      "Train: [1800/2953 (61%)]\tLoss: 0.089537\n"
     ]
    },
    {
     "name": "stdout",
     "output_type": "stream",
     "text": [
      "Train: [2000/2953 (68%)]\tLoss: 0.108339\n"
     ]
    },
    {
     "name": "stdout",
     "output_type": "stream",
     "text": [
      "Train: [2200/2953 (74%)]\tLoss: 0.095049\n"
     ]
    },
    {
     "name": "stdout",
     "output_type": "stream",
     "text": [
      "Train: [2400/2953 (81%)]\tLoss: 0.094763\n"
     ]
    },
    {
     "name": "stdout",
     "output_type": "stream",
     "text": [
      "Train: [2600/2953 (88%)]\tLoss: 0.075260\n"
     ]
    },
    {
     "name": "stdout",
     "output_type": "stream",
     "text": [
      "Train: [2800/2953 (95%)]\tLoss: 0.099680\n"
     ]
    },
    {
     "name": "stdout",
     "output_type": "stream",
     "text": [
      "Epoch: 8/20. Train set: Average loss: 0.1012\n",
      "Epoch: 8/20. Validation set: Average loss: 0.1589\n"
     ]
    },
    {
     "name": "stdout",
     "output_type": "stream",
     "text": [
      "Train: [0/2953 (0%)]\tLoss: 0.315859\n"
     ]
    },
    {
     "name": "stdout",
     "output_type": "stream",
     "text": [
      "Train: [200/2953 (7%)]\tLoss: 0.117003\n"
     ]
    },
    {
     "name": "stdout",
     "output_type": "stream",
     "text": [
      "Train: [400/2953 (14%)]\tLoss: 0.117069\n"
     ]
    },
    {
     "name": "stdout",
     "output_type": "stream",
     "text": [
      "Train: [600/2953 (20%)]\tLoss: 0.098982\n"
     ]
    },
    {
     "name": "stdout",
     "output_type": "stream",
     "text": [
      "Train: [800/2953 (27%)]\tLoss: 0.088586\n"
     ]
    },
    {
     "name": "stdout",
     "output_type": "stream",
     "text": [
      "Train: [1000/2953 (34%)]\tLoss: 0.098823\n"
     ]
    },
    {
     "name": "stdout",
     "output_type": "stream",
     "text": [
      "Train: [1200/2953 (41%)]\tLoss: 0.101571\n"
     ]
    },
    {
     "name": "stdout",
     "output_type": "stream",
     "text": [
      "Train: [1400/2953 (47%)]\tLoss: 0.091591\n"
     ]
    },
    {
     "name": "stdout",
     "output_type": "stream",
     "text": [
      "Train: [1600/2953 (54%)]\tLoss: 0.111232\n"
     ]
    },
    {
     "name": "stdout",
     "output_type": "stream",
     "text": [
      "Train: [1800/2953 (61%)]\tLoss: 0.102119\n"
     ]
    },
    {
     "name": "stdout",
     "output_type": "stream",
     "text": [
      "Train: [2000/2953 (68%)]\tLoss: 0.089386\n"
     ]
    },
    {
     "name": "stdout",
     "output_type": "stream",
     "text": [
      "Train: [2200/2953 (74%)]\tLoss: 0.094043\n"
     ]
    },
    {
     "name": "stdout",
     "output_type": "stream",
     "text": [
      "Train: [2400/2953 (81%)]\tLoss: 0.095737\n"
     ]
    },
    {
     "name": "stdout",
     "output_type": "stream",
     "text": [
      "Train: [2600/2953 (88%)]\tLoss: 0.078462\n"
     ]
    },
    {
     "name": "stdout",
     "output_type": "stream",
     "text": [
      "Train: [2800/2953 (95%)]\tLoss: 0.086246\n"
     ]
    },
    {
     "name": "stdout",
     "output_type": "stream",
     "text": [
      "Epoch: 9/20. Train set: Average loss: 0.0976\n",
      "Epoch: 9/20. Validation set: Average loss: 0.1538\n"
     ]
    },
    {
     "name": "stdout",
     "output_type": "stream",
     "text": [
      "Train: [0/2953 (0%)]\tLoss: 0.300455\n"
     ]
    },
    {
     "name": "stdout",
     "output_type": "stream",
     "text": [
      "Train: [200/2953 (7%)]\tLoss: 0.099736\n"
     ]
    },
    {
     "name": "stdout",
     "output_type": "stream",
     "text": [
      "Train: [400/2953 (14%)]\tLoss: 0.106488\n"
     ]
    },
    {
     "name": "stdout",
     "output_type": "stream",
     "text": [
      "Train: [600/2953 (20%)]\tLoss: 0.106542\n"
     ]
    },
    {
     "name": "stdout",
     "output_type": "stream",
     "text": [
      "Train: [800/2953 (27%)]\tLoss: 0.085676\n"
     ]
    },
    {
     "name": "stdout",
     "output_type": "stream",
     "text": [
      "Train: [1000/2953 (34%)]\tLoss: 0.097654\n"
     ]
    },
    {
     "name": "stdout",
     "output_type": "stream",
     "text": [
      "Train: [1200/2953 (41%)]\tLoss: 0.097928\n"
     ]
    },
    {
     "name": "stdout",
     "output_type": "stream",
     "text": [
      "Train: [1400/2953 (47%)]\tLoss: 0.085255\n"
     ]
    },
    {
     "name": "stdout",
     "output_type": "stream",
     "text": [
      "Train: [1600/2953 (54%)]\tLoss: 0.113597\n"
     ]
    },
    {
     "name": "stdout",
     "output_type": "stream",
     "text": [
      "Train: [1800/2953 (61%)]\tLoss: 0.081835\n"
     ]
    },
    {
     "name": "stdout",
     "output_type": "stream",
     "text": [
      "Train: [2000/2953 (68%)]\tLoss: 0.089870\n"
     ]
    },
    {
     "name": "stdout",
     "output_type": "stream",
     "text": [
      "Train: [2200/2953 (74%)]\tLoss: 0.080029\n"
     ]
    },
    {
     "name": "stdout",
     "output_type": "stream",
     "text": [
      "Train: [2400/2953 (81%)]\tLoss: 0.085738\n"
     ]
    },
    {
     "name": "stdout",
     "output_type": "stream",
     "text": [
      "Train: [2600/2953 (88%)]\tLoss: 0.090134\n"
     ]
    },
    {
     "name": "stdout",
     "output_type": "stream",
     "text": [
      "Train: [2800/2953 (95%)]\tLoss: 0.092651\n"
     ]
    },
    {
     "name": "stdout",
     "output_type": "stream",
     "text": [
      "Epoch: 10/20. Train set: Average loss: 0.0935\n",
      "Epoch: 10/20. Validation set: Average loss: 0.1460\n"
     ]
    },
    {
     "name": "stdout",
     "output_type": "stream",
     "text": [
      "Train: [0/2953 (0%)]\tLoss: 0.143047\n"
     ]
    },
    {
     "name": "stdout",
     "output_type": "stream",
     "text": [
      "Train: [200/2953 (7%)]\tLoss: 0.092490\n"
     ]
    },
    {
     "name": "stdout",
     "output_type": "stream",
     "text": [
      "Train: [400/2953 (14%)]\tLoss: 0.089470\n"
     ]
    },
    {
     "name": "stdout",
     "output_type": "stream",
     "text": [
      "Train: [600/2953 (20%)]\tLoss: 0.087664\n"
     ]
    },
    {
     "name": "stdout",
     "output_type": "stream",
     "text": [
      "Train: [800/2953 (27%)]\tLoss: 0.081590\n"
     ]
    },
    {
     "name": "stdout",
     "output_type": "stream",
     "text": [
      "Train: [1000/2953 (34%)]\tLoss: 0.103387\n"
     ]
    },
    {
     "name": "stdout",
     "output_type": "stream",
     "text": [
      "Train: [1200/2953 (41%)]\tLoss: 0.086091\n"
     ]
    },
    {
     "name": "stdout",
     "output_type": "stream",
     "text": [
      "Train: [1400/2953 (47%)]\tLoss: 0.081726\n"
     ]
    },
    {
     "name": "stdout",
     "output_type": "stream",
     "text": [
      "Train: [1600/2953 (54%)]\tLoss: 0.093927\n"
     ]
    },
    {
     "name": "stdout",
     "output_type": "stream",
     "text": [
      "Train: [1800/2953 (61%)]\tLoss: 0.088705\n"
     ]
    },
    {
     "name": "stdout",
     "output_type": "stream",
     "text": [
      "Train: [2000/2953 (68%)]\tLoss: 0.083362\n"
     ]
    },
    {
     "name": "stdout",
     "output_type": "stream",
     "text": [
      "Train: [2200/2953 (74%)]\tLoss: 0.092623\n"
     ]
    },
    {
     "name": "stdout",
     "output_type": "stream",
     "text": [
      "Train: [2400/2953 (81%)]\tLoss: 0.077536\n"
     ]
    },
    {
     "name": "stdout",
     "output_type": "stream",
     "text": [
      "Train: [2600/2953 (88%)]\tLoss: 0.079143\n"
     ]
    },
    {
     "name": "stdout",
     "output_type": "stream",
     "text": [
      "Train: [2800/2953 (95%)]\tLoss: 0.087198\n"
     ]
    },
    {
     "name": "stdout",
     "output_type": "stream",
     "text": [
      "Epoch: 11/20. Train set: Average loss: 0.0872\n",
      "Epoch: 11/20. Validation set: Average loss: 0.1519\n"
     ]
    },
    {
     "name": "stdout",
     "output_type": "stream",
     "text": [
      "Train: [0/2953 (0%)]\tLoss: 0.135612\n"
     ]
    },
    {
     "name": "stdout",
     "output_type": "stream",
     "text": [
      "Train: [200/2953 (7%)]\tLoss: 0.101146\n"
     ]
    },
    {
     "name": "stdout",
     "output_type": "stream",
     "text": [
      "Train: [400/2953 (14%)]\tLoss: 0.094630\n"
     ]
    },
    {
     "name": "stdout",
     "output_type": "stream",
     "text": [
      "Train: [600/2953 (20%)]\tLoss: 0.093568\n"
     ]
    },
    {
     "name": "stdout",
     "output_type": "stream",
     "text": [
      "Train: [800/2953 (27%)]\tLoss: 0.078461\n"
     ]
    },
    {
     "name": "stdout",
     "output_type": "stream",
     "text": [
      "Train: [1000/2953 (34%)]\tLoss: 0.100317\n"
     ]
    },
    {
     "name": "stdout",
     "output_type": "stream",
     "text": [
      "Train: [1200/2953 (41%)]\tLoss: 0.077054\n"
     ]
    },
    {
     "name": "stdout",
     "output_type": "stream",
     "text": [
      "Train: [1400/2953 (47%)]\tLoss: 0.077643\n"
     ]
    },
    {
     "name": "stdout",
     "output_type": "stream",
     "text": [
      "Train: [1600/2953 (54%)]\tLoss: 0.089196\n"
     ]
    },
    {
     "name": "stdout",
     "output_type": "stream",
     "text": [
      "Train: [1800/2953 (61%)]\tLoss: 0.093347\n"
     ]
    },
    {
     "name": "stdout",
     "output_type": "stream",
     "text": [
      "Train: [2000/2953 (68%)]\tLoss: 0.080275\n"
     ]
    },
    {
     "name": "stdout",
     "output_type": "stream",
     "text": [
      "Train: [2200/2953 (74%)]\tLoss: 0.078040\n"
     ]
    },
    {
     "name": "stdout",
     "output_type": "stream",
     "text": [
      "Train: [2400/2953 (81%)]\tLoss: 0.088820\n"
     ]
    },
    {
     "name": "stdout",
     "output_type": "stream",
     "text": [
      "Train: [2600/2953 (88%)]\tLoss: 0.072464\n"
     ]
    },
    {
     "name": "stdout",
     "output_type": "stream",
     "text": [
      "Train: [2800/2953 (95%)]\tLoss: 0.087423\n"
     ]
    },
    {
     "name": "stdout",
     "output_type": "stream",
     "text": [
      "Epoch: 12/20. Train set: Average loss: 0.0860\n",
      "Epoch: 12/20. Validation set: Average loss: 0.1502\n"
     ]
    },
    {
     "name": "stdout",
     "output_type": "stream",
     "text": [
      "Train: [0/2953 (0%)]\tLoss: 0.177655\n"
     ]
    },
    {
     "name": "stdout",
     "output_type": "stream",
     "text": [
      "Train: [200/2953 (7%)]\tLoss: 0.099436\n"
     ]
    },
    {
     "name": "stdout",
     "output_type": "stream",
     "text": [
      "Train: [400/2953 (14%)]\tLoss: 0.076424\n"
     ]
    },
    {
     "name": "stdout",
     "output_type": "stream",
     "text": [
      "Train: [600/2953 (20%)]\tLoss: 0.090274\n"
     ]
    },
    {
     "name": "stdout",
     "output_type": "stream",
     "text": [
      "Train: [800/2953 (27%)]\tLoss: 0.072989\n"
     ]
    },
    {
     "name": "stdout",
     "output_type": "stream",
     "text": [
      "Train: [1000/2953 (34%)]\tLoss: 0.080495\n"
     ]
    },
    {
     "name": "stdout",
     "output_type": "stream",
     "text": [
      "Train: [1200/2953 (41%)]\tLoss: 0.078022\n"
     ]
    },
    {
     "name": "stdout",
     "output_type": "stream",
     "text": [
      "Train: [1400/2953 (47%)]\tLoss: 0.086482\n"
     ]
    },
    {
     "name": "stdout",
     "output_type": "stream",
     "text": [
      "Train: [1600/2953 (54%)]\tLoss: 0.093985\n"
     ]
    },
    {
     "name": "stdout",
     "output_type": "stream",
     "text": [
      "Train: [1800/2953 (61%)]\tLoss: 0.093886\n"
     ]
    },
    {
     "name": "stdout",
     "output_type": "stream",
     "text": [
      "Train: [2000/2953 (68%)]\tLoss: 0.089303\n"
     ]
    },
    {
     "name": "stdout",
     "output_type": "stream",
     "text": [
      "Train: [2200/2953 (74%)]\tLoss: 0.077543\n"
     ]
    },
    {
     "name": "stdout",
     "output_type": "stream",
     "text": [
      "Train: [2400/2953 (81%)]\tLoss: 0.089042\n"
     ]
    },
    {
     "name": "stdout",
     "output_type": "stream",
     "text": [
      "Train: [2600/2953 (88%)]\tLoss: 0.091610\n"
     ]
    },
    {
     "name": "stdout",
     "output_type": "stream",
     "text": [
      "Train: [2800/2953 (95%)]\tLoss: 0.068709\n"
     ]
    },
    {
     "name": "stdout",
     "output_type": "stream",
     "text": [
      "Epoch: 13/20. Train set: Average loss: 0.0850\n",
      "Epoch: 13/20. Validation set: Average loss: 0.1496\n"
     ]
    },
    {
     "name": "stdout",
     "output_type": "stream",
     "text": [
      "Train: [0/2953 (0%)]\tLoss: 0.197846\n"
     ]
    },
    {
     "name": "stdout",
     "output_type": "stream",
     "text": [
      "Train: [200/2953 (7%)]\tLoss: 0.084137\n"
     ]
    },
    {
     "name": "stdout",
     "output_type": "stream",
     "text": [
      "Train: [400/2953 (14%)]\tLoss: 0.106943\n"
     ]
    },
    {
     "name": "stdout",
     "output_type": "stream",
     "text": [
      "Train: [600/2953 (20%)]\tLoss: 0.072560\n"
     ]
    },
    {
     "name": "stdout",
     "output_type": "stream",
     "text": [
      "Train: [800/2953 (27%)]\tLoss: 0.084301\n"
     ]
    },
    {
     "name": "stdout",
     "output_type": "stream",
     "text": [
      "Train: [1000/2953 (34%)]\tLoss: 0.086423\n"
     ]
    },
    {
     "name": "stdout",
     "output_type": "stream",
     "text": [
      "Train: [1200/2953 (41%)]\tLoss: 0.080985\n"
     ]
    },
    {
     "name": "stdout",
     "output_type": "stream",
     "text": [
      "Train: [1400/2953 (47%)]\tLoss: 0.085226\n"
     ]
    },
    {
     "name": "stdout",
     "output_type": "stream",
     "text": [
      "Train: [1600/2953 (54%)]\tLoss: 0.093636\n"
     ]
    },
    {
     "name": "stdout",
     "output_type": "stream",
     "text": [
      "Train: [1800/2953 (61%)]\tLoss: 0.078429\n"
     ]
    },
    {
     "name": "stdout",
     "output_type": "stream",
     "text": [
      "Train: [2000/2953 (68%)]\tLoss: 0.089513\n"
     ]
    },
    {
     "name": "stdout",
     "output_type": "stream",
     "text": [
      "Train: [2200/2953 (74%)]\tLoss: 0.083171\n"
     ]
    },
    {
     "name": "stdout",
     "output_type": "stream",
     "text": [
      "Train: [2400/2953 (81%)]\tLoss: 0.078378\n"
     ]
    },
    {
     "name": "stdout",
     "output_type": "stream",
     "text": [
      "Train: [2600/2953 (88%)]\tLoss: 0.067930\n"
     ]
    },
    {
     "name": "stdout",
     "output_type": "stream",
     "text": [
      "Train: [2800/2953 (95%)]\tLoss: 0.076188\n"
     ]
    },
    {
     "name": "stdout",
     "output_type": "stream",
     "text": [
      "Epoch: 14/20. Train set: Average loss: 0.0826\n",
      "Epoch: 14/20. Validation set: Average loss: 0.1456\n"
     ]
    },
    {
     "name": "stdout",
     "output_type": "stream",
     "text": [
      "Train: [0/2953 (0%)]\tLoss: 0.148455\n"
     ]
    },
    {
     "name": "stdout",
     "output_type": "stream",
     "text": [
      "Train: [200/2953 (7%)]\tLoss: 0.083198\n"
     ]
    },
    {
     "name": "stdout",
     "output_type": "stream",
     "text": [
      "Train: [400/2953 (14%)]\tLoss: 0.078889\n"
     ]
    },
    {
     "name": "stdout",
     "output_type": "stream",
     "text": [
      "Train: [600/2953 (20%)]\tLoss: 0.086037\n"
     ]
    },
    {
     "name": "stdout",
     "output_type": "stream",
     "text": [
      "Train: [800/2953 (27%)]\tLoss: 0.066402\n"
     ]
    },
    {
     "name": "stdout",
     "output_type": "stream",
     "text": [
      "Train: [1000/2953 (34%)]\tLoss: 0.093598\n"
     ]
    },
    {
     "name": "stdout",
     "output_type": "stream",
     "text": [
      "Train: [1200/2953 (41%)]\tLoss: 0.086561\n"
     ]
    },
    {
     "name": "stdout",
     "output_type": "stream",
     "text": [
      "Train: [1400/2953 (47%)]\tLoss: 0.085173\n"
     ]
    },
    {
     "name": "stdout",
     "output_type": "stream",
     "text": [
      "Train: [1600/2953 (54%)]\tLoss: 0.086932\n"
     ]
    },
    {
     "name": "stdout",
     "output_type": "stream",
     "text": [
      "Train: [1800/2953 (61%)]\tLoss: 0.076669\n"
     ]
    },
    {
     "name": "stdout",
     "output_type": "stream",
     "text": [
      "Train: [2000/2953 (68%)]\tLoss: 0.081317\n"
     ]
    },
    {
     "name": "stdout",
     "output_type": "stream",
     "text": [
      "Train: [2200/2953 (74%)]\tLoss: 0.077422\n"
     ]
    },
    {
     "name": "stdout",
     "output_type": "stream",
     "text": [
      "Train: [2400/2953 (81%)]\tLoss: 0.066672\n"
     ]
    },
    {
     "name": "stdout",
     "output_type": "stream",
     "text": [
      "Train: [2600/2953 (88%)]\tLoss: 0.066278\n"
     ]
    },
    {
     "name": "stdout",
     "output_type": "stream",
     "text": [
      "Train: [2800/2953 (95%)]\tLoss: 0.099783\n"
     ]
    },
    {
     "name": "stdout",
     "output_type": "stream",
     "text": [
      "Epoch: 15/20. Train set: Average loss: 0.0813\n",
      "Epoch: 15/20. Validation set: Average loss: 0.1517\n"
     ]
    },
    {
     "name": "stdout",
     "output_type": "stream",
     "text": [
      "Train: [0/2953 (0%)]\tLoss: 0.116790\n"
     ]
    },
    {
     "name": "stdout",
     "output_type": "stream",
     "text": [
      "Train: [200/2953 (7%)]\tLoss: 0.099202\n"
     ]
    },
    {
     "name": "stdout",
     "output_type": "stream",
     "text": [
      "Train: [400/2953 (14%)]\tLoss: 0.079695\n"
     ]
    },
    {
     "name": "stdout",
     "output_type": "stream",
     "text": [
      "Train: [600/2953 (20%)]\tLoss: 0.098559\n"
     ]
    },
    {
     "name": "stdout",
     "output_type": "stream",
     "text": [
      "Train: [800/2953 (27%)]\tLoss: 0.067713\n"
     ]
    },
    {
     "name": "stdout",
     "output_type": "stream",
     "text": [
      "Train: [1000/2953 (34%)]\tLoss: 0.075714\n"
     ]
    },
    {
     "name": "stdout",
     "output_type": "stream",
     "text": [
      "Train: [1200/2953 (41%)]\tLoss: 0.089688\n"
     ]
    },
    {
     "name": "stdout",
     "output_type": "stream",
     "text": [
      "Train: [1400/2953 (47%)]\tLoss: 0.067835\n"
     ]
    },
    {
     "name": "stdout",
     "output_type": "stream",
     "text": [
      "Train: [1600/2953 (54%)]\tLoss: 0.077221\n"
     ]
    },
    {
     "name": "stdout",
     "output_type": "stream",
     "text": [
      "Train: [1800/2953 (61%)]\tLoss: 0.083278\n"
     ]
    },
    {
     "name": "stdout",
     "output_type": "stream",
     "text": [
      "Train: [2000/2953 (68%)]\tLoss: 0.070398\n"
     ]
    },
    {
     "name": "stdout",
     "output_type": "stream",
     "text": [
      "Train: [2200/2953 (74%)]\tLoss: 0.074553\n"
     ]
    },
    {
     "name": "stdout",
     "output_type": "stream",
     "text": [
      "Train: [2400/2953 (81%)]\tLoss: 0.079366\n"
     ]
    },
    {
     "name": "stdout",
     "output_type": "stream",
     "text": [
      "Train: [2600/2953 (88%)]\tLoss: 0.059563\n"
     ]
    },
    {
     "name": "stdout",
     "output_type": "stream",
     "text": [
      "Train: [2800/2953 (95%)]\tLoss: 0.076576\n"
     ]
    },
    {
     "name": "stdout",
     "output_type": "stream",
     "text": [
      "Epoch: 16/20. Train set: Average loss: 0.0783\n",
      "Epoch: 16/20. Validation set: Average loss: 0.1469\n"
     ]
    },
    {
     "name": "stdout",
     "output_type": "stream",
     "text": [
      "Train: [0/2953 (0%)]\tLoss: 0.078828\n"
     ]
    },
    {
     "name": "stdout",
     "output_type": "stream",
     "text": [
      "Train: [200/2953 (7%)]\tLoss: 0.088988\n"
     ]
    },
    {
     "name": "stdout",
     "output_type": "stream",
     "text": [
      "Train: [400/2953 (14%)]\tLoss: 0.088174\n"
     ]
    },
    {
     "name": "stdout",
     "output_type": "stream",
     "text": [
      "Train: [600/2953 (20%)]\tLoss: 0.070458\n"
     ]
    },
    {
     "name": "stdout",
     "output_type": "stream",
     "text": [
      "Train: [800/2953 (27%)]\tLoss: 0.066574\n"
     ]
    },
    {
     "name": "stdout",
     "output_type": "stream",
     "text": [
      "Train: [1000/2953 (34%)]\tLoss: 0.085697\n"
     ]
    },
    {
     "name": "stdout",
     "output_type": "stream",
     "text": [
      "Train: [1200/2953 (41%)]\tLoss: 0.075711\n"
     ]
    },
    {
     "name": "stdout",
     "output_type": "stream",
     "text": [
      "Train: [1400/2953 (47%)]\tLoss: 0.085552\n"
     ]
    },
    {
     "name": "stdout",
     "output_type": "stream",
     "text": [
      "Train: [1600/2953 (54%)]\tLoss: 0.072631\n"
     ]
    },
    {
     "name": "stdout",
     "output_type": "stream",
     "text": [
      "Train: [1800/2953 (61%)]\tLoss: 0.065189\n"
     ]
    },
    {
     "name": "stdout",
     "output_type": "stream",
     "text": [
      "Train: [2000/2953 (68%)]\tLoss: 0.073932\n"
     ]
    },
    {
     "name": "stdout",
     "output_type": "stream",
     "text": [
      "Train: [2200/2953 (74%)]\tLoss: 0.069697\n"
     ]
    },
    {
     "name": "stdout",
     "output_type": "stream",
     "text": [
      "Train: [2400/2953 (81%)]\tLoss: 0.086559\n"
     ]
    },
    {
     "name": "stdout",
     "output_type": "stream",
     "text": [
      "Train: [2600/2953 (88%)]\tLoss: 0.081791\n"
     ]
    },
    {
     "name": "stdout",
     "output_type": "stream",
     "text": [
      "Train: [2800/2953 (95%)]\tLoss: 0.071514\n"
     ]
    },
    {
     "name": "stdout",
     "output_type": "stream",
     "text": [
      "Epoch: 17/20. Train set: Average loss: 0.0767\n",
      "Epoch: 17/20. Validation set: Average loss: 0.1464\n"
     ]
    },
    {
     "name": "stdout",
     "output_type": "stream",
     "text": [
      "Train: [0/2953 (0%)]\tLoss: 0.197519\n"
     ]
    },
    {
     "name": "stdout",
     "output_type": "stream",
     "text": [
      "Train: [200/2953 (7%)]\tLoss: 0.077121\n"
     ]
    },
    {
     "name": "stdout",
     "output_type": "stream",
     "text": [
      "Train: [400/2953 (14%)]\tLoss: 0.082847\n"
     ]
    },
    {
     "name": "stdout",
     "output_type": "stream",
     "text": [
      "Train: [600/2953 (20%)]\tLoss: 0.072609\n"
     ]
    },
    {
     "name": "stdout",
     "output_type": "stream",
     "text": [
      "Train: [800/2953 (27%)]\tLoss: 0.068284\n"
     ]
    },
    {
     "name": "stdout",
     "output_type": "stream",
     "text": [
      "Train: [1000/2953 (34%)]\tLoss: 0.100543\n"
     ]
    },
    {
     "name": "stdout",
     "output_type": "stream",
     "text": [
      "Train: [1200/2953 (41%)]\tLoss: 0.075502\n"
     ]
    },
    {
     "name": "stdout",
     "output_type": "stream",
     "text": [
      "Train: [1400/2953 (47%)]\tLoss: 0.090939\n"
     ]
    },
    {
     "name": "stdout",
     "output_type": "stream",
     "text": [
      "Train: [1600/2953 (54%)]\tLoss: 0.071481\n"
     ]
    },
    {
     "name": "stdout",
     "output_type": "stream",
     "text": [
      "Train: [1800/2953 (61%)]\tLoss: 0.074712\n"
     ]
    },
    {
     "name": "stdout",
     "output_type": "stream",
     "text": [
      "Train: [2000/2953 (68%)]\tLoss: 0.079943\n"
     ]
    },
    {
     "name": "stdout",
     "output_type": "stream",
     "text": [
      "Train: [2200/2953 (74%)]\tLoss: 0.071013\n"
     ]
    },
    {
     "name": "stdout",
     "output_type": "stream",
     "text": [
      "Train: [2400/2953 (81%)]\tLoss: 0.079144\n"
     ]
    },
    {
     "name": "stdout",
     "output_type": "stream",
     "text": [
      "Train: [2600/2953 (88%)]\tLoss: 0.067595\n"
     ]
    },
    {
     "name": "stdout",
     "output_type": "stream",
     "text": [
      "Train: [2800/2953 (95%)]\tLoss: 0.078447\n"
     ]
    },
    {
     "name": "stdout",
     "output_type": "stream",
     "text": [
      "Epoch: 18/20. Train set: Average loss: 0.0775\n",
      "Epoch: 18/20. Validation set: Average loss: 0.1462\n"
     ]
    },
    {
     "name": "stdout",
     "output_type": "stream",
     "text": [
      "Train: [0/2953 (0%)]\tLoss: 0.209463\n"
     ]
    },
    {
     "name": "stdout",
     "output_type": "stream",
     "text": [
      "Train: [200/2953 (7%)]\tLoss: 0.080225\n"
     ]
    },
    {
     "name": "stdout",
     "output_type": "stream",
     "text": [
      "Train: [400/2953 (14%)]\tLoss: 0.063509\n"
     ]
    },
    {
     "name": "stdout",
     "output_type": "stream",
     "text": [
      "Train: [600/2953 (20%)]\tLoss: 0.086743\n"
     ]
    },
    {
     "name": "stdout",
     "output_type": "stream",
     "text": [
      "Train: [800/2953 (27%)]\tLoss: 0.069849\n"
     ]
    },
    {
     "name": "stdout",
     "output_type": "stream",
     "text": [
      "Train: [1000/2953 (34%)]\tLoss: 0.086636\n"
     ]
    },
    {
     "name": "stdout",
     "output_type": "stream",
     "text": [
      "Train: [1200/2953 (41%)]\tLoss: 0.078232\n"
     ]
    },
    {
     "name": "stdout",
     "output_type": "stream",
     "text": [
      "Train: [1400/2953 (47%)]\tLoss: 0.080459\n"
     ]
    },
    {
     "name": "stdout",
     "output_type": "stream",
     "text": [
      "Train: [1600/2953 (54%)]\tLoss: 0.071910\n"
     ]
    },
    {
     "name": "stdout",
     "output_type": "stream",
     "text": [
      "Train: [1800/2953 (61%)]\tLoss: 0.068456\n"
     ]
    },
    {
     "name": "stdout",
     "output_type": "stream",
     "text": [
      "Train: [2000/2953 (68%)]\tLoss: 0.075925\n"
     ]
    },
    {
     "name": "stdout",
     "output_type": "stream",
     "text": [
      "Train: [2200/2953 (74%)]\tLoss: 0.090096\n"
     ]
    },
    {
     "name": "stdout",
     "output_type": "stream",
     "text": [
      "Train: [2400/2953 (81%)]\tLoss: 0.060620\n"
     ]
    },
    {
     "name": "stdout",
     "output_type": "stream",
     "text": [
      "Train: [2600/2953 (88%)]\tLoss: 0.073714\n"
     ]
    },
    {
     "name": "stdout",
     "output_type": "stream",
     "text": [
      "Train: [2800/2953 (95%)]\tLoss: 0.076874\n"
     ]
    },
    {
     "name": "stdout",
     "output_type": "stream",
     "text": [
      "Epoch: 19/20. Train set: Average loss: 0.0761\n",
      "Epoch: 19/20. Validation set: Average loss: 0.1463\n"
     ]
    },
    {
     "name": "stdout",
     "output_type": "stream",
     "text": [
      "Train: [0/2953 (0%)]\tLoss: 0.099270\n"
     ]
    },
    {
     "name": "stdout",
     "output_type": "stream",
     "text": [
      "Train: [200/2953 (7%)]\tLoss: 0.087179\n"
     ]
    },
    {
     "name": "stdout",
     "output_type": "stream",
     "text": [
      "Train: [400/2953 (14%)]\tLoss: 0.071083\n"
     ]
    },
    {
     "name": "stdout",
     "output_type": "stream",
     "text": [
      "Train: [600/2953 (20%)]\tLoss: 0.079578\n"
     ]
    },
    {
     "name": "stdout",
     "output_type": "stream",
     "text": [
      "Train: [800/2953 (27%)]\tLoss: 0.071033\n"
     ]
    },
    {
     "name": "stdout",
     "output_type": "stream",
     "text": [
      "Train: [1000/2953 (34%)]\tLoss: 0.094680\n"
     ]
    },
    {
     "name": "stdout",
     "output_type": "stream",
     "text": [
      "Train: [1200/2953 (41%)]\tLoss: 0.074864\n"
     ]
    },
    {
     "name": "stdout",
     "output_type": "stream",
     "text": [
      "Train: [1400/2953 (47%)]\tLoss: 0.062847\n"
     ]
    },
    {
     "name": "stdout",
     "output_type": "stream",
     "text": [
      "Train: [1600/2953 (54%)]\tLoss: 0.070457\n"
     ]
    },
    {
     "name": "stdout",
     "output_type": "stream",
     "text": [
      "Train: [1800/2953 (61%)]\tLoss: 0.064181\n"
     ]
    },
    {
     "name": "stdout",
     "output_type": "stream",
     "text": [
      "Train: [2000/2953 (68%)]\tLoss: 0.064833\n"
     ]
    },
    {
     "name": "stdout",
     "output_type": "stream",
     "text": [
      "Train: [2200/2953 (74%)]\tLoss: 0.072706\n"
     ]
    },
    {
     "name": "stdout",
     "output_type": "stream",
     "text": [
      "Train: [2400/2953 (81%)]\tLoss: 0.078458\n"
     ]
    },
    {
     "name": "stdout",
     "output_type": "stream",
     "text": [
      "Train: [2600/2953 (88%)]\tLoss: 0.064611\n"
     ]
    },
    {
     "name": "stdout",
     "output_type": "stream",
     "text": [
      "Train: [2800/2953 (95%)]\tLoss: 0.101210\n"
     ]
    },
    {
     "name": "stdout",
     "output_type": "stream",
     "text": [
      "Epoch: 20/20. Train set: Average loss: 0.0752\n",
      "Epoch: 20/20. Validation set: Average loss: 0.1463\n"
     ]
    }
   ],
   "source": [
    "fit(siamese_train_loader, siamese_dev_loader, model, loss_fn, optimizer, scheduler, n_epochs, cuda, log_interval)"
   ]
  },
  {
   "cell_type": "code",
   "execution_count": 10,
   "metadata": {
    "collapsed": false,
    "inputHidden": false,
    "outputHidden": false,
    "papermill": {
     "duration": 17.736824,
     "end_time": "2019-09-18T17:19:39.252094",
     "exception": false,
     "start_time": "2019-09-18T17:19:21.515270",
     "status": "completed"
    },
    "tags": []
   },
   "outputs": [
    {
     "data": {
      "image/png": "[encoded data removed]",
      "text/plain": [
       "<Figure size 720x720 with 1 Axes>"
      ]
     },
     "metadata": {
      "needs_background": "light"
     },
     "output_type": "display_data"
    },
    {
     "data": {
      "image/png": "[encoded data removed]",
      "text/plain": [
       "<Figure size 720x720 with 1 Axes>"
      ]
     },
     "metadata": {
      "needs_background": "light"
     },
     "output_type": "display_data"
    }
   ],
   "source": [
    "train_embeddings_cl, train_labels_cl = extract_embeddings(train_loader, model)\n",
    "plot_embeddings(train_embeddings_cl, train_labels_cl)\n",
    "val_embeddings_cl, val_labels_cl = extract_embeddings(dev_loader, model)\n",
    "plot_embeddings(val_embeddings_cl, val_labels_cl)"
   ]
  },
  {
   "cell_type": "code",
   "execution_count": 11,
   "metadata": {
    "collapsed": false,
    "inputHidden": false,
    "outputHidden": false,
    "papermill": {
     "duration": 0.806377,
     "end_time": "2019-09-18T17:19:40.130091",
     "exception": false,
     "start_time": "2019-09-18T17:19:39.323714",
     "status": "completed"
    },
    "tags": []
   },
   "outputs": [],
   "source": [
    "torch.save(model.state_dict(), \"siamese_rgb.pth\")"
   ]
  }
 ],
 "metadata": {
  "accelerator": "GPU",
  "colab": {
   "default_view": {},
   "name": "Experiments_MNIST.ipynb",
   "provenance": [],
   "version": "0.3.2",
   "views": {}
  },
  "kernel_info": {
   "name": "python3"
  },
  "kernelspec": {
   "display_name": "Python 3",
   "language": "python",
   "name": "python3"
  },
  "language_info": {
   "codemirror_mode": {
    "name": "ipython",
    "version": 3
   },
   "file_extension": ".py",
   "mimetype": "text/x-python",
   "name": "python",
   "nbconvert_exporter": "python",
   "pygments_lexer": "ipython3",
   "version": "3.7.3"
  },
  "nteract": {
   "version": "0.14.5"
  },
  "papermill": {
   "duration": 2631.187971,
   "end_time": "2019-09-18T17:19:40.710566",
   "environment_variables": {},
   "exception": null,
   "input_path": "RGB Siamese.ipynb",
   "output_path": "RGB Siamese output.ipynb",
   "parameters": {},
   "start_time": "2019-09-18T16:35:49.522595",
   "version": "1.1.0"
  }
 },
 "nbformat": 4,
 "nbformat_minor": 2
}