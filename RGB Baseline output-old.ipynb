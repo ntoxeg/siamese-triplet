{
 "cells": [
  {
   "cell_type": "code",
   "execution_count": 1,
   "metadata": {
    "colab": {
     "autoexec": {
      "startup": false,
      "wait_interval": 0
     }
    },
    "colab_type": "code",
    "id": "sx9e_pXlCuti",
    "papermill": {
     "duration": 0.023683,
     "end_time": "2019-09-18T13:25:59.176066",
     "exception": false,
     "start_time": "2019-09-18T13:25:59.152383",
     "status": "completed"
    },
    "tags": []
   },
   "outputs": [],
   "source": [
    "%load_ext autoreload\n",
    "%autoreload 2"
   ]
  },
  {
   "cell_type": "code",
   "execution_count": 2,
   "metadata": {
    "collapsed": false,
    "inputHidden": false,
    "outputHidden": false,
    "papermill": {
     "duration": 0.016607,
     "end_time": "2019-09-18T13:25:59.200416",
     "exception": false,
     "start_time": "2019-09-18T13:25:59.183809",
     "status": "completed"
    },
    "tags": [
     "parameters"
    ]
   },
   "outputs": [],
   "source": [
    "CENTERNET_TASK = \"ctdet\"\n",
    "CENTERNET_MODEL_PATH = \"/home/adrian/projects/CenterNet/models/ctdet_coco_dla_2x.pth\"\n",
    "\n",
    "data_dir='/home/adrian/data'\n",
    "data_split='val2017'\n",
    "annFile=f'{data_dir}/coco/annotations/instances_{data_split}.json'\n",
    "\n",
    "classes = (\"person\", \"dog\", \"motorcycle\", \"bear\")"
   ]
  },
  {
   "cell_type": "code",
   "execution_count": 3,
   "metadata": {
    "collapsed": false,
    "inputHidden": false,
    "outputHidden": false,
    "papermill": {
     "duration": 0.360756,
     "end_time": "2019-09-18T13:25:59.566450",
     "exception": false,
     "start_time": "2019-09-18T13:25:59.205694",
     "status": "completed"
    },
    "tags": []
   },
   "outputs": [],
   "source": [
    "import torch.utils.data as data\n",
    "from PIL import Image\n",
    "import os\n",
    "from datasets import ImageDataset, COCODataset"
   ]
  },
  {
   "cell_type": "code",
   "execution_count": 4,
   "metadata": {
    "collapsed": false,
    "inputHidden": false,
    "outputHidden": false,
    "papermill": {
     "duration": 2.66621,
     "end_time": "2019-09-18T13:26:02.240892",
     "exception": false,
     "start_time": "2019-09-18T13:25:59.574682",
     "status": "completed"
    },
    "tags": []
   },
   "outputs": [],
   "source": [
    "from torchvision import transforms\n",
    "import torch.nn.functional as F\n",
    "import torch\n",
    "\n",
    "def pad_to_size(img: torch.Tensor, size):\n",
    "    padded = torch.zeros(img.shape[0], size[1], size[0])\n",
    "    padded[:, :img.shape[1], :img.shape[2]] = img\n",
    "    return padded\n",
    "\n",
    "mean, std = 0.1307, 0.3081\n",
    "train_dataset = ImageDataset(\"/home/adrian/data/classy_coconut/train\",\n",
    "                             classes,\n",
    "                               tfm=transforms.Compose([\n",
    "                                 transforms.Normalize((mean,), (std,)),\n",
    "                                 lambda x: pad_to_size(x, (512, 512))\n",
    "                             ]))\n",
    "dev_dataset = ImageDataset('/home/adrian/data/classy_coconut/dev',\n",
    "                            classes,\n",
    "                            tfm=transforms.Compose([\n",
    "                                transforms.Normalize((mean,), (std,)),\n",
    "                                lambda x: pad_to_size(x, (512, 512))\n",
    "                            ]))\n",
    "n_classes = len(classes)"
   ]
  },
  {
   "cell_type": "code",
   "execution_count": 5,
   "metadata": {
    "collapsed": false,
    "inputHidden": false,
    "outputHidden": false,
    "papermill": {
     "duration": 0.073268,
     "end_time": "2019-09-18T13:26:02.319552",
     "exception": false,
     "start_time": "2019-09-18T13:26:02.246284",
     "status": "completed"
    },
    "tags": []
   },
   "outputs": [],
   "source": [
    "import torch\n",
    "from torch.optim import lr_scheduler\n",
    "import torch.optim as optim\n",
    "from torch.autograd import Variable\n",
    "\n",
    "from trainer import fit\n",
    "import numpy as np\n",
    "cuda = torch.cuda.is_available()\n",
    "\n",
    "%matplotlib inline\n",
    "import matplotlib\n",
    "import matplotlib.pyplot as plt\n",
    "\n",
    "colors = ['#1f77b4', '#ff7f0e', '#2ca02c', '#d62728',\n",
    "              '#9467bd', '#8c564b', '#e377c2', '#7f7f7f',\n",
    "              '#bcbd22', '#17becf', '#800080', '#808000', '#F08080']\n",
    "\n",
    "def plot_embeddings(embeddings, targets, xlim=None, ylim=None):\n",
    "    plt.figure(figsize=(10,10))\n",
    "    for i in range(n_classes):\n",
    "        inds = np.where(targets==i)[0]\n",
    "        plt.scatter(embeddings[inds,0], embeddings[inds,1], alpha=0.5, color=colors[i])\n",
    "    if xlim:\n",
    "        plt.xlim(xlim[0], xlim[1])\n",
    "    if ylim:\n",
    "        plt.ylim(ylim[0], ylim[1])\n",
    "    plt.legend(classes)\n",
    "\n",
    "def extract_embeddings(dataloader, model):\n",
    "    with torch.no_grad():\n",
    "        model.eval()\n",
    "        embeddings = np.zeros((len(dataloader.dataset), 2))\n",
    "        labels = np.zeros(len(dataloader.dataset))\n",
    "        k = 0\n",
    "        for images, target in dataloader:\n",
    "            if cuda:\n",
    "                images = images.cuda()\n",
    "            embeddings[k:k+len(images)] = model.get_embedding(images).data.cpu().numpy()\n",
    "            labels[k:k+len(images)] = target.numpy()\n",
    "            k += len(images)\n",
    "    return embeddings, labels"
   ]
  },
  {
   "cell_type": "code",
   "execution_count": 6,
   "metadata": {
    "collapsed": false,
    "inputHidden": false,
    "outputHidden": false,
    "papermill": {
     "duration": 3.226244,
     "end_time": "2019-09-18T13:26:05.550900",
     "exception": false,
     "start_time": "2019-09-18T13:26:02.324656",
     "status": "completed"
    },
    "tags": []
   },
   "outputs": [],
   "source": [
    "# Set up data loaders\n",
    "batch_size = 8\n",
    "kwargs = {'num_workers': 1, 'pin_memory': True} if cuda else {}\n",
    "train_loader = torch.utils.data.DataLoader(train_dataset, batch_size=batch_size, shuffle=True, **kwargs)\n",
    "dev_loader = torch.utils.data.DataLoader(dev_dataset, batch_size=batch_size, shuffle=False, **kwargs)\n",
    "\n",
    "# Set up the network and training parameters\n",
    "from networks import EmbeddingNet, ClassificationNet\n",
    "from metrics import AccumulatedAccuracyMetric\n",
    "\n",
    "embedding_net = EmbeddingNet()\n",
    "model = ClassificationNet(embedding_net, n_classes=n_classes)\n",
    "if cuda:\n",
    "    model.cuda()\n",
    "loss_fn = torch.nn.NLLLoss()\n",
    "lr = 1e-2\n",
    "optimizer = optim.Adam(model.parameters(), lr=lr)\n",
    "scheduler = lr_scheduler.StepLR(optimizer, 8, gamma=0.1, last_epoch=-1)\n",
    "n_epochs = 20\n",
    "log_interval = 50"
   ]
  },
  {
   "cell_type": "code",
   "execution_count": 7,
   "metadata": {
    "collapsed": false,
    "inputHidden": false,
    "outputHidden": false,
    "papermill": {
     "duration": 738.663387,
     "end_time": "2019-09-18T13:38:24.218332",
     "exception": false,
     "start_time": "2019-09-18T13:26:05.554945",
     "status": "completed"
    },
    "tags": []
   },
   "outputs": [
    {
     "name": "stderr",
     "output_type": "stream",
     "text": [
      "/home/adrian/miniconda3/envs/julia/lib/python3.7/site-packages/torch/optim/lr_scheduler.py:82: UserWarning: Detected call of `lr_scheduler.step()` before `optimizer.step()`. In PyTorch 1.1.0 and later, you should call them in the opposite order: `optimizer.step()` before `lr_scheduler.step()`.  Failure to do this will result in PyTorch skipping the first value of the learning rate schedule.See more details at https://pytorch.org/docs/stable/optim.html#how-to-adjust-learning-rate\n",
      "  \"https://pytorch.org/docs/stable/optim.html#how-to-adjust-learning-rate\", UserWarning)\n"
     ]
    },
    {
     "name": "stdout",
     "output_type": "stream",
     "text": [
      "Train: [0/2953 (0%)]\tLoss: 1.878718\tAccuracy: 0.0\n"
     ]
    },
    {
     "name": "stdout",
     "output_type": "stream",
     "text": [
      "Train: [400/2953 (14%)]\tLoss: 224.305994\tAccuracy: 64.2156862745098\n"
     ]
    },
    {
     "name": "stdout",
     "output_type": "stream",
     "text": [
      "Train: [800/2953 (27%)]\tLoss: 5.857925\tAccuracy: 74.5049504950495\n"
     ]
    },
    {
     "name": "stdout",
     "output_type": "stream",
     "text": [
      "Train: [1200/2953 (41%)]\tLoss: 9.606315\tAccuracy: 77.06953642384106\n"
     ]
    },
    {
     "name": "stdout",
     "output_type": "stream",
     "text": [
      "Train: [1600/2953 (54%)]\tLoss: 3.367539\tAccuracy: 78.60696517412936\n"
     ]
    },
    {
     "name": "stdout",
     "output_type": "stream",
     "text": [
      "Train: [2000/2953 (68%)]\tLoss: 0.561730\tAccuracy: 80.92629482071713\n"
     ]
    },
    {
     "name": "stdout",
     "output_type": "stream",
     "text": [
      "Train: [2400/2953 (81%)]\tLoss: 1.113376\tAccuracy: 82.47508305647841\n"
     ]
    },
    {
     "name": "stdout",
     "output_type": "stream",
     "text": [
      "Train: [2800/2953 (95%)]\tLoss: 2.241664\tAccuracy: 83.19088319088318\n"
     ]
    },
    {
     "name": "stdout",
     "output_type": "stream",
     "text": [
      "Epoch: 1/20. Train set: Average loss: 33.4218\tAccuracy: 83.44056891296987\n",
      "Epoch: 1/20. Validation set: Average loss: 11.5999\tAccuracy: 24.489795918367346\n"
     ]
    },
    {
     "name": "stdout",
     "output_type": "stream",
     "text": [
      "Train: [0/2953 (0%)]\tLoss: 0.148678\tAccuracy: 100.0\n"
     ]
    },
    {
     "name": "stdout",
     "output_type": "stream",
     "text": [
      "Train: [400/2953 (14%)]\tLoss: 0.664293\tAccuracy: 90.93137254901961\n"
     ]
    },
    {
     "name": "stdout",
     "output_type": "stream",
     "text": [
      "Train: [800/2953 (27%)]\tLoss: 0.436587\tAccuracy: 91.2128712871287\n"
     ]
    },
    {
     "name": "stdout",
     "output_type": "stream",
     "text": [
      "Train: [1200/2953 (41%)]\tLoss: 0.552608\tAccuracy: 89.98344370860927\n"
     ]
    },
    {
     "name": "stdout",
     "output_type": "stream",
     "text": [
      "Train: [1600/2953 (54%)]\tLoss: 0.418730\tAccuracy: 90.11194029850746\n"
     ]
    },
    {
     "name": "stdout",
     "output_type": "stream",
     "text": [
      "Train: [2000/2953 (68%)]\tLoss: 0.469821\tAccuracy: 90.08964143426294\n"
     ]
    },
    {
     "name": "stdout",
     "output_type": "stream",
     "text": [
      "Train: [2400/2953 (81%)]\tLoss: 0.437008\tAccuracy: 89.95016611295681\n"
     ]
    },
    {
     "name": "stdout",
     "output_type": "stream",
     "text": [
      "Train: [2800/2953 (95%)]\tLoss: 0.356915\tAccuracy: 90.17094017094017\n"
     ]
    },
    {
     "name": "stdout",
     "output_type": "stream",
     "text": [
      "Epoch: 2/20. Train set: Average loss: 0.4685\tAccuracy: 90.28107009820522\n",
      "Epoch: 2/20. Validation set: Average loss: 3.6606\tAccuracy: 24.489795918367346\n"
     ]
    },
    {
     "name": "stdout",
     "output_type": "stream",
     "text": [
      "Train: [0/2953 (0%)]\tLoss: 0.100255\tAccuracy: 100.0\n"
     ]
    },
    {
     "name": "stdout",
     "output_type": "stream",
     "text": [
      "Train: [400/2953 (14%)]\tLoss: 0.381869\tAccuracy: 91.17647058823529\n"
     ]
    },
    {
     "name": "stdout",
     "output_type": "stream",
     "text": [
      "Train: [800/2953 (27%)]\tLoss: 0.357071\tAccuracy: 91.33663366336634\n"
     ]
    },
    {
     "name": "stdout",
     "output_type": "stream",
     "text": [
      "Train: [1200/2953 (41%)]\tLoss: 0.417959\tAccuracy: 90.72847682119205\n"
     ]
    },
    {
     "name": "stdout",
     "output_type": "stream",
     "text": [
      "Train: [1600/2953 (54%)]\tLoss: 0.375153\tAccuracy: 90.79601990049751\n"
     ]
    },
    {
     "name": "stdout",
     "output_type": "stream",
     "text": [
      "Train: [2000/2953 (68%)]\tLoss: 0.384116\tAccuracy: 90.73705179282868\n"
     ]
    },
    {
     "name": "stdout",
     "output_type": "stream",
     "text": [
      "Train: [2400/2953 (81%)]\tLoss: 0.427172\tAccuracy: 90.49003322259136\n"
     ]
    },
    {
     "name": "stdout",
     "output_type": "stream",
     "text": [
      "Train: [2800/2953 (95%)]\tLoss: 0.379463\tAccuracy: 90.45584045584046\n"
     ]
    },
    {
     "name": "stdout",
     "output_type": "stream",
     "text": [
      "Epoch: 3/20. Train set: Average loss: 0.3928\tAccuracy: 90.28107009820522\n",
      "Epoch: 3/20. Validation set: Average loss: 2.8690\tAccuracy: 24.489795918367346\n"
     ]
    },
    {
     "name": "stdout",
     "output_type": "stream",
     "text": [
      "Train: [0/2953 (0%)]\tLoss: 0.115493\tAccuracy: 100.0\n"
     ]
    },
    {
     "name": "stdout",
     "output_type": "stream",
     "text": [
      "Train: [400/2953 (14%)]\tLoss: 0.364047\tAccuracy: 91.42156862745098\n"
     ]
    },
    {
     "name": "stdout",
     "output_type": "stream",
     "text": [
      "Train: [800/2953 (27%)]\tLoss: 0.317110\tAccuracy: 91.70792079207921\n"
     ]
    },
    {
     "name": "stdout",
     "output_type": "stream",
     "text": [
      "Train: [1200/2953 (41%)]\tLoss: 0.372113\tAccuracy: 91.47350993377484\n"
     ]
    },
    {
     "name": "stdout",
     "output_type": "stream",
     "text": [
      "Train: [1600/2953 (54%)]\tLoss: 0.439154\tAccuracy: 90.73383084577114\n"
     ]
    },
    {
     "name": "stdout",
     "output_type": "stream",
     "text": [
      "Train: [2000/2953 (68%)]\tLoss: 0.357546\tAccuracy: 90.78685258964144\n"
     ]
    },
    {
     "name": "stdout",
     "output_type": "stream",
     "text": [
      "Train: [2400/2953 (81%)]\tLoss: 0.463918\tAccuracy: 90.40697674418605\n"
     ]
    },
    {
     "name": "stdout",
     "output_type": "stream",
     "text": [
      "Train: [2800/2953 (95%)]\tLoss: 0.365510\tAccuracy: 90.42022792022792\n"
     ]
    },
    {
     "name": "stdout",
     "output_type": "stream",
     "text": [
      "Epoch: 4/20. Train set: Average loss: 0.3844\tAccuracy: 90.28107009820522\n",
      "Epoch: 4/20. Validation set: Average loss: 3.2655\tAccuracy: 24.489795918367346\n"
     ]
    },
    {
     "name": "stdout",
     "output_type": "stream",
     "text": [
      "Train: [0/2953 (0%)]\tLoss: 0.091960\tAccuracy: 100.0\n"
     ]
    },
    {
     "name": "stdout",
     "output_type": "stream",
     "text": [
      "Train: [400/2953 (14%)]\tLoss: 0.342934\tAccuracy: 90.93137254901961\n"
     ]
    },
    {
     "name": "stdout",
     "output_type": "stream",
     "text": [
      "Train: [800/2953 (27%)]\tLoss: 0.395835\tAccuracy: 90.0990099009901\n"
     ]
    },
    {
     "name": "stdout",
     "output_type": "stream",
     "text": [
      "Train: [1200/2953 (41%)]\tLoss: 0.365023\tAccuracy: 90.48013245033113\n"
     ]
    },
    {
     "name": "stdout",
     "output_type": "stream",
     "text": [
      "Train: [1600/2953 (54%)]\tLoss: 0.329908\tAccuracy: 90.6094527363184\n"
     ]
    },
    {
     "name": "stdout",
     "output_type": "stream",
     "text": [
      "Train: [2000/2953 (68%)]\tLoss: 0.384723\tAccuracy: 90.63745019920319\n"
     ]
    },
    {
     "name": "stdout",
     "output_type": "stream",
     "text": [
      "Train: [2400/2953 (81%)]\tLoss: 0.347376\tAccuracy: 90.61461794019934\n"
     ]
    },
    {
     "name": "stdout",
     "output_type": "stream",
     "text": [
      "Train: [2800/2953 (95%)]\tLoss: 0.436071\tAccuracy: 90.27777777777777\n"
     ]
    },
    {
     "name": "stdout",
     "output_type": "stream",
     "text": [
      "Epoch: 5/20. Train set: Average loss: 0.3827\tAccuracy: 90.24720623095158\n",
      "Epoch: 5/20. Validation set: Average loss: 2.7981\tAccuracy: 24.489795918367346\n"
     ]
    },
    {
     "name": "stdout",
     "output_type": "stream",
     "text": [
      "Train: [0/2953 (0%)]\tLoss: 0.677770\tAccuracy: 75.0\n"
     ]
    },
    {
     "name": "stdout",
     "output_type": "stream",
     "text": [
      "Train: [400/2953 (14%)]\tLoss: 0.352522\tAccuracy: 91.66666666666667\n"
     ]
    },
    {
     "name": "stdout",
     "output_type": "stream",
     "text": [
      "Train: [800/2953 (27%)]\tLoss: 0.641363\tAccuracy: 89.85148514851485\n"
     ]
    },
    {
     "name": "stdout",
     "output_type": "stream",
     "text": [
      "Train: [1200/2953 (41%)]\tLoss: 0.392359\tAccuracy: 90.97682119205298\n"
     ]
    },
    {
     "name": "stdout",
     "output_type": "stream",
     "text": [
      "Train: [1600/2953 (54%)]\tLoss: 0.345833\tAccuracy: 91.16915422885572\n"
     ]
    },
    {
     "name": "stdout",
     "output_type": "stream",
     "text": [
      "Train: [2000/2953 (68%)]\tLoss: 0.387161\tAccuracy: 91.18525896414343\n"
     ]
    },
    {
     "name": "stdout",
     "output_type": "stream",
     "text": [
      "Train: [2400/2953 (81%)]\tLoss: 0.458264\tAccuracy: 90.69767441860465\n"
     ]
    },
    {
     "name": "stdout",
     "output_type": "stream",
     "text": [
      "Train: [2800/2953 (95%)]\tLoss: 0.514227\tAccuracy: 90.31339031339031\n"
     ]
    },
    {
     "name": "stdout",
     "output_type": "stream",
     "text": [
      "Epoch: 6/20. Train set: Average loss: 0.4447\tAccuracy: 90.34879783271249\n",
      "Epoch: 6/20. Validation set: Average loss: 5.8554\tAccuracy: 24.489795918367346\n"
     ]
    },
    {
     "name": "stdout",
     "output_type": "stream",
     "text": [
      "Train: [0/2953 (0%)]\tLoss: 0.056102\tAccuracy: 100.0"
     ]
    },
    {
     "name": "stdout",
     "output_type": "stream",
     "text": [
      "\n"
     ]
    },
    {
     "name": "stdout",
     "output_type": "stream",
     "text": [
      "Train: [400/2953 (14%)]\tLoss: 0.400332\tAccuracy: 91.42156862745098\n"
     ]
    },
    {
     "name": "stdout",
     "output_type": "stream",
     "text": [
      "Train: [800/2953 (27%)]\tLoss: 0.361901\tAccuracy: 90.96534653465346\n"
     ]
    },
    {
     "name": "stdout",
     "output_type": "stream",
     "text": [
      "Train: [1200/2953 (41%)]\tLoss: 0.430786\tAccuracy: 90.31456953642385\n"
     ]
    },
    {
     "name": "stdout",
     "output_type": "stream",
     "text": [
      "Train: [1600/2953 (54%)]\tLoss: 0.453489\tAccuracy: 89.92537313432835\n"
     ]
    },
    {
     "name": "stdout",
     "output_type": "stream",
     "text": [
      "Train: [2000/2953 (68%)]\tLoss: 0.402321\tAccuracy: 90.0398406374502\n"
     ]
    },
    {
     "name": "stdout",
     "output_type": "stream",
     "text": [
      "Train: [2400/2953 (81%)]\tLoss: 0.482085\tAccuracy: 89.95016611295681\n"
     ]
    },
    {
     "name": "stdout",
     "output_type": "stream",
     "text": [
      "Train: [2800/2953 (95%)]\tLoss: 0.390184\tAccuracy: 90.02849002849003\n"
     ]
    },
    {
     "name": "stdout",
     "output_type": "stream",
     "text": [
      "Epoch: 7/20. Train set: Average loss: 0.4087\tAccuracy: 90.21334236369793\n",
      "Epoch: 7/20. Validation set: Average loss: 4.9917\tAccuracy: 24.489795918367346\n"
     ]
    },
    {
     "name": "stdout",
     "output_type": "stream",
     "text": [
      "Train: [0/2953 (0%)]\tLoss: 0.858654\tAccuracy: 75.0\n"
     ]
    },
    {
     "name": "stdout",
     "output_type": "stream",
     "text": [
      "Train: [400/2953 (14%)]\tLoss: 0.497637\tAccuracy: 87.5\n"
     ]
    },
    {
     "name": "stdout",
     "output_type": "stream",
     "text": [
      "Train: [800/2953 (27%)]\tLoss: 0.300144\tAccuracy: 89.97524752475248\n"
     ]
    },
    {
     "name": "stdout",
     "output_type": "stream",
     "text": [
      "Train: [1200/2953 (41%)]\tLoss: 0.396541\tAccuracy: 89.90066225165563\n"
     ]
    },
    {
     "name": "stdout",
     "output_type": "stream",
     "text": [
      "Train: [1600/2953 (54%)]\tLoss: 0.389771\tAccuracy: 89.98756218905473\n"
     ]
    },
    {
     "name": "stdout",
     "output_type": "stream",
     "text": [
      "Train: [2000/2953 (68%)]\tLoss: 0.397200\tAccuracy: 89.8406374501992\n"
     ]
    },
    {
     "name": "stdout",
     "output_type": "stream",
     "text": [
      "Train: [2400/2953 (81%)]\tLoss: 0.345322\tAccuracy: 90.1578073089701\n"
     ]
    },
    {
     "name": "stdout",
     "output_type": "stream",
     "text": [
      "Train: [2800/2953 (95%)]\tLoss: 0.363471\tAccuracy: 90.20655270655271\n"
     ]
    },
    {
     "name": "stdout",
     "output_type": "stream",
     "text": [
      "Epoch: 8/20. Train set: Average loss: 0.3823\tAccuracy: 90.28107009820522\n",
      "Epoch: 8/20. Validation set: Average loss: 3.9417\tAccuracy: 24.489795918367346\n"
     ]
    },
    {
     "name": "stdout",
     "output_type": "stream",
     "text": [
      "Train: [0/2953 (0%)]\tLoss: 0.806477\tAccuracy: 75.0\n"
     ]
    },
    {
     "name": "stdout",
     "output_type": "stream",
     "text": [
      "Train: [400/2953 (14%)]\tLoss: 0.396022\tAccuracy: 89.46078431372548\n"
     ]
    },
    {
     "name": "stdout",
     "output_type": "stream",
     "text": [
      "Train: [800/2953 (27%)]\tLoss: 0.338741\tAccuracy: 90.47029702970298\n"
     ]
    },
    {
     "name": "stdout",
     "output_type": "stream",
     "text": [
      "Train: [1200/2953 (41%)]\tLoss: 0.327156\tAccuracy: 90.8112582781457\n"
     ]
    },
    {
     "name": "stdout",
     "output_type": "stream",
     "text": [
      "Train: [1600/2953 (54%)]\tLoss: 0.378342\tAccuracy: 90.6094527363184\n"
     ]
    },
    {
     "name": "stdout",
     "output_type": "stream",
     "text": [
      "Train: [2000/2953 (68%)]\tLoss: 0.407045\tAccuracy: 90.43824701195219\n"
     ]
    },
    {
     "name": "stdout",
     "output_type": "stream",
     "text": [
      "Train: [2400/2953 (81%)]\tLoss: 0.327688\tAccuracy: 90.61461794019934\n"
     ]
    },
    {
     "name": "stdout",
     "output_type": "stream",
     "text": [
      "Train: [2800/2953 (95%)]\tLoss: 0.393399\tAccuracy: 90.34900284900284\n"
     ]
    },
    {
     "name": "stdout",
     "output_type": "stream",
     "text": [
      "Epoch: 9/20. Train set: Average loss: 0.3686\tAccuracy: 90.28107009820522\n",
      "Epoch: 9/20. Validation set: Average loss: 3.7090\tAccuracy: 24.489795918367346\n"
     ]
    },
    {
     "name": "stdout",
     "output_type": "stream",
     "text": [
      "Train: [0/2953 (0%)]\tLoss: 0.854125\tAccuracy: 75.0\n"
     ]
    },
    {
     "name": "stdout",
     "output_type": "stream",
     "text": [
      "Train: [400/2953 (14%)]\tLoss: 0.364122\tAccuracy: 89.70588235294117\n"
     ]
    },
    {
     "name": "stdout",
     "output_type": "stream",
     "text": [
      "Train: [800/2953 (27%)]\tLoss: 0.379080\tAccuracy: 89.85148514851485\n"
     ]
    },
    {
     "name": "stdout",
     "output_type": "stream",
     "text": [
      "Train: [1200/2953 (41%)]\tLoss: 0.349843\tAccuracy: 90.06622516556291\n"
     ]
    },
    {
     "name": "stdout",
     "output_type": "stream",
     "text": [
      "Train: [1600/2953 (54%)]\tLoss: 0.323645\tAccuracy: 90.54726368159204\n"
     ]
    },
    {
     "name": "stdout",
     "output_type": "stream",
     "text": [
      "Train: [2000/2953 (68%)]\tLoss: 0.386238\tAccuracy: 90.2390438247012\n"
     ]
    },
    {
     "name": "stdout",
     "output_type": "stream",
     "text": [
      "Train: [2400/2953 (81%)]\tLoss: 0.385306\tAccuracy: 90.07475083056478\n"
     ]
    },
    {
     "name": "stdout",
     "output_type": "stream",
     "text": [
      "Train: [2800/2953 (95%)]\tLoss: 0.318897\tAccuracy: 90.24216524216524\n"
     ]
    },
    {
     "name": "stdout",
     "output_type": "stream",
     "text": [
      "Epoch: 10/20. Train set: Average loss: 0.3584\tAccuracy: 90.28107009820522\n",
      "Epoch: 10/20. Validation set: Average loss: 3.8484\tAccuracy: 24.489795918367346\n"
     ]
    },
    {
     "name": "stdout",
     "output_type": "stream",
     "text": [
      "Train: [0/2953 (0%)]\tLoss: 0.490905\tAccuracy: 87.5\n"
     ]
    },
    {
     "name": "stdout",
     "output_type": "stream",
     "text": [
      "Train: [400/2953 (14%)]\tLoss: 0.347869\tAccuracy: 90.93137254901961\n"
     ]
    },
    {
     "name": "stdout",
     "output_type": "stream",
     "text": [
      "Train: [800/2953 (27%)]\tLoss: 0.400380\tAccuracy: 89.85148514851485\n"
     ]
    },
    {
     "name": "stdout",
     "output_type": "stream",
     "text": [
      "Train: [1200/2953 (41%)]\tLoss: 0.360468\tAccuracy: 89.81788079470199\n"
     ]
    },
    {
     "name": "stdout",
     "output_type": "stream",
     "text": [
      "Train: [1600/2953 (54%)]\tLoss: 0.379965\tAccuracy: 89.80099502487562\n"
     ]
    },
    {
     "name": "stdout",
     "output_type": "stream",
     "text": [
      "Train: [2000/2953 (68%)]\tLoss: 0.331620\tAccuracy: 89.99003984063745\n"
     ]
    },
    {
     "name": "stdout",
     "output_type": "stream",
     "text": [
      "Train: [2400/2953 (81%)]\tLoss: 0.279611\tAccuracy: 90.32392026578073\n"
     ]
    },
    {
     "name": "stdout",
     "output_type": "stream",
     "text": [
      "Train: [2800/2953 (95%)]\tLoss: 0.329672\tAccuracy: 90.45584045584046\n"
     ]
    },
    {
     "name": "stdout",
     "output_type": "stream",
     "text": [
      "Epoch: 11/20. Train set: Average loss: 0.3475\tAccuracy: 90.41652556721978\n",
      "Epoch: 11/20. Validation set: Average loss: 4.5192\tAccuracy: 24.489795918367346\n"
     ]
    },
    {
     "name": "stdout",
     "output_type": "stream",
     "text": [
      "Train: [0/2953 (0%)]\tLoss: 0.458048\tAccuracy: 87.5\n"
     ]
    },
    {
     "name": "stdout",
     "output_type": "stream",
     "text": [
      "Train: [400/2953 (14%)]\tLoss: 0.352680\tAccuracy: 88.72549019607843\n"
     ]
    },
    {
     "name": "stdout",
     "output_type": "stream",
     "text": [
      "Train: [800/2953 (27%)]\tLoss: 0.392669\tAccuracy: 90.0990099009901\n"
     ]
    },
    {
     "name": "stdout",
     "output_type": "stream",
     "text": [
      "Train: [1200/2953 (41%)]\tLoss: 0.434823\tAccuracy: 89.48675496688742\n"
     ]
    },
    {
     "name": "stdout",
     "output_type": "stream",
     "text": [
      "Train: [1600/2953 (54%)]\tLoss: 0.356974\tAccuracy: 89.73880597014926\n"
     ]
    },
    {
     "name": "stdout",
     "output_type": "stream",
     "text": [
      "Train: [2000/2953 (68%)]\tLoss: 0.383157\tAccuracy: 89.7410358565737\n"
     ]
    },
    {
     "name": "stdout",
     "output_type": "stream",
     "text": [
      "Train: [2400/2953 (81%)]\tLoss: 0.360267\tAccuracy: 89.95016611295681\n"
     ]
    },
    {
     "name": "stdout",
     "output_type": "stream",
     "text": [
      "Train: [2800/2953 (95%)]\tLoss: 0.311434\tAccuracy: 90.27777777777777\n"
     ]
    },
    {
     "name": "stdout",
     "output_type": "stream",
     "text": [
      "Epoch: 12/20. Train set: Average loss: 0.3656\tAccuracy: 90.38266169996614\n",
      "Epoch: 12/20. Validation set: Average loss: 4.1328\tAccuracy: 24.489795918367346\n"
     ]
    },
    {
     "name": "stdout",
     "output_type": "stream",
     "text": [
      "Train: [0/2953 (0%)]\tLoss: 0.412024\tAccuracy: 87.5\n"
     ]
    },
    {
     "name": "stdout",
     "output_type": "stream",
     "text": [
      "Train: [400/2953 (14%)]\tLoss: 0.361045\tAccuracy: 89.46078431372548\n"
     ]
    },
    {
     "name": "stdout",
     "output_type": "stream",
     "text": [
      "Train: [800/2953 (27%)]\tLoss: 0.329109\tAccuracy: 90.0990099009901\n"
     ]
    },
    {
     "name": "stdout",
     "output_type": "stream",
     "text": [
      "Train: [1200/2953 (41%)]\tLoss: 0.342201\tAccuracy: 90.6456953642384\n"
     ]
    },
    {
     "name": "stdout",
     "output_type": "stream",
     "text": [
      "Train: [1600/2953 (54%)]\tLoss: 0.400450\tAccuracy: 90.17412935323384\n"
     ]
    },
    {
     "name": "stdout",
     "output_type": "stream",
     "text": [
      "Train: [2000/2953 (68%)]\tLoss: 0.329191\tAccuracy: 90.38844621513944\n"
     ]
    },
    {
     "name": "stdout",
     "output_type": "stream",
     "text": [
      "Train: [2400/2953 (81%)]\tLoss: 0.323162\tAccuracy: 90.4485049833887\n"
     ]
    },
    {
     "name": "stdout",
     "output_type": "stream",
     "text": [
      "Train: [2800/2953 (95%)]\tLoss: 0.313005\tAccuracy: 90.5982905982906\n"
     ]
    },
    {
     "name": "stdout",
     "output_type": "stream",
     "text": [
      "Epoch: 13/20. Train set: Average loss: 0.3455\tAccuracy: 90.58584490348798\n",
      "Epoch: 13/20. Validation set: Average loss: 4.3487\tAccuracy: 25.510204081632654\n"
     ]
    },
    {
     "name": "stdout",
     "output_type": "stream",
     "text": [
      "Train: [0/2953 (0%)]\tLoss: 0.446911\tAccuracy: 87.5\n"
     ]
    },
    {
     "name": "stdout",
     "output_type": "stream",
     "text": [
      "Train: [400/2953 (14%)]\tLoss: 0.279143\tAccuracy: 92.40196078431373\n"
     ]
    },
    {
     "name": "stdout",
     "output_type": "stream",
     "text": [
      "Train: [800/2953 (27%)]\tLoss: 0.342786\tAccuracy: 91.46039603960396\n"
     ]
    },
    {
     "name": "stdout",
     "output_type": "stream",
     "text": [
      "Train: [1200/2953 (41%)]\tLoss: 0.345302\tAccuracy: 90.89403973509934\n"
     ]
    },
    {
     "name": "stdout",
     "output_type": "stream",
     "text": [
      "Train: [1600/2953 (54%)]\tLoss: 0.325553\tAccuracy: 90.98258706467662\n"
     ]
    },
    {
     "name": "stdout",
     "output_type": "stream",
     "text": [
      "Train: [2000/2953 (68%)]\tLoss: 0.290023\tAccuracy: 91.33466135458167\n"
     ]
    },
    {
     "name": "stdout",
     "output_type": "stream",
     "text": [
      "Train: [2400/2953 (81%)]\tLoss: 0.409249\tAccuracy: 90.86378737541528\n"
     ]
    },
    {
     "name": "stdout",
     "output_type": "stream",
     "text": [
      "Train: [2800/2953 (95%)]\tLoss: 0.322583\tAccuracy: 90.88319088319088\n"
     ]
    },
    {
     "name": "stdout",
     "output_type": "stream",
     "text": [
      "Epoch: 14/20. Train set: Average loss: 0.3332\tAccuracy: 90.72130037250254\n",
      "Epoch: 14/20. Validation set: Average loss: 4.4487\tAccuracy: 25.510204081632654\n"
     ]
    },
    {
     "name": "stdout",
     "output_type": "stream",
     "text": [
      "Train: [0/2953 (0%)]\tLoss: 0.085051\tAccuracy: 100.0\n"
     ]
    },
    {
     "name": "stdout",
     "output_type": "stream",
     "text": [
      "Train: [400/2953 (14%)]\tLoss: 0.300192\tAccuracy: 91.91176470588235\n"
     ]
    },
    {
     "name": "stdout",
     "output_type": "stream",
     "text": [
      "Train: [800/2953 (27%)]\tLoss: 0.344908\tAccuracy: 90.96534653465346\n"
     ]
    },
    {
     "name": "stdout",
     "output_type": "stream",
     "text": [
      "Train: [1200/2953 (41%)]\tLoss: 0.286898\tAccuracy: 91.63907284768212\n"
     ]
    },
    {
     "name": "stdout",
     "output_type": "stream",
     "text": [
      "Train: [1600/2953 (54%)]\tLoss: 0.351787\tAccuracy: 91.04477611940298\n"
     ]
    },
    {
     "name": "stdout",
     "output_type": "stream",
     "text": [
      "Train: [2000/2953 (68%)]\tLoss: 0.341042\tAccuracy: 91.03585657370517\n"
     ]
    },
    {
     "name": "stdout",
     "output_type": "stream",
     "text": [
      "Train: [2400/2953 (81%)]\tLoss: 0.292459\tAccuracy: 91.19601328903654\n"
     ]
    },
    {
     "name": "stdout",
     "output_type": "stream",
     "text": [
      "Train: [2800/2953 (95%)]\tLoss: 0.315813\tAccuracy: 91.23931623931624\n"
     ]
    },
    {
     "name": "stdout",
     "output_type": "stream",
     "text": [
      "Epoch: 15/20. Train set: Average loss: 0.3190\tAccuracy: 91.22925838130715\n",
      "Epoch: 15/20. Validation set: Average loss: 4.1649\tAccuracy: 25.510204081632654\n"
     ]
    },
    {
     "name": "stdout",
     "output_type": "stream",
     "text": [
      "Train: [0/2953 (0%)]\tLoss: 0.065024\tAccuracy: 100.0\n"
     ]
    },
    {
     "name": "stdout",
     "output_type": "stream",
     "text": [
      "Train: [400/2953 (14%)]\tLoss: 0.323981\tAccuracy: 90.68627450980392\n"
     ]
    },
    {
     "name": "stdout",
     "output_type": "stream",
     "text": [
      "Train: [800/2953 (27%)]\tLoss: 0.290212\tAccuracy: 91.46039603960396\n"
     ]
    },
    {
     "name": "stdout",
     "output_type": "stream",
     "text": [
      "Train: [1200/2953 (41%)]\tLoss: 0.270348\tAccuracy: 91.72185430463576\n"
     ]
    },
    {
     "name": "stdout",
     "output_type": "stream",
     "text": [
      "Train: [1600/2953 (54%)]\tLoss: 0.321556\tAccuracy: 91.85323383084577\n"
     ]
    },
    {
     "name": "stdout",
     "output_type": "stream",
     "text": [
      "Train: [2000/2953 (68%)]\tLoss: 0.345039\tAccuracy: 91.43426294820718\n"
     ]
    },
    {
     "name": "stdout",
     "output_type": "stream",
     "text": [
      "Train: [2400/2953 (81%)]\tLoss: 0.284798\tAccuracy: 91.65282392026577\n"
     ]
    },
    {
     "name": "stdout",
     "output_type": "stream",
     "text": [
      "Train: [2800/2953 (95%)]\tLoss: 0.287485\tAccuracy: 91.7022792022792\n"
     ]
    },
    {
     "name": "stdout",
     "output_type": "stream",
     "text": [
      "Epoch: 16/20. Train set: Average loss: 0.3029\tAccuracy: 91.66948865560447\n",
      "Epoch: 16/20. Validation set: Average loss: 4.5736\tAccuracy: 25.510204081632654\n"
     ]
    },
    {
     "name": "stdout",
     "output_type": "stream",
     "text": [
      "Train: [0/2953 (0%)]\tLoss: 0.451014\tAccuracy: 87.5\n"
     ]
    },
    {
     "name": "stdout",
     "output_type": "stream",
     "text": [
      "Train: [400/2953 (14%)]\tLoss: 0.315664\tAccuracy: 91.17647058823529\n"
     ]
    },
    {
     "name": "stdout",
     "output_type": "stream",
     "text": [
      "Train: [800/2953 (27%)]\tLoss: 0.292865\tAccuracy: 91.70792079207921\n"
     ]
    },
    {
     "name": "stdout",
     "output_type": "stream",
     "text": [
      "Train: [1200/2953 (41%)]\tLoss: 0.283255\tAccuracy: 91.97019867549669\n"
     ]
    },
    {
     "name": "stdout",
     "output_type": "stream",
     "text": [
      "Train: [1600/2953 (54%)]\tLoss: 0.340358\tAccuracy: 91.66666666666667\n"
     ]
    },
    {
     "name": "stdout",
     "output_type": "stream",
     "text": [
      "Train: [2000/2953 (68%)]\tLoss: 0.263597\tAccuracy: 91.9820717131474\n"
     ]
    },
    {
     "name": "stdout",
     "output_type": "stream",
     "text": [
      "Train: [2400/2953 (81%)]\tLoss: 0.275453\tAccuracy: 91.90199335548172\n"
     ]
    },
    {
     "name": "stdout",
     "output_type": "stream",
     "text": [
      "Train: [2800/2953 (95%)]\tLoss: 0.328458\tAccuracy: 91.66666666666667\n"
     ]
    },
    {
     "name": "stdout",
     "output_type": "stream",
     "text": [
      "Epoch: 17/20. Train set: Average loss: 0.2972\tAccuracy: 91.73721639011175\n",
      "Epoch: 17/20. Validation set: Average loss: 4.9043\tAccuracy: 26.53061224489796\n"
     ]
    },
    {
     "name": "stdout",
     "output_type": "stream",
     "text": [
      "Train: [0/2953 (0%)]\tLoss: 0.033408\tAccuracy: 100.0\n"
     ]
    },
    {
     "name": "stdout",
     "output_type": "stream",
     "text": [
      "Train: [400/2953 (14%)]\tLoss: 0.267018\tAccuracy: 92.8921568627451\n"
     ]
    },
    {
     "name": "stdout",
     "output_type": "stream",
     "text": [
      "Train: [800/2953 (27%)]\tLoss: 0.320781\tAccuracy: 91.58415841584159\n"
     ]
    },
    {
     "name": "stdout",
     "output_type": "stream",
     "text": [
      "Train: [1200/2953 (41%)]\tLoss: 0.342654\tAccuracy: 91.05960264900662\n"
     ]
    },
    {
     "name": "stdout",
     "output_type": "stream",
     "text": [
      "Train: [1600/2953 (54%)]\tLoss: 0.285015\tAccuracy: 91.35572139303483\n"
     ]
    },
    {
     "name": "stdout",
     "output_type": "stream",
     "text": [
      "Train: [2000/2953 (68%)]\tLoss: 0.321224\tAccuracy: 91.23505976095618\n"
     ]
    },
    {
     "name": "stdout",
     "output_type": "stream",
     "text": [
      "Train: [2400/2953 (81%)]\tLoss: 0.247987\tAccuracy: 91.56976744186046\n"
     ]
    },
    {
     "name": "stdout",
     "output_type": "stream",
     "text": [
      "Train: [2800/2953 (95%)]\tLoss: 0.268994\tAccuracy: 91.84472934472934\n"
     ]
    },
    {
     "name": "stdout",
     "output_type": "stream",
     "text": [
      "Epoch: 18/20. Train set: Average loss: 0.2939\tAccuracy: 91.73721639011175\n",
      "Epoch: 18/20. Validation set: Average loss: 5.2139\tAccuracy: 26.53061224489796\n"
     ]
    },
    {
     "name": "stdout",
     "output_type": "stream",
     "text": [
      "Train: [0/2953 (0%)]\tLoss: 0.077353\tAccuracy: 100.0\n"
     ]
    },
    {
     "name": "stdout",
     "output_type": "stream",
     "text": [
      "Train: [400/2953 (14%)]\tLoss: 0.334643\tAccuracy: 91.42156862745098\n"
     ]
    },
    {
     "name": "stdout",
     "output_type": "stream",
     "text": [
      "Train: [800/2953 (27%)]\tLoss: 0.336205\tAccuracy: 90.5940594059406\n"
     ]
    },
    {
     "name": "stdout",
     "output_type": "stream",
     "text": [
      "Train: [1200/2953 (41%)]\tLoss: 0.212541\tAccuracy: 91.88741721854305\n"
     ]
    },
    {
     "name": "stdout",
     "output_type": "stream",
     "text": [
      "Train: [1600/2953 (54%)]\tLoss: 0.292533\tAccuracy: 91.7910447761194\n"
     ]
    },
    {
     "name": "stdout",
     "output_type": "stream",
     "text": [
      "Train: [2000/2953 (68%)]\tLoss: 0.263642\tAccuracy: 91.88247011952191\n"
     ]
    },
    {
     "name": "stdout",
     "output_type": "stream",
     "text": [
      "Train: [2400/2953 (81%)]\tLoss: 0.279521\tAccuracy: 92.0265780730897\n"
     ]
    },
    {
     "name": "stdout",
     "output_type": "stream",
     "text": [
      "Train: [2800/2953 (95%)]\tLoss: 0.308515\tAccuracy: 91.88034188034187\n"
     ]
    },
    {
     "name": "stdout",
     "output_type": "stream",
     "text": [
      "Epoch: 19/20. Train set: Average loss: 0.2898\tAccuracy: 91.87267185912631\n",
      "Epoch: 19/20. Validation set: Average loss: 5.2124\tAccuracy: 26.53061224489796\n"
     ]
    },
    {
     "name": "stdout",
     "output_type": "stream",
     "text": [
      "Train: [0/2953 (0%)]\tLoss: 0.335539\tAccuracy: 87.5\n"
     ]
    },
    {
     "name": "stdout",
     "output_type": "stream",
     "text": [
      "Train: [400/2953 (14%)]\tLoss: 0.287892\tAccuracy: 92.15686274509804\n"
     ]
    },
    {
     "name": "stdout",
     "output_type": "stream",
     "text": [
      "Train: [800/2953 (27%)]\tLoss: 0.313638\tAccuracy: 91.33663366336634\n"
     ]
    },
    {
     "name": "stdout",
     "output_type": "stream",
     "text": [
      "Train: [1200/2953 (41%)]\tLoss: 0.262052\tAccuracy: 91.80463576158941\n"
     ]
    },
    {
     "name": "stdout",
     "output_type": "stream",
     "text": [
      "Train: [1600/2953 (54%)]\tLoss: 0.225822\tAccuracy: 92.28855721393035\n"
     ]
    },
    {
     "name": "stdout",
     "output_type": "stream",
     "text": [
      "Train: [2000/2953 (68%)]\tLoss: 0.316576\tAccuracy: 91.9820717131474\n"
     ]
    },
    {
     "name": "stdout",
     "output_type": "stream",
     "text": [
      "Train: [2400/2953 (81%)]\tLoss: 0.273081\tAccuracy: 92.06810631229236\n"
     ]
    },
    {
     "name": "stdout",
     "output_type": "stream",
     "text": [
      "Train: [2800/2953 (95%)]\tLoss: 0.305959\tAccuracy: 92.02279202279202\n"
     ]
    },
    {
     "name": "stdout",
     "output_type": "stream",
     "text": [
      "Epoch: 20/20. Train set: Average loss: 0.2842\tAccuracy: 92.00812732814087\n",
      "Epoch: 20/20. Validation set: Average loss: 5.2318\tAccuracy: 26.53061224489796\n"
     ]
    }
   ],
   "source": [
    "fit(train_loader, dev_loader, model, loss_fn, optimizer, scheduler, n_epochs, cuda, log_interval, metrics=[AccumulatedAccuracyMetric()])"
   ]
  },
  {
   "cell_type": "code",
   "execution_count": 8,
   "metadata": {
    "collapsed": false,
    "inputHidden": false,
    "outputHidden": false,
    "papermill": {
     "duration": 8.286745,
     "end_time": "2019-09-18T13:38:32.551298",
     "exception": false,
     "start_time": "2019-09-18T13:38:24.264553",
     "status": "completed"
    },
    "tags": []
   },
   "outputs": [
    {
     "data": {
      "image/png": "[encoded data removed]",
      "text/plain": [
       "<Figure size 720x720 with 1 Axes>"
      ]
     },
     "metadata": {
      "needs_background": "light"
     },
     "output_type": "display_data"
    },
    {
     "data": {
      "image/png": "[encoded data removed]",
      "text/plain": [
       "<Figure size 720x720 with 1 Axes>"
      ]
     },
     "metadata": {
      "needs_background": "light"
     },
     "output_type": "display_data"
    }
   ],
   "source": [
    "train_embeddings_baseline, train_labels_baseline = extract_embeddings(train_loader, model)\n",
    "plot_embeddings(train_embeddings_baseline, train_labels_baseline)\n",
    "val_embeddings_baseline, val_labels_baseline = extract_embeddings(dev_loader, model)\n",
    "plot_embeddings(val_embeddings_baseline, val_labels_baseline)"
   ]
  },
  {
   "cell_type": "code",
   "execution_count": 9,
   "metadata": {
    "collapsed": false,
    "inputHidden": false,
    "outputHidden": false,
    "papermill": {
     "duration": 0.754692,
     "end_time": "2019-09-18T13:38:33.351972",
     "exception": false,
     "start_time": "2019-09-18T13:38:32.597280",
     "status": "completed"
    },
    "tags": []
   },
   "outputs": [],
   "source": [
    "torch.save(model.state_dict(), \"baseline_rgb.pth\")"
   ]
  }
 ],
 "metadata": {
  "accelerator": "GPU",
  "colab": {
   "default_view": {},
   "name": "Experiments_MNIST.ipynb",
   "provenance": [],
   "version": "0.3.2",
   "views": {}
  },
  "kernel_info": {
   "name": "python3"
  },
  "kernelspec": {
   "display_name": "Python 3",
   "language": "python",
   "name": "python3"
  },
  "language_info": {
   "codemirror_mode": {
    "name": "ipython",
    "version": 3
   },
   "file_extension": ".py",
   "mimetype": "text/x-python",
   "name": "python",
   "nbconvert_exporter": "python",
   "pygments_lexer": "ipython3",
   "version": "3.7.3"
  },
  "nteract": {
   "version": "0.14.5"
  },
  "papermill": {
   "duration": 755.279863,
   "end_time": "2019-09-18T13:38:33.902680",
   "environment_variables": {},
   "exception": null,
   "input_path": "RGB Baseline.ipynb",
   "output_path": "RGB Baseline output.ipynb",
   "parameters": {},
   "start_time": "2019-09-18T13:25:58.622817",
   "version": "1.1.0"
  }
 },
 "nbformat": 4,
 "nbformat_minor": 2
}