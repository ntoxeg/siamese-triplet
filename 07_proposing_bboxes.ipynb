{
 "cells": [
  {
   "cell_type": "code",
   "execution_count": null,
   "metadata": {},
   "outputs": [],
   "source": [
    "%load_ext autoreload\n",
    "%autoreload 2"
   ]
  },
  {
   "cell_type": "code",
   "execution_count": null,
   "metadata": {},
   "outputs": [],
   "source": [
    "from running_embedder import *\n",
    "import numpy as np"
   ]
  },
  {
   "cell_type": "code",
   "execution_count": null,
   "metadata": {},
   "outputs": [],
   "source": [
    "class BBoxSimilaritySearch(nn.Module):\n",
    "    def __init__(self, learner):\n",
    "        super().__init__()\n",
    "        self.learner = learner\n",
    "        self.tfms = transforms.Compose([\n",
    "            partial(crop_pad, size=512, padding_mode=\"zeros\")\n",
    "        ])\n",
    "        self.toimg = transforms.ToPILImage()\n",
    "        self.totsr = transforms.ToTensor()\n",
    "        \n",
    "    def forward(self, exemplar:Image, search_target:Image, n=5):\n",
    "#         exe_embed = self.embedder(exemplar)\n",
    "#         target_embed = self.embedder(search_target)\n",
    "#         ans = self.searcher(exe_embed, target_embed)\n",
    "        # hmm, maybe one backbone and multiple heads?\n",
    "        # would Centernet itself work well here?\n",
    "        # concat CenterNet features with Siamese?\n",
    "        # recurrent bbox controller?\n",
    "        #  adaptive computation time?\n",
    "        # higher order training?\n",
    "        w, h = exemplar.size[1], exemplar.size[0]\n",
    "        windows = [(x, y, x+w, y+h) for x, y in zip(range(0, search_target.size[1], w), range(0, search_target.size[0], h))]\n",
    "        search_target_pil = self.toimg(search_target.data)\n",
    "        crops = list(map(lambda bbox: Image(self.totsr(search_target_pil.crop(bbox))), windows))\n",
    "        idxs = find_nneighbours(self.learner, exemplar, crops, n=n)\n",
    "        \n",
    "        return [crops[i] for i in idxs]"
   ]
  },
  {
   "cell_type": "code",
   "execution_count": null,
   "metadata": {},
   "outputs": [],
   "source": [
    "embedlist = _embed_imgset(learner, imgset)"
   ]
  },
  {
   "cell_type": "code",
   "execution_count": null,
   "metadata": {},
   "outputs": [],
   "source": [
    "bbox_search = BBoxSimilaritySearch(learner)"
   ]
  },
  {
   "cell_type": "code",
   "execution_count": null,
   "metadata": {},
   "outputs": [],
   "source": [
    "img = tfms(PImage.open(\"images/000000008021-head.jpg\"))\n",
    "target = tfms(PImage.open(\"images/000000004134.jpg\"))\n",
    "with torch.no_grad():\n",
    "    candidates = bbox_search(img, target)\n",
    "display(*candidates)"
   ]
  }
 ],
 "metadata": {
  "kernelspec": {
   "display_name": "Python 3",
   "language": "python",
   "name": "python3"
  },
  "language_info": {
   "codemirror_mode": {
    "name": "ipython",
    "version": 3
   },
   "file_extension": ".py",
   "mimetype": "text/x-python",
   "name": "python",
   "nbconvert_exporter": "python",
   "pygments_lexer": "ipython3",
   "version": "3.7.3"
  }
 },
 "nbformat": 4,
 "nbformat_minor": 4
}
