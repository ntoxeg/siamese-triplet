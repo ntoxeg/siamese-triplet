{
 "cells": [
  {
   "cell_type": "code",
   "execution_count": null,
   "metadata": {},
   "outputs": [],
   "source": [
    "%load_ext autoreload\n",
    "%autoreload 2"
   ]
  },
  {
   "cell_type": "code",
   "execution_count": null,
   "metadata": {},
   "outputs": [],
   "source": [
    "class BBoxSimilaritySearch(nn.Module):\n",
    "    def __init__(self):\n",
    "        super().__init__()\n",
    "        \n",
    "    def forward(self, exemplar, search_target):\n",
    "        exe_embed = self.embedder(exemplar)\n",
    "        target_embed = self.embedder(search_target)\n",
    "        ans = self.searcher(exe_embed, target_embed)\n",
    "        # hmm, maybe one backbone and multiple heads?\n",
    "        # would Centernet itself work well here?\n",
    "        # concat CenterNet features with Siamese?\n",
    "        # recurrent bbox controller?\n",
    "        #  adaptive computation time?\n",
    "        # higher order training?\n",
    "        \n",
    "        return x1, y1, x2, y2"
   ]
  }
 ],
 "metadata": {
  "kernelspec": {
   "display_name": "Python 3",
   "language": "python",
   "name": "python3"
  },
  "language_info": {
   "codemirror_mode": {
    "name": "ipython",
    "version": 3
   },
   "file_extension": ".py",
   "mimetype": "text/x-python",
   "name": "python",
   "nbconvert_exporter": "python",
   "pygments_lexer": "ipython3",
   "version": "3.7.3"
  }
 },
 "nbformat": 4,
 "nbformat_minor": 4
}
