{
 "cells": [
  {
   "cell_type": "code",
   "execution_count": null,
   "metadata": {},
   "outputs": [],
   "source": [
    "%load_ext autoreload\n",
    "%autoreload 2"
   ]
  },
  {
   "cell_type": "code",
   "execution_count": null,
   "metadata": {},
   "outputs": [],
   "source": [
    "class BBoxSimilaritySearch(nn.Module):\n",
    "    def __init__(self, learner):\n",
    "        super().__init__()\n",
    "        self.learner = learner\n",
    "        \n",
    "    def forward(self, exemplar, search_target, n=5):\n",
    "#         exe_embed = self.embedder(exemplar)\n",
    "#         target_embed = self.embedder(search_target)\n",
    "#         ans = self.searcher(exe_embed, target_embed)\n",
    "        # hmm, maybe one backbone and multiple heads?\n",
    "        # would Centernet itself work well here?\n",
    "        # concat CenterNet features with Siamese?\n",
    "        # recurrent bbox controller?\n",
    "        #  adaptive computation time?\n",
    "        # higher order training?\n",
    "        w, h = exemplar.size(2), exemplar.size(1)\n",
    "        windows = [(x, y, x+w, y+h) for x, y in zip(range(0, search_target.size(1), w), range(0, search_target.size(2), h))]\n",
    "        crops = list(map(lambda bbox: search_target.crop(bbox), windows))\n",
    "        candidates = find_nneighbours(self.learner, exemplar, crops, n=n)\n",
    "        \n",
    "        return candidates"
   ]
  },
  {
   "cell_type": "code",
   "execution_count": null,
   "metadata": {},
   "outputs": [],
   "source": []
  }
 ],
 "metadata": {
  "kernelspec": {
   "display_name": "Python 3",
   "language": "python",
   "name": "python3"
  },
  "language_info": {
   "codemirror_mode": {
    "name": "ipython",
    "version": 3
   },
   "file_extension": ".py",
   "mimetype": "text/x-python",
   "name": "python",
   "nbconvert_exporter": "python",
   "pygments_lexer": "ipython3",
   "version": "3.6.7"
  }
 },
 "nbformat": 4,
 "nbformat_minor": 4
}
